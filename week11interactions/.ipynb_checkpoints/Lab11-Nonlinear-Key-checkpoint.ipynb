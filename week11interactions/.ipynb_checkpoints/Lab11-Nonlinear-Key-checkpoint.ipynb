{
 "cells": [
  {
   "cell_type": "markdown",
   "id": "5bd6e578",
   "metadata": {},
   "source": [
    "# PS 88 Lab 11 - Nonlinear and Interactive Relationships\n",
    "\n",
    "We will explore both of the themes this week using a <a href=\"https://www.pnas.org/doi/10.1073/pnas.2116851119#executive-summary-abstract\">fascinating recent paper</a> about support for political violece in the United States. \n"
   ]
  },
  {
   "cell_type": "markdown",
   "id": "3018694a",
   "metadata": {},
   "source": [
    "## Part 1: Theory and initial findings\n",
    "\n",
    "We can motivate this paper with a quick callback to the game theory section of the class. Suppose two political actors can choose whether or not to use violence, with the following payoffs:"
   ]
  },
  {
   "cell_type": "markdown",
   "id": "c3905e3c",
   "metadata": {},
   "source": [
    "|          | B Violent | B Nonviolent     | \n",
    "|----------|----------|--------------|\n",
    "| A Violent |    0,0    |   1,-1        |  \n",
    "| A Nonviolent |    -1,1   |   2,2      |  \n"
   ]
  },
  {
   "cell_type": "markdown",
   "id": "3c0e6bc2",
   "metadata": {},
   "source": [
    "**Question 1.1. What are the Nash Equilibria to this game? Given the equilibria, what can we say about how player A's expectations for whether B is violent affect A's best response?**"
   ]
  },
  {
   "cell_type": "markdown",
   "id": "ed1b5526",
   "metadata": {},
   "source": [
    "If B chooses violent, the best repsonse for A is Violent. If B chooses nonviolent, the best resposne for A is nonviolent. The same is true for B: the best response is to match the action of A. So both playing Violent is a NE, as is both playing Nonviolent. \n",
    "\n",
    "Given these equilira, when A expects B to be more likely to use violence, A will be more apt to choose violence. "
   ]
  },
  {
   "cell_type": "markdown",
   "id": "ab310ad5",
   "metadata": {},
   "source": [
    "From this we might expect that individuals who think their political opponents are apt to use violence may be more apt to use violence themselves. We can check if this is true in the United States using data from Mernyk et al."
   ]
  },
  {
   "cell_type": "code",
   "execution_count": 1,
   "id": "a604e23d",
   "metadata": {},
   "outputs": [],
   "source": [
    "import numpy as np\n",
    "import seaborn as sns\n",
    "import statsmodels.formula.api as smf\n",
    "import pandas as pd\n",
    "import matplotlib.pyplot as plt\n",
    "%matplotlib inline"
   ]
  },
  {
   "cell_type": "code",
   "execution_count": 2,
   "id": "c8956b1f",
   "metadata": {},
   "outputs": [
    {
     "data": {
      "text/html": [
       "<div>\n",
       "<style scoped>\n",
       "    .dataframe tbody tr th:only-of-type {\n",
       "        vertical-align: middle;\n",
       "    }\n",
       "\n",
       "    .dataframe tbody tr th {\n",
       "        vertical-align: top;\n",
       "    }\n",
       "\n",
       "    .dataframe thead th {\n",
       "        text-align: right;\n",
       "    }\n",
       "</style>\n",
       "<table border=\"1\" class=\"dataframe\">\n",
       "  <thead>\n",
       "    <tr style=\"text-align: right;\">\n",
       "      <th></th>\n",
       "      <th>Unnamed: 0</th>\n",
       "      <th>ResponseId</th>\n",
       "      <th>Duration (in seconds)</th>\n",
       "      <th>party</th>\n",
       "      <th>party_4_TEXT</th>\n",
       "      <th>anes_rep</th>\n",
       "      <th>anes_dem</th>\n",
       "      <th>anes_ind</th>\n",
       "      <th>anes_ind_force</th>\n",
       "      <th>SPV_1_meta_out_2</th>\n",
       "      <th>...</th>\n",
       "      <th>ft_in</th>\n",
       "      <th>ft_diff</th>\n",
       "      <th>out_violence</th>\n",
       "      <th>in_violence</th>\n",
       "      <th>gender</th>\n",
       "      <th>age</th>\n",
       "      <th>stren</th>\n",
       "      <th>Education</th>\n",
       "      <th>Race</th>\n",
       "      <th>SPV_meta_over</th>\n",
       "    </tr>\n",
       "  </thead>\n",
       "  <tbody>\n",
       "    <tr>\n",
       "      <th>0</th>\n",
       "      <td>1</td>\n",
       "      <td>R_ZL9vwpdnShTaDQZ</td>\n",
       "      <td>723</td>\n",
       "      <td>1</td>\n",
       "      <td>NaN</td>\n",
       "      <td>1.0</td>\n",
       "      <td>NaN</td>\n",
       "      <td>NaN</td>\n",
       "      <td>NaN</td>\n",
       "      <td>42</td>\n",
       "      <td>...</td>\n",
       "      <td>90.0</td>\n",
       "      <td>90.0</td>\n",
       "      <td>64.0</td>\n",
       "      <td>0.0</td>\n",
       "      <td>Female</td>\n",
       "      <td>35.0</td>\n",
       "      <td>Strong</td>\n",
       "      <td>Some college</td>\n",
       "      <td>white</td>\n",
       "      <td>30.95</td>\n",
       "    </tr>\n",
       "    <tr>\n",
       "      <th>1</th>\n",
       "      <td>2</td>\n",
       "      <td>R_0SBYm4c9zGbz3nX</td>\n",
       "      <td>1438</td>\n",
       "      <td>1</td>\n",
       "      <td>NaN</td>\n",
       "      <td>2.0</td>\n",
       "      <td>NaN</td>\n",
       "      <td>NaN</td>\n",
       "      <td>NaN</td>\n",
       "      <td>15</td>\n",
       "      <td>...</td>\n",
       "      <td>77.0</td>\n",
       "      <td>49.0</td>\n",
       "      <td>60.0</td>\n",
       "      <td>75.0</td>\n",
       "      <td>Female</td>\n",
       "      <td>33.0</td>\n",
       "      <td>Not strong</td>\n",
       "      <td>Some college</td>\n",
       "      <td>hispanic</td>\n",
       "      <td>1.45</td>\n",
       "    </tr>\n",
       "    <tr>\n",
       "      <th>2</th>\n",
       "      <td>3</td>\n",
       "      <td>R_1NwCpEgdTKORAGb</td>\n",
       "      <td>626</td>\n",
       "      <td>1</td>\n",
       "      <td>NaN</td>\n",
       "      <td>1.0</td>\n",
       "      <td>NaN</td>\n",
       "      <td>NaN</td>\n",
       "      <td>NaN</td>\n",
       "      <td>0</td>\n",
       "      <td>...</td>\n",
       "      <td>100.0</td>\n",
       "      <td>100.0</td>\n",
       "      <td>83.0</td>\n",
       "      <td>60.0</td>\n",
       "      <td>Female</td>\n",
       "      <td>36.0</td>\n",
       "      <td>Strong</td>\n",
       "      <td>Some college</td>\n",
       "      <td>white</td>\n",
       "      <td>4.20</td>\n",
       "    </tr>\n",
       "    <tr>\n",
       "      <th>3</th>\n",
       "      <td>4</td>\n",
       "      <td>R_22M4iiZjP2Gjh5k</td>\n",
       "      <td>441</td>\n",
       "      <td>2</td>\n",
       "      <td>NaN</td>\n",
       "      <td>NaN</td>\n",
       "      <td>1.0</td>\n",
       "      <td>NaN</td>\n",
       "      <td>NaN</td>\n",
       "      <td>99</td>\n",
       "      <td>...</td>\n",
       "      <td>100.0</td>\n",
       "      <td>100.0</td>\n",
       "      <td>91.0</td>\n",
       "      <td>0.0</td>\n",
       "      <td>Female</td>\n",
       "      <td>23.0</td>\n",
       "      <td>Strong</td>\n",
       "      <td>Bachelors</td>\n",
       "      <td>white</td>\n",
       "      <td>83.95</td>\n",
       "    </tr>\n",
       "    <tr>\n",
       "      <th>4</th>\n",
       "      <td>5</td>\n",
       "      <td>R_1nPkzbZcBVcyztz</td>\n",
       "      <td>465</td>\n",
       "      <td>1</td>\n",
       "      <td>NaN</td>\n",
       "      <td>1.0</td>\n",
       "      <td>NaN</td>\n",
       "      <td>NaN</td>\n",
       "      <td>NaN</td>\n",
       "      <td>78</td>\n",
       "      <td>...</td>\n",
       "      <td>100.0</td>\n",
       "      <td>76.0</td>\n",
       "      <td>68.0</td>\n",
       "      <td>0.0</td>\n",
       "      <td>Female</td>\n",
       "      <td>32.0</td>\n",
       "      <td>Strong</td>\n",
       "      <td>HS or less</td>\n",
       "      <td>white</td>\n",
       "      <td>69.70</td>\n",
       "    </tr>\n",
       "    <tr>\n",
       "      <th>...</th>\n",
       "      <td>...</td>\n",
       "      <td>...</td>\n",
       "      <td>...</td>\n",
       "      <td>...</td>\n",
       "      <td>...</td>\n",
       "      <td>...</td>\n",
       "      <td>...</td>\n",
       "      <td>...</td>\n",
       "      <td>...</td>\n",
       "      <td>...</td>\n",
       "      <td>...</td>\n",
       "      <td>...</td>\n",
       "      <td>...</td>\n",
       "      <td>...</td>\n",
       "      <td>...</td>\n",
       "      <td>...</td>\n",
       "      <td>...</td>\n",
       "      <td>...</td>\n",
       "      <td>...</td>\n",
       "      <td>...</td>\n",
       "      <td>...</td>\n",
       "    </tr>\n",
       "    <tr>\n",
       "      <th>647</th>\n",
       "      <td>648</td>\n",
       "      <td>R_z5NaErksLj2oRVf</td>\n",
       "      <td>3451</td>\n",
       "      <td>1</td>\n",
       "      <td>NaN</td>\n",
       "      <td>1.0</td>\n",
       "      <td>NaN</td>\n",
       "      <td>NaN</td>\n",
       "      <td>NaN</td>\n",
       "      <td>81</td>\n",
       "      <td>...</td>\n",
       "      <td>80.0</td>\n",
       "      <td>50.0</td>\n",
       "      <td>0.0</td>\n",
       "      <td>0.0</td>\n",
       "      <td>Female</td>\n",
       "      <td>35.0</td>\n",
       "      <td>Strong</td>\n",
       "      <td>HS or less</td>\n",
       "      <td>white</td>\n",
       "      <td>69.20</td>\n",
       "    </tr>\n",
       "    <tr>\n",
       "      <th>648</th>\n",
       "      <td>649</td>\n",
       "      <td>R_UsX2dCvI81JX6Lv</td>\n",
       "      <td>240</td>\n",
       "      <td>2</td>\n",
       "      <td>NaN</td>\n",
       "      <td>NaN</td>\n",
       "      <td>1.0</td>\n",
       "      <td>NaN</td>\n",
       "      <td>NaN</td>\n",
       "      <td>34</td>\n",
       "      <td>...</td>\n",
       "      <td>66.0</td>\n",
       "      <td>56.0</td>\n",
       "      <td>6.0</td>\n",
       "      <td>7.0</td>\n",
       "      <td>Male</td>\n",
       "      <td>36.0</td>\n",
       "      <td>Strong</td>\n",
       "      <td>Graduate</td>\n",
       "      <td>white</td>\n",
       "      <td>25.70</td>\n",
       "    </tr>\n",
       "    <tr>\n",
       "      <th>649</th>\n",
       "      <td>650</td>\n",
       "      <td>R_2zTixMkIU4ysUXf</td>\n",
       "      <td>267</td>\n",
       "      <td>2</td>\n",
       "      <td>NaN</td>\n",
       "      <td>NaN</td>\n",
       "      <td>1.0</td>\n",
       "      <td>NaN</td>\n",
       "      <td>NaN</td>\n",
       "      <td>83</td>\n",
       "      <td>...</td>\n",
       "      <td>100.0</td>\n",
       "      <td>100.0</td>\n",
       "      <td>0.0</td>\n",
       "      <td>0.0</td>\n",
       "      <td>Female</td>\n",
       "      <td>33.0</td>\n",
       "      <td>Strong</td>\n",
       "      <td>Some college</td>\n",
       "      <td>black</td>\n",
       "      <td>51.45</td>\n",
       "    </tr>\n",
       "    <tr>\n",
       "      <th>650</th>\n",
       "      <td>651</td>\n",
       "      <td>R_1NDN8yYOM2SXbj4</td>\n",
       "      <td>425</td>\n",
       "      <td>2</td>\n",
       "      <td>NaN</td>\n",
       "      <td>NaN</td>\n",
       "      <td>1.0</td>\n",
       "      <td>NaN</td>\n",
       "      <td>NaN</td>\n",
       "      <td>0</td>\n",
       "      <td>...</td>\n",
       "      <td>91.0</td>\n",
       "      <td>70.0</td>\n",
       "      <td>13.0</td>\n",
       "      <td>3.0</td>\n",
       "      <td>Female</td>\n",
       "      <td>30.0</td>\n",
       "      <td>Strong</td>\n",
       "      <td>Graduate</td>\n",
       "      <td>white</td>\n",
       "      <td>-10.30</td>\n",
       "    </tr>\n",
       "    <tr>\n",
       "      <th>651</th>\n",
       "      <td>652</td>\n",
       "      <td>R_24nE8t7Ln9hufE7</td>\n",
       "      <td>328</td>\n",
       "      <td>2</td>\n",
       "      <td>NaN</td>\n",
       "      <td>NaN</td>\n",
       "      <td>1.0</td>\n",
       "      <td>NaN</td>\n",
       "      <td>NaN</td>\n",
       "      <td>65</td>\n",
       "      <td>...</td>\n",
       "      <td>75.0</td>\n",
       "      <td>50.0</td>\n",
       "      <td>75.0</td>\n",
       "      <td>25.0</td>\n",
       "      <td>Female</td>\n",
       "      <td>33.0</td>\n",
       "      <td>Strong</td>\n",
       "      <td>Graduate</td>\n",
       "      <td>white</td>\n",
       "      <td>37.45</td>\n",
       "    </tr>\n",
       "  </tbody>\n",
       "</table>\n",
       "<p>652 rows × 71 columns</p>\n",
       "</div>"
      ],
      "text/plain": [
       "     Unnamed: 0         ResponseId  Duration (in seconds)  party  \\\n",
       "0             1  R_ZL9vwpdnShTaDQZ                    723      1   \n",
       "1             2  R_0SBYm4c9zGbz3nX                   1438      1   \n",
       "2             3  R_1NwCpEgdTKORAGb                    626      1   \n",
       "3             4  R_22M4iiZjP2Gjh5k                    441      2   \n",
       "4             5  R_1nPkzbZcBVcyztz                    465      1   \n",
       "..          ...                ...                    ...    ...   \n",
       "647         648  R_z5NaErksLj2oRVf                   3451      1   \n",
       "648         649  R_UsX2dCvI81JX6Lv                    240      2   \n",
       "649         650  R_2zTixMkIU4ysUXf                    267      2   \n",
       "650         651  R_1NDN8yYOM2SXbj4                    425      2   \n",
       "651         652  R_24nE8t7Ln9hufE7                    328      2   \n",
       "\n",
       "     party_4_TEXT  anes_rep  anes_dem  anes_ind  anes_ind_force  \\\n",
       "0             NaN       1.0       NaN       NaN             NaN   \n",
       "1             NaN       2.0       NaN       NaN             NaN   \n",
       "2             NaN       1.0       NaN       NaN             NaN   \n",
       "3             NaN       NaN       1.0       NaN             NaN   \n",
       "4             NaN       1.0       NaN       NaN             NaN   \n",
       "..            ...       ...       ...       ...             ...   \n",
       "647           NaN       1.0       NaN       NaN             NaN   \n",
       "648           NaN       NaN       1.0       NaN             NaN   \n",
       "649           NaN       NaN       1.0       NaN             NaN   \n",
       "650           NaN       NaN       1.0       NaN             NaN   \n",
       "651           NaN       NaN       1.0       NaN             NaN   \n",
       "\n",
       "     SPV_1_meta_out_2  ...  ft_in  ft_diff  out_violence  in_violence  gender  \\\n",
       "0                  42  ...   90.0     90.0          64.0          0.0  Female   \n",
       "1                  15  ...   77.0     49.0          60.0         75.0  Female   \n",
       "2                   0  ...  100.0    100.0          83.0         60.0  Female   \n",
       "3                  99  ...  100.0    100.0          91.0          0.0  Female   \n",
       "4                  78  ...  100.0     76.0          68.0          0.0  Female   \n",
       "..                ...  ...    ...      ...           ...          ...     ...   \n",
       "647                81  ...   80.0     50.0           0.0          0.0  Female   \n",
       "648                34  ...   66.0     56.0           6.0          7.0    Male   \n",
       "649                83  ...  100.0    100.0           0.0          0.0  Female   \n",
       "650                 0  ...   91.0     70.0          13.0          3.0  Female   \n",
       "651                65  ...   75.0     50.0          75.0         25.0  Female   \n",
       "\n",
       "      age       stren     Education      Race  SPV_meta_over  \n",
       "0    35.0      Strong  Some college     white          30.95  \n",
       "1    33.0  Not strong  Some college  hispanic           1.45  \n",
       "2    36.0      Strong  Some college     white           4.20  \n",
       "3    23.0      Strong     Bachelors     white          83.95  \n",
       "4    32.0      Strong    HS or less     white          69.70  \n",
       "..    ...         ...           ...       ...            ...  \n",
       "647  35.0      Strong    HS or less     white          69.20  \n",
       "648  36.0      Strong      Graduate     white          25.70  \n",
       "649  33.0      Strong  Some college     black          51.45  \n",
       "650  30.0      Strong      Graduate     white         -10.30  \n",
       "651  33.0      Strong      Graduate     white          37.45  \n",
       "\n",
       "[652 rows x 71 columns]"
      ]
     },
     "execution_count": 2,
     "metadata": {},
     "output_type": "execute_result"
    }
   ],
   "source": [
    "spv = pd.read_csv(\"SPV_cleaned.csv\")\n",
    "spv"
   ]
  },
  {
   "cell_type": "markdown",
   "id": "5f3c059a",
   "metadata": {},
   "source": [
    "The authors did a survey which also involved an experiment that we will look at in part 2. First we will do some basic analysis of support for political violence in light of the theory above. \n",
    "\n",
    "In the survey, respondents were asked which party they supported, and we will focus on people who support the Democratic or Republican party (i.e., we won't include independents). Respondents were asked four questions that were meant to tap into their *Support For Political Violence* (SPV), from which they make an index which ranges from 0 to 100, where higher numbers mean more support for violence. \n",
    "\n",
    "For example, in one of these questions Democrats were then asked questions like \"How much do you feel it is justified for Democrats to use violence in advancing their political goals these days?” Republicans were asked the same question but with \"Republicans\" replacing \"Democrats\". \n",
    "\n",
    "The authors then asked respondents how they thought *others* would answer questions like this. We will focus on the \"out-group metaperception\", which is their best guess of the average SPV of people in the other party.\n",
    "\n",
    "To summarize, the first variables we will study are:\n",
    "- `SPV_self`: the individual's own SPV measured on a scale from 0-100\n",
    "- `SPV_meta_out`: the guess about the average SPV among those in the other party\n",
    "\n",
    "Let's take a look at the histogram of actual SPV:"
   ]
  },
  {
   "cell_type": "code",
   "execution_count": 3,
   "id": "707326ab",
   "metadata": {},
   "outputs": [
    {
     "data": {
      "text/plain": [
       "array([[<AxesSubplot:title={'center':'SPV_self'}>]], dtype=object)"
      ]
     },
     "execution_count": 3,
     "metadata": {},
     "output_type": "execute_result"
    },
    {
     "data": {
      "image/png": "[encoded data removed]",
      "text/plain": [
       "<Figure size 432x288 with 1 Axes>"
      ]
     },
     "metadata": {
      "needs_background": "light"
     },
     "output_type": "display_data"
    }
   ],
   "source": [
    "spv.hist('SPV_self')"
   ]
  },
  {
   "cell_type": "markdown",
   "id": "d53984eb",
   "metadata": {},
   "source": [
    "SPV might be different among the two parties. Recall we can use `smf.ols` to run a bivariate regression which is essentially a difference of means. The party of the individual is given by the \"party\" variable, which is coded as 1 for Republicans and 2 for Democrats. To make this easier to interpret let's create a variable called \"dem\" for Democrats:\n"
   ]
  },
  {
   "cell_type": "code",
   "execution_count": 4,
   "id": "9b98d383",
   "metadata": {},
   "outputs": [],
   "source": [
    "spv['dem'] = np.where(spv['party']==2,1,0)"
   ]
  },
  {
   "cell_type": "markdown",
   "id": "839dd8a8",
   "metadata": {},
   "source": [
    "Now we can run the following regression:"
   ]
  },
  {
   "cell_type": "code",
   "execution_count": 5,
   "id": "97df1289",
   "metadata": {},
   "outputs": [
    {
     "data": {
      "text/html": [
       "<table class=\"simpletable\">\n",
       "<caption>OLS Regression Results</caption>\n",
       "<tr>\n",
       "  <th>Dep. Variable:</th>        <td>SPV_self</td>     <th>  R-squared:         </th> <td>   0.003</td>\n",
       "</tr>\n",
       "<tr>\n",
       "  <th>Model:</th>                   <td>OLS</td>       <th>  Adj. R-squared:    </th> <td>   0.001</td>\n",
       "</tr>\n",
       "<tr>\n",
       "  <th>Method:</th>             <td>Least Squares</td>  <th>  F-statistic:       </th> <td>   1.726</td>\n",
       "</tr>\n",
       "<tr>\n",
       "  <th>Date:</th>             <td>Mon, 11 Nov 2024</td> <th>  Prob (F-statistic):</th>  <td> 0.189</td> \n",
       "</tr>\n",
       "<tr>\n",
       "  <th>Time:</th>                 <td>11:40:03</td>     <th>  Log-Likelihood:    </th> <td> -2632.6</td>\n",
       "</tr>\n",
       "<tr>\n",
       "  <th>No. Observations:</th>      <td>   652</td>      <th>  AIC:               </th> <td>   5269.</td>\n",
       "</tr>\n",
       "<tr>\n",
       "  <th>Df Residuals:</th>          <td>   650</td>      <th>  BIC:               </th> <td>   5278.</td>\n",
       "</tr>\n",
       "<tr>\n",
       "  <th>Df Model:</th>              <td>     1</td>      <th>                     </th>     <td> </td>   \n",
       "</tr>\n",
       "<tr>\n",
       "  <th>Covariance Type:</th>      <td>nonrobust</td>    <th>                     </th>     <td> </td>   \n",
       "</tr>\n",
       "</table>\n",
       "<table class=\"simpletable\">\n",
       "<tr>\n",
       "      <td></td>         <th>coef</th>     <th>std err</th>      <th>t</th>      <th>P>|t|</th>  <th>[0.025</th>    <th>0.975]</th>  \n",
       "</tr>\n",
       "<tr>\n",
       "  <th>Intercept</th> <td>    6.0752</td> <td>    0.757</td> <td>    8.020</td> <td> 0.000</td> <td>    4.588</td> <td>    7.563</td>\n",
       "</tr>\n",
       "<tr>\n",
       "  <th>dem</th>       <td>    1.4139</td> <td>    1.076</td> <td>    1.314</td> <td> 0.189</td> <td>   -0.699</td> <td>    3.527</td>\n",
       "</tr>\n",
       "</table>\n",
       "<table class=\"simpletable\">\n",
       "<tr>\n",
       "  <th>Omnibus:</th>       <td>487.803</td> <th>  Durbin-Watson:     </th> <td>   2.038</td>\n",
       "</tr>\n",
       "<tr>\n",
       "  <th>Prob(Omnibus):</th> <td> 0.000</td>  <th>  Jarque-Bera (JB):  </th> <td>6083.694</td>\n",
       "</tr>\n",
       "<tr>\n",
       "  <th>Skew:</th>          <td> 3.372</td>  <th>  Prob(JB):          </th> <td>    0.00</td>\n",
       "</tr>\n",
       "<tr>\n",
       "  <th>Kurtosis:</th>      <td>16.359</td>  <th>  Cond. No.          </th> <td>    2.61</td>\n",
       "</tr>\n",
       "</table><br/><br/>Notes:<br/>[1] Standard Errors assume that the covariance matrix of the errors is correctly specified."
      ],
      "text/plain": [
       "<class 'statsmodels.iolib.summary.Summary'>\n",
       "\"\"\"\n",
       "                            OLS Regression Results                            \n",
       "==============================================================================\n",
       "Dep. Variable:               SPV_self   R-squared:                       0.003\n",
       "Model:                            OLS   Adj. R-squared:                  0.001\n",
       "Method:                 Least Squares   F-statistic:                     1.726\n",
       "Date:                Mon, 11 Nov 2024   Prob (F-statistic):              0.189\n",
       "Time:                        11:40:03   Log-Likelihood:                -2632.6\n",
       "No. Observations:                 652   AIC:                             5269.\n",
       "Df Residuals:                     650   BIC:                             5278.\n",
       "Df Model:                           1                                         \n",
       "Covariance Type:            nonrobust                                         \n",
       "==============================================================================\n",
       "                 coef    std err          t      P>|t|      [0.025      0.975]\n",
       "------------------------------------------------------------------------------\n",
       "Intercept      6.0752      0.757      8.020      0.000       4.588       7.563\n",
       "dem            1.4139      1.076      1.314      0.189      -0.699       3.527\n",
       "==============================================================================\n",
       "Omnibus:                      487.803   Durbin-Watson:                   2.038\n",
       "Prob(Omnibus):                  0.000   Jarque-Bera (JB):             6083.694\n",
       "Skew:                           3.372   Prob(JB):                         0.00\n",
       "Kurtosis:                      16.359   Cond. No.                         2.61\n",
       "==============================================================================\n",
       "\n",
       "Notes:\n",
       "[1] Standard Errors assume that the covariance matrix of the errors is correctly specified.\n",
       "\"\"\""
      ]
     },
     "execution_count": 5,
     "metadata": {},
     "output_type": "execute_result"
    }
   ],
   "source": [
    "smf.ols(\"SPV_self ~ dem\", data=spv).fit().summary()"
   ]
  },
  {
   "cell_type": "markdown",
   "id": "d0f801e2",
   "metadata": {},
   "source": [
    "Which tells us that the average Democrat in this survey reports about 1.4 points more SPV on the 100 point scale. However, this is a small difference, and not much bigger than a standard error, so this may just be driven by random noise. Moving forward we will assume there aren't major differences among the parties on this variable."
   ]
  },
  {
   "cell_type": "markdown",
   "id": "26b37f55",
   "metadata": {},
   "source": [
    "**Question 1.2. Make a histogram of the perceived SPV of the other party. Compare this to the histogram of actual reported SPV: do respondents have a good sense of the other parties support for political violence (if it isn't obvious from the histogram compare the average of these variables)?**"
   ]
  },
  {
   "cell_type": "code",
   "execution_count": 9,
   "id": "87e2f525",
   "metadata": {},
   "outputs": [
    {
     "data": {
      "text/plain": [
       "(46.8454754601227, 6.77569018404908)"
      ]
     },
     "execution_count": 9,
     "metadata": {},
     "output_type": "execute_result"
    },
    {
     "data": {
      "image/png": "[encoded data removed]",
      "text/plain": [
       "<Figure size 432x288 with 1 Axes>"
      ]
     },
     "metadata": {
      "needs_background": "light"
     },
     "output_type": "display_data"
    }
   ],
   "source": [
    "# Code for 1.2\n",
    "spv.hist('SPV_meta_out')\n",
    "np.mean(spv['SPV_meta_out']),np.mean(spv['SPV_self']) "
   ]
  },
  {
   "cell_type": "markdown",
   "id": "4c2c451a",
   "metadata": {},
   "source": [
    "The perceived SPV of others is way higher than the truth: averaging around 47, while the truth is below 7."
   ]
  },
  {
   "cell_type": "markdown",
   "id": "583877d6",
   "metadata": {},
   "source": [
    "**Question 1.3. Fit and summarize a regression to see if the expected outparty SPV is higher or lower among Democrats.**"
   ]
  },
  {
   "cell_type": "code",
   "execution_count": 10,
   "id": "c49774d5",
   "metadata": {},
   "outputs": [
    {
     "data": {
      "text/html": [
       "<table class=\"simpletable\">\n",
       "<caption>OLS Regression Results</caption>\n",
       "<tr>\n",
       "  <th>Dep. Variable:</th>      <td>SPV_meta_out</td>   <th>  R-squared:         </th> <td>   0.007</td>\n",
       "</tr>\n",
       "<tr>\n",
       "  <th>Model:</th>                   <td>OLS</td>       <th>  Adj. R-squared:    </th> <td>   0.005</td>\n",
       "</tr>\n",
       "<tr>\n",
       "  <th>Method:</th>             <td>Least Squares</td>  <th>  F-statistic:       </th> <td>   4.308</td>\n",
       "</tr>\n",
       "<tr>\n",
       "  <th>Date:</th>             <td>Mon, 11 Nov 2024</td> <th>  Prob (F-statistic):</th>  <td>0.0383</td> \n",
       "</tr>\n",
       "<tr>\n",
       "  <th>Time:</th>                 <td>11:44:57</td>     <th>  Log-Likelihood:    </th> <td> -3098.2</td>\n",
       "</tr>\n",
       "<tr>\n",
       "  <th>No. Observations:</th>      <td>   652</td>      <th>  AIC:               </th> <td>   6200.</td>\n",
       "</tr>\n",
       "<tr>\n",
       "  <th>Df Residuals:</th>          <td>   650</td>      <th>  BIC:               </th> <td>   6209.</td>\n",
       "</tr>\n",
       "<tr>\n",
       "  <th>Df Model:</th>              <td>     1</td>      <th>                     </th>     <td> </td>   \n",
       "</tr>\n",
       "<tr>\n",
       "  <th>Covariance Type:</th>      <td>nonrobust</td>    <th>                     </th>     <td> </td>   \n",
       "</tr>\n",
       "</table>\n",
       "<table class=\"simpletable\">\n",
       "<tr>\n",
       "      <td></td>         <th>coef</th>     <th>std err</th>      <th>t</th>      <th>P>|t|</th>  <th>[0.025</th>    <th>0.975]</th>  \n",
       "</tr>\n",
       "<tr>\n",
       "  <th>Intercept</th> <td>   49.1056</td> <td>    1.547</td> <td>   31.740</td> <td> 0.000</td> <td>   46.068</td> <td>   52.144</td>\n",
       "</tr>\n",
       "<tr>\n",
       "  <th>dem</th>       <td>   -4.5623</td> <td>    2.198</td> <td>   -2.076</td> <td> 0.038</td> <td>   -8.879</td> <td>   -0.246</td>\n",
       "</tr>\n",
       "</table>\n",
       "<table class=\"simpletable\">\n",
       "<tr>\n",
       "  <th>Omnibus:</th>       <td>199.866</td> <th>  Durbin-Watson:     </th> <td>   2.133</td>\n",
       "</tr>\n",
       "<tr>\n",
       "  <th>Prob(Omnibus):</th> <td> 0.000</td>  <th>  Jarque-Bera (JB):  </th> <td>  31.476</td>\n",
       "</tr>\n",
       "<tr>\n",
       "  <th>Skew:</th>          <td> 0.025</td>  <th>  Prob(JB):          </th> <td>1.46e-07</td>\n",
       "</tr>\n",
       "<tr>\n",
       "  <th>Kurtosis:</th>      <td> 1.925</td>  <th>  Cond. No.          </th> <td>    2.61</td>\n",
       "</tr>\n",
       "</table><br/><br/>Notes:<br/>[1] Standard Errors assume that the covariance matrix of the errors is correctly specified."
      ],
      "text/plain": [
       "<class 'statsmodels.iolib.summary.Summary'>\n",
       "\"\"\"\n",
       "                            OLS Regression Results                            \n",
       "==============================================================================\n",
       "Dep. Variable:           SPV_meta_out   R-squared:                       0.007\n",
       "Model:                            OLS   Adj. R-squared:                  0.005\n",
       "Method:                 Least Squares   F-statistic:                     4.308\n",
       "Date:                Mon, 11 Nov 2024   Prob (F-statistic):             0.0383\n",
       "Time:                        11:44:57   Log-Likelihood:                -3098.2\n",
       "No. Observations:                 652   AIC:                             6200.\n",
       "Df Residuals:                     650   BIC:                             6209.\n",
       "Df Model:                           1                                         \n",
       "Covariance Type:            nonrobust                                         \n",
       "==============================================================================\n",
       "                 coef    std err          t      P>|t|      [0.025      0.975]\n",
       "------------------------------------------------------------------------------\n",
       "Intercept     49.1056      1.547     31.740      0.000      46.068      52.144\n",
       "dem           -4.5623      2.198     -2.076      0.038      -8.879      -0.246\n",
       "==============================================================================\n",
       "Omnibus:                      199.866   Durbin-Watson:                   2.133\n",
       "Prob(Omnibus):                  0.000   Jarque-Bera (JB):               31.476\n",
       "Skew:                           0.025   Prob(JB):                     1.46e-07\n",
       "Kurtosis:                       1.925   Cond. No.                         2.61\n",
       "==============================================================================\n",
       "\n",
       "Notes:\n",
       "[1] Standard Errors assume that the covariance matrix of the errors is correctly specified.\n",
       "\"\"\""
      ]
     },
     "execution_count": 10,
     "metadata": {},
     "output_type": "execute_result"
    }
   ],
   "source": [
    "smf.ols('SPV_meta_out ~ dem', data=spv).fit().summary()"
   ]
  },
  {
   "cell_type": "markdown",
   "id": "def9a19b",
   "metadata": {},
   "source": [
    "Democrats have a moderately lower expectation about the outgroup SPV, a difference of nearly 5 points. So it appears that Republicans think that the outparty has a higher support for violence."
   ]
  },
  {
   "cell_type": "markdown",
   "id": "d824d919",
   "metadata": {},
   "source": [
    "Another way to see this is to make a scatter plot of the self and outparty variables, along with a line where these two values are equal (or the \"45-degree line\"). Points above the line are individuals who support violence more themselves then they think the outparty does, and points below the line support violence less than they think the outparty does. "
   ]
  },
  {
   "cell_type": "code",
   "execution_count": 11,
   "id": "c28d88e1",
   "metadata": {},
   "outputs": [
    {
     "data": {
      "text/plain": [
       "[<matplotlib.lines.Line2D at 0x7f8ae8acf640>]"
      ]
     },
     "execution_count": 11,
     "metadata": {},
     "output_type": "execute_result"
    },
    {
     "data": {
      "image/png": "[encoded data removed]",
      "text/plain": [
       "<Figure size 432x288 with 1 Axes>"
      ]
     },
     "metadata": {
      "needs_background": "light"
     },
     "output_type": "display_data"
    }
   ],
   "source": [
    "sns.scatterplot(x='SPV_meta_out', y='SPV_self', data=spv)\n",
    "plt.plot([0,100],[0,100])"
   ]
  },
  {
   "cell_type": "markdown",
   "id": "498a2541",
   "metadata": {},
   "source": [
    "These differences will prove important later on, but before we get to that remember part of our initial motivation was to see if those who think their political opponents are apt to use violence are apt to use it themselves.\n",
    "\n",
    "**Question 1.4. Fit and summarize a bivariate regression with \"SPV_self\" as the dependent variable and \"SPV_meta_out\" as the independent variable. Interpret the slope. Give a reason why this might not represent a causal effect of perceptions of outparty support for violence on personal support for violence. (Hint: the explanation that makes the most sense to me involves reverse causation.)**"
   ]
  },
  {
   "cell_type": "code",
   "execution_count": 15,
   "id": "9ddc359a",
   "metadata": {},
   "outputs": [
    {
     "data": {
      "text/html": [
       "<table class=\"simpletable\">\n",
       "<caption>OLS Regression Results</caption>\n",
       "<tr>\n",
       "  <th>Dep. Variable:</th>        <td>SPV_self</td>     <th>  R-squared:         </th> <td>   0.053</td>\n",
       "</tr>\n",
       "<tr>\n",
       "  <th>Model:</th>                   <td>OLS</td>       <th>  Adj. R-squared:    </th> <td>   0.052</td>\n",
       "</tr>\n",
       "<tr>\n",
       "  <th>Method:</th>             <td>Least Squares</td>  <th>  F-statistic:       </th> <td>   36.49</td>\n",
       "</tr>\n",
       "<tr>\n",
       "  <th>Date:</th>             <td>Mon, 11 Nov 2024</td> <th>  Prob (F-statistic):</th> <td>2.58e-09</td>\n",
       "</tr>\n",
       "<tr>\n",
       "  <th>Time:</th>                 <td>12:08:59</td>     <th>  Log-Likelihood:    </th> <td> -2615.6</td>\n",
       "</tr>\n",
       "<tr>\n",
       "  <th>No. Observations:</th>      <td>   652</td>      <th>  AIC:               </th> <td>   5235.</td>\n",
       "</tr>\n",
       "<tr>\n",
       "  <th>Df Residuals:</th>          <td>   650</td>      <th>  BIC:               </th> <td>   5244.</td>\n",
       "</tr>\n",
       "<tr>\n",
       "  <th>Df Model:</th>              <td>     1</td>      <th>                     </th>     <td> </td>   \n",
       "</tr>\n",
       "<tr>\n",
       "  <th>Covariance Type:</th>      <td>nonrobust</td>    <th>                     </th>     <td> </td>   \n",
       "</tr>\n",
       "</table>\n",
       "<table class=\"simpletable\">\n",
       "<tr>\n",
       "        <td></td>          <th>coef</th>     <th>std err</th>      <th>t</th>      <th>P>|t|</th>  <th>[0.025</th>    <th>0.975]</th>  \n",
       "</tr>\n",
       "<tr>\n",
       "  <th>Intercept</th>    <td>    1.4980</td> <td>    1.019</td> <td>    1.470</td> <td> 0.142</td> <td>   -0.503</td> <td>    3.499</td>\n",
       "</tr>\n",
       "<tr>\n",
       "  <th>SPV_meta_out</th> <td>    0.1127</td> <td>    0.019</td> <td>    6.041</td> <td> 0.000</td> <td>    0.076</td> <td>    0.149</td>\n",
       "</tr>\n",
       "</table>\n",
       "<table class=\"simpletable\">\n",
       "<tr>\n",
       "  <th>Omnibus:</th>       <td>470.516</td> <th>  Durbin-Watson:     </th> <td>   2.006</td>\n",
       "</tr>\n",
       "<tr>\n",
       "  <th>Prob(Omnibus):</th> <td> 0.000</td>  <th>  Jarque-Bera (JB):  </th> <td>5651.508</td>\n",
       "</tr>\n",
       "<tr>\n",
       "  <th>Skew:</th>          <td> 3.215</td>  <th>  Prob(JB):          </th> <td>    0.00</td>\n",
       "</tr>\n",
       "<tr>\n",
       "  <th>Kurtosis:</th>      <td>15.911</td>  <th>  Cond. No.          </th> <td>    106.</td>\n",
       "</tr>\n",
       "</table><br/><br/>Notes:<br/>[1] Standard Errors assume that the covariance matrix of the errors is correctly specified."
      ],
      "text/plain": [
       "<class 'statsmodels.iolib.summary.Summary'>\n",
       "\"\"\"\n",
       "                            OLS Regression Results                            \n",
       "==============================================================================\n",
       "Dep. Variable:               SPV_self   R-squared:                       0.053\n",
       "Model:                            OLS   Adj. R-squared:                  0.052\n",
       "Method:                 Least Squares   F-statistic:                     36.49\n",
       "Date:                Mon, 11 Nov 2024   Prob (F-statistic):           2.58e-09\n",
       "Time:                        12:08:59   Log-Likelihood:                -2615.6\n",
       "No. Observations:                 652   AIC:                             5235.\n",
       "Df Residuals:                     650   BIC:                             5244.\n",
       "Df Model:                           1                                         \n",
       "Covariance Type:            nonrobust                                         \n",
       "================================================================================\n",
       "                   coef    std err          t      P>|t|      [0.025      0.975]\n",
       "--------------------------------------------------------------------------------\n",
       "Intercept        1.4980      1.019      1.470      0.142      -0.503       3.499\n",
       "SPV_meta_out     0.1127      0.019      6.041      0.000       0.076       0.149\n",
       "==============================================================================\n",
       "Omnibus:                      470.516   Durbin-Watson:                   2.006\n",
       "Prob(Omnibus):                  0.000   Jarque-Bera (JB):             5651.508\n",
       "Skew:                           3.215   Prob(JB):                         0.00\n",
       "Kurtosis:                      15.911   Cond. No.                         106.\n",
       "==============================================================================\n",
       "\n",
       "Notes:\n",
       "[1] Standard Errors assume that the covariance matrix of the errors is correctly specified.\n",
       "\"\"\""
      ]
     },
     "execution_count": 15,
     "metadata": {},
     "output_type": "execute_result"
    }
   ],
   "source": [
    "# Code for 1.4\n",
    "smf.ols(\"SPV_self ~ SPV_meta_out\", data=spv).fit().summary()"
   ]
  },
  {
   "cell_type": "markdown",
   "id": "9f6364ab",
   "metadata": {},
   "source": [
    "As beliefs about outparty SPV increase by 1 unit, average self SPV increases about about .11. Recall the mean of self SPV is about 7 and out-party perceived SPV is around 40. So increasing beliefs about outparty SPV by 10/100 increases self-SPV by about 1, which is noteable.\n",
    "\n",
    "The theory at the start of the problem gives one reason why this could be a causal effect: if the other party is likely to turn to violence, one may want to be violent as well. But an alternative is reverse causation: those who support violence themselves may think that others support violence too."
   ]
  },
  {
   "cell_type": "markdown",
   "id": "d8895be0",
   "metadata": {},
   "source": [
    "## Part 2: Left-right ideology and SPV\n",
    "\n",
    "Above we looked at differences between Republicans and Democrats, but we also might think that those who are relatively more extreme in their ideological views will be more likely to support violence. the \"polit\" variable is a 1 to 7 point scale ranging from \"very liberal\" (1) to \"moderate\" (4) to \"very conservative\".\n",
    "\n",
    "We can check if there is a relationship between this variable and SPV visually using the regplot function:"
   ]
  },
  {
   "cell_type": "code",
   "execution_count": 16,
   "id": "fea4cd54",
   "metadata": {},
   "outputs": [
    {
     "data": {
      "text/plain": [
       "<AxesSubplot:xlabel='polit', ylabel='SPV_self'>"
      ]
     },
     "execution_count": 16,
     "metadata": {},
     "output_type": "execute_result"
    },
    {
     "data": {
      "image/png": "[encoded data removed]",
      "text/plain": [
       "<Figure size 432x288 with 1 Axes>"
      ]
     },
     "metadata": {
      "needs_background": "light"
     },
     "output_type": "display_data"
    }
   ],
   "source": [
    "sns.regplot(x=\"polit\", y=\"SPV_self\", data=spv)"
   ]
  },
  {
   "cell_type": "markdown",
   "id": "341f8931",
   "metadata": {},
   "source": [
    "**Question 2.1 Use `smf.ols` to fit and summarize a regression with \"SPV_self\" as the dependent variable and \"polit\" as the indpendent variable. Interpret the slope (hint: how would going from the lowest level of 1 to the highest level of 7 change the predicted SPV?).\"**"
   ]
  },
  {
   "cell_type": "code",
   "execution_count": 17,
   "id": "181c64d1",
   "metadata": {},
   "outputs": [
    {
     "data": {
      "text/html": [
       "<table class=\"simpletable\">\n",
       "<caption>OLS Regression Results</caption>\n",
       "<tr>\n",
       "  <th>Dep. Variable:</th>        <td>SPV_self</td>     <th>  R-squared:         </th> <td>   0.000</td>\n",
       "</tr>\n",
       "<tr>\n",
       "  <th>Model:</th>                   <td>OLS</td>       <th>  Adj. R-squared:    </th> <td>  -0.001</td>\n",
       "</tr>\n",
       "<tr>\n",
       "  <th>Method:</th>             <td>Least Squares</td>  <th>  F-statistic:       </th> <td> 0.06617</td>\n",
       "</tr>\n",
       "<tr>\n",
       "  <th>Date:</th>             <td>Mon, 11 Nov 2024</td> <th>  Prob (F-statistic):</th>  <td> 0.797</td> \n",
       "</tr>\n",
       "<tr>\n",
       "  <th>Time:</th>                 <td>12:12:02</td>     <th>  Log-Likelihood:    </th> <td> -2626.2</td>\n",
       "</tr>\n",
       "<tr>\n",
       "  <th>No. Observations:</th>      <td>   650</td>      <th>  AIC:               </th> <td>   5256.</td>\n",
       "</tr>\n",
       "<tr>\n",
       "  <th>Df Residuals:</th>          <td>   648</td>      <th>  BIC:               </th> <td>   5265.</td>\n",
       "</tr>\n",
       "<tr>\n",
       "  <th>Df Model:</th>              <td>     1</td>      <th>                     </th>     <td> </td>   \n",
       "</tr>\n",
       "<tr>\n",
       "  <th>Covariance Type:</th>      <td>nonrobust</td>    <th>                     </th>     <td> </td>   \n",
       "</tr>\n",
       "</table>\n",
       "<table class=\"simpletable\">\n",
       "<tr>\n",
       "      <td></td>         <th>coef</th>     <th>std err</th>      <th>t</th>      <th>P>|t|</th>  <th>[0.025</th>    <th>0.975]</th>  \n",
       "</tr>\n",
       "<tr>\n",
       "  <th>Intercept</th> <td>    7.0322</td> <td>    1.088</td> <td>    6.463</td> <td> 0.000</td> <td>    4.895</td> <td>    9.169</td>\n",
       "</tr>\n",
       "<tr>\n",
       "  <th>polit</th>     <td>   -0.0609</td> <td>    0.237</td> <td>   -0.257</td> <td> 0.797</td> <td>   -0.526</td> <td>    0.404</td>\n",
       "</tr>\n",
       "</table>\n",
       "<table class=\"simpletable\">\n",
       "<tr>\n",
       "  <th>Omnibus:</th>       <td>487.761</td> <th>  Durbin-Watson:     </th> <td>   2.034</td>\n",
       "</tr>\n",
       "<tr>\n",
       "  <th>Prob(Omnibus):</th> <td> 0.000</td>  <th>  Jarque-Bera (JB):  </th> <td>6132.364</td>\n",
       "</tr>\n",
       "<tr>\n",
       "  <th>Skew:</th>          <td> 3.382</td>  <th>  Prob(JB):          </th> <td>    0.00</td>\n",
       "</tr>\n",
       "<tr>\n",
       "  <th>Kurtosis:</th>      <td>16.442</td>  <th>  Cond. No.          </th> <td>    9.59</td>\n",
       "</tr>\n",
       "</table><br/><br/>Notes:<br/>[1] Standard Errors assume that the covariance matrix of the errors is correctly specified."
      ],
      "text/plain": [
       "<class 'statsmodels.iolib.summary.Summary'>\n",
       "\"\"\"\n",
       "                            OLS Regression Results                            \n",
       "==============================================================================\n",
       "Dep. Variable:               SPV_self   R-squared:                       0.000\n",
       "Model:                            OLS   Adj. R-squared:                 -0.001\n",
       "Method:                 Least Squares   F-statistic:                   0.06617\n",
       "Date:                Mon, 11 Nov 2024   Prob (F-statistic):              0.797\n",
       "Time:                        12:12:02   Log-Likelihood:                -2626.2\n",
       "No. Observations:                 650   AIC:                             5256.\n",
       "Df Residuals:                     648   BIC:                             5265.\n",
       "Df Model:                           1                                         \n",
       "Covariance Type:            nonrobust                                         \n",
       "==============================================================================\n",
       "                 coef    std err          t      P>|t|      [0.025      0.975]\n",
       "------------------------------------------------------------------------------\n",
       "Intercept      7.0322      1.088      6.463      0.000       4.895       9.169\n",
       "polit         -0.0609      0.237     -0.257      0.797      -0.526       0.404\n",
       "==============================================================================\n",
       "Omnibus:                      487.761   Durbin-Watson:                   2.034\n",
       "Prob(Omnibus):                  0.000   Jarque-Bera (JB):             6132.364\n",
       "Skew:                           3.382   Prob(JB):                         0.00\n",
       "Kurtosis:                      16.442   Cond. No.                         9.59\n",
       "==============================================================================\n",
       "\n",
       "Notes:\n",
       "[1] Standard Errors assume that the covariance matrix of the errors is correctly specified.\n",
       "\"\"\""
      ]
     },
     "execution_count": 17,
     "metadata": {},
     "output_type": "execute_result"
    }
   ],
   "source": [
    "# Code for 2.1\n",
    "smf.ols('SPV_self ~ polit', data=spv).fit().summary()"
   ]
  },
  {
   "cell_type": "markdown",
   "id": "3a8e9173",
   "metadata": {},
   "source": [
    "*Words for 2.1*\n",
    "The coefficient indicates that going up by one unit on the ideology scale increases self-SPV by less than .1. Even going from one end of the scale to the other (an increase of 6 points) would increase predicted self-SPV by only .3/100."
   ]
  },
  {
   "cell_type": "markdown",
   "id": "d0290ed0",
   "metadata": {},
   "source": [
    "This regression can tell us if more liberal/conservative individuals have a higher SPV, but by assuming a linear relationship we can get at the idea that those on the ideological extremes have a higher SPV.\n",
    "\n",
    "One way we can see this visually is by using `sns.regplot` and adding an `order=2` argument, which adds a squared term to the regression. "
   ]
  },
  {
   "cell_type": "code",
   "execution_count": 18,
   "id": "261a0470",
   "metadata": {},
   "outputs": [
    {
     "data": {
      "text/plain": [
       "<AxesSubplot:xlabel='polit', ylabel='SPV_self'>"
      ]
     },
     "execution_count": 18,
     "metadata": {},
     "output_type": "execute_result"
    },
    {
     "data": {
      "image/png": "[encoded data removed]",
      "text/plain": [
       "<Figure size 432x288 with 1 Axes>"
      ]
     },
     "metadata": {
      "needs_background": "light"
     },
     "output_type": "display_data"
    }
   ],
   "source": [
    "sns.regplot(x=\"polit\", y=\"SPV_self\", data=spv, order=2)"
   ]
  },
  {
   "cell_type": "markdown",
   "id": "56ad78b0",
   "metadata": {},
   "source": [
    "Hmm still looks pretty flat. Let's confirm this by running a regression.\n",
    "\n",
    "**Question 2.2 . Then fit and summarize a regression predicting \"SPV_self\" using a linear and squared term of `polit` (recall to make a squared term of a variable \"X\" we can add $I(X**2)$ to our regression formula.)**"
   ]
  },
  {
   "cell_type": "code",
   "execution_count": 19,
   "id": "bbb8f083",
   "metadata": {},
   "outputs": [
    {
     "data": {
      "text/html": [
       "<table class=\"simpletable\">\n",
       "<caption>OLS Regression Results</caption>\n",
       "<tr>\n",
       "  <th>Dep. Variable:</th>        <td>SPV_self</td>     <th>  R-squared:         </th> <td>   0.000</td>\n",
       "</tr>\n",
       "<tr>\n",
       "  <th>Model:</th>                   <td>OLS</td>       <th>  Adj. R-squared:    </th> <td>  -0.003</td>\n",
       "</tr>\n",
       "<tr>\n",
       "  <th>Method:</th>             <td>Least Squares</td>  <th>  F-statistic:       </th> <td> 0.03383</td>\n",
       "</tr>\n",
       "<tr>\n",
       "  <th>Date:</th>             <td>Mon, 11 Nov 2024</td> <th>  Prob (F-statistic):</th>  <td> 0.967</td> \n",
       "</tr>\n",
       "<tr>\n",
       "  <th>Time:</th>                 <td>12:14:28</td>     <th>  Log-Likelihood:    </th> <td> -2626.2</td>\n",
       "</tr>\n",
       "<tr>\n",
       "  <th>No. Observations:</th>      <td>   650</td>      <th>  AIC:               </th> <td>   5258.</td>\n",
       "</tr>\n",
       "<tr>\n",
       "  <th>Df Residuals:</th>          <td>   647</td>      <th>  BIC:               </th> <td>   5272.</td>\n",
       "</tr>\n",
       "<tr>\n",
       "  <th>Df Model:</th>              <td>     2</td>      <th>                     </th>     <td> </td>   \n",
       "</tr>\n",
       "<tr>\n",
       "  <th>Covariance Type:</th>      <td>nonrobust</td>    <th>                     </th>     <td> </td>   \n",
       "</tr>\n",
       "</table>\n",
       "<table class=\"simpletable\">\n",
       "<tr>\n",
       "        <td></td>           <th>coef</th>     <th>std err</th>      <th>t</th>      <th>P>|t|</th>  <th>[0.025</th>    <th>0.975]</th>  \n",
       "</tr>\n",
       "<tr>\n",
       "  <th>Intercept</th>     <td>    6.9597</td> <td>    2.121</td> <td>    3.281</td> <td> 0.001</td> <td>    2.795</td> <td>   11.125</td>\n",
       "</tr>\n",
       "<tr>\n",
       "  <th>polit</th>         <td>   -0.0064</td> <td>    1.390</td> <td>   -0.005</td> <td> 0.996</td> <td>   -2.735</td> <td>    2.722</td>\n",
       "</tr>\n",
       "<tr>\n",
       "  <th>I(polit ** 2)</th> <td>   -0.0069</td> <td>    0.172</td> <td>   -0.040</td> <td> 0.968</td> <td>   -0.345</td> <td>    0.332</td>\n",
       "</tr>\n",
       "</table>\n",
       "<table class=\"simpletable\">\n",
       "<tr>\n",
       "  <th>Omnibus:</th>       <td>487.704</td> <th>  Durbin-Watson:     </th> <td>   2.034</td>\n",
       "</tr>\n",
       "<tr>\n",
       "  <th>Prob(Omnibus):</th> <td> 0.000</td>  <th>  Jarque-Bera (JB):  </th> <td>6130.109</td>\n",
       "</tr>\n",
       "<tr>\n",
       "  <th>Skew:</th>          <td> 3.381</td>  <th>  Prob(JB):          </th> <td>    0.00</td>\n",
       "</tr>\n",
       "<tr>\n",
       "  <th>Kurtosis:</th>      <td>16.439</td>  <th>  Cond. No.          </th> <td>    131.</td>\n",
       "</tr>\n",
       "</table><br/><br/>Notes:<br/>[1] Standard Errors assume that the covariance matrix of the errors is correctly specified."
      ],
      "text/plain": [
       "<class 'statsmodels.iolib.summary.Summary'>\n",
       "\"\"\"\n",
       "                            OLS Regression Results                            \n",
       "==============================================================================\n",
       "Dep. Variable:               SPV_self   R-squared:                       0.000\n",
       "Model:                            OLS   Adj. R-squared:                 -0.003\n",
       "Method:                 Least Squares   F-statistic:                   0.03383\n",
       "Date:                Mon, 11 Nov 2024   Prob (F-statistic):              0.967\n",
       "Time:                        12:14:28   Log-Likelihood:                -2626.2\n",
       "No. Observations:                 650   AIC:                             5258.\n",
       "Df Residuals:                     647   BIC:                             5272.\n",
       "Df Model:                           2                                         \n",
       "Covariance Type:            nonrobust                                         \n",
       "=================================================================================\n",
       "                    coef    std err          t      P>|t|      [0.025      0.975]\n",
       "---------------------------------------------------------------------------------\n",
       "Intercept         6.9597      2.121      3.281      0.001       2.795      11.125\n",
       "polit            -0.0064      1.390     -0.005      0.996      -2.735       2.722\n",
       "I(polit ** 2)    -0.0069      0.172     -0.040      0.968      -0.345       0.332\n",
       "==============================================================================\n",
       "Omnibus:                      487.704   Durbin-Watson:                   2.034\n",
       "Prob(Omnibus):                  0.000   Jarque-Bera (JB):             6130.109\n",
       "Skew:                           3.381   Prob(JB):                         0.00\n",
       "Kurtosis:                      16.439   Cond. No.                         131.\n",
       "==============================================================================\n",
       "\n",
       "Notes:\n",
       "[1] Standard Errors assume that the covariance matrix of the errors is correctly specified.\n",
       "\"\"\""
      ]
     },
     "execution_count": 19,
     "metadata": {},
     "output_type": "execute_result"
    }
   ],
   "source": [
    "# Code for 2.2\n",
    "smf.ols('SPV_self ~ polit + I(polit**2)', data=spv).fit().summary()"
   ]
  },
  {
   "cell_type": "markdown",
   "id": "00341144",
   "metadata": {},
   "source": [
    "Now let's do some similar analysis looking at the relationship between political ideology and the perception of outparty SPV.\n",
    "\n",
    "**Question 2.3.  Using a combination of `sns.regplot` and `smf.ols`, examine the linear and quadratic relationship between political ideology and beliefs about outparty SPV in this survey. Interpret your results.** "
   ]
  },
  {
   "cell_type": "code",
   "execution_count": 20,
   "id": "b11199bb",
   "metadata": {},
   "outputs": [
    {
     "data": {
      "text/plain": [
       "<AxesSubplot:xlabel='polit', ylabel='SPV_meta_out'>"
      ]
     },
     "execution_count": 20,
     "metadata": {},
     "output_type": "execute_result"
    },
    {
     "data": {
      "image/png": "[encoded data removed]",
      "text/plain": [
       "<Figure size 432x288 with 1 Axes>"
      ]
     },
     "metadata": {
      "needs_background": "light"
     },
     "output_type": "display_data"
    }
   ],
   "source": [
    "# Code for 2.3\n",
    "sns.regplot(x=\"polit\", y=\"SPV_meta_out\", data=spv, order=2)"
   ]
  },
  {
   "cell_type": "code",
   "execution_count": 21,
   "id": "d5c63336",
   "metadata": {},
   "outputs": [
    {
     "data": {
      "text/html": [
       "<table class=\"simpletable\">\n",
       "<caption>OLS Regression Results</caption>\n",
       "<tr>\n",
       "  <th>Dep. Variable:</th>      <td>SPV_meta_out</td>   <th>  R-squared:         </th> <td>   0.016</td>\n",
       "</tr>\n",
       "<tr>\n",
       "  <th>Model:</th>                   <td>OLS</td>       <th>  Adj. R-squared:    </th> <td>   0.013</td>\n",
       "</tr>\n",
       "<tr>\n",
       "  <th>Method:</th>             <td>Least Squares</td>  <th>  F-statistic:       </th> <td>   5.275</td>\n",
       "</tr>\n",
       "<tr>\n",
       "  <th>Date:</th>             <td>Mon, 11 Nov 2024</td> <th>  Prob (F-statistic):</th>  <td>0.00534</td>\n",
       "</tr>\n",
       "<tr>\n",
       "  <th>Time:</th>                 <td>12:26:59</td>     <th>  Log-Likelihood:    </th> <td> -3086.1</td>\n",
       "</tr>\n",
       "<tr>\n",
       "  <th>No. Observations:</th>      <td>   650</td>      <th>  AIC:               </th> <td>   6178.</td>\n",
       "</tr>\n",
       "<tr>\n",
       "  <th>Df Residuals:</th>          <td>   647</td>      <th>  BIC:               </th> <td>   6192.</td>\n",
       "</tr>\n",
       "<tr>\n",
       "  <th>Df Model:</th>              <td>     2</td>      <th>                     </th>     <td> </td>   \n",
       "</tr>\n",
       "<tr>\n",
       "  <th>Covariance Type:</th>      <td>nonrobust</td>    <th>                     </th>     <td> </td>   \n",
       "</tr>\n",
       "</table>\n",
       "<table class=\"simpletable\">\n",
       "<tr>\n",
       "        <td></td>           <th>coef</th>     <th>std err</th>      <th>t</th>      <th>P>|t|</th>  <th>[0.025</th>    <th>0.975]</th>  \n",
       "</tr>\n",
       "<tr>\n",
       "  <th>Intercept</th>     <td>   52.6317</td> <td>    4.303</td> <td>   12.231</td> <td> 0.000</td> <td>   44.182</td> <td>   61.082</td>\n",
       "</tr>\n",
       "<tr>\n",
       "  <th>polit</th>         <td>   -6.2453</td> <td>    2.819</td> <td>   -2.215</td> <td> 0.027</td> <td>  -11.782</td> <td>   -0.709</td>\n",
       "</tr>\n",
       "<tr>\n",
       "  <th>I(polit ** 2)</th> <td>    0.9052</td> <td>    0.350</td> <td>    2.588</td> <td> 0.010</td> <td>    0.218</td> <td>    1.592</td>\n",
       "</tr>\n",
       "</table>\n",
       "<table class=\"simpletable\">\n",
       "<tr>\n",
       "  <th>Omnibus:</th>       <td>177.870</td> <th>  Durbin-Watson:     </th> <td>   2.133</td>\n",
       "</tr>\n",
       "<tr>\n",
       "  <th>Prob(Omnibus):</th> <td> 0.000</td>  <th>  Jarque-Bera (JB):  </th> <td>  30.164</td>\n",
       "</tr>\n",
       "<tr>\n",
       "  <th>Skew:</th>          <td> 0.021</td>  <th>  Prob(JB):          </th> <td>2.82e-07</td>\n",
       "</tr>\n",
       "<tr>\n",
       "  <th>Kurtosis:</th>      <td> 1.945</td>  <th>  Cond. No.          </th> <td>    131.</td>\n",
       "</tr>\n",
       "</table><br/><br/>Notes:<br/>[1] Standard Errors assume that the covariance matrix of the errors is correctly specified."
      ],
      "text/plain": [
       "<class 'statsmodels.iolib.summary.Summary'>\n",
       "\"\"\"\n",
       "                            OLS Regression Results                            \n",
       "==============================================================================\n",
       "Dep. Variable:           SPV_meta_out   R-squared:                       0.016\n",
       "Model:                            OLS   Adj. R-squared:                  0.013\n",
       "Method:                 Least Squares   F-statistic:                     5.275\n",
       "Date:                Mon, 11 Nov 2024   Prob (F-statistic):            0.00534\n",
       "Time:                        12:26:59   Log-Likelihood:                -3086.1\n",
       "No. Observations:                 650   AIC:                             6178.\n",
       "Df Residuals:                     647   BIC:                             6192.\n",
       "Df Model:                           2                                         \n",
       "Covariance Type:            nonrobust                                         \n",
       "=================================================================================\n",
       "                    coef    std err          t      P>|t|      [0.025      0.975]\n",
       "---------------------------------------------------------------------------------\n",
       "Intercept        52.6317      4.303     12.231      0.000      44.182      61.082\n",
       "polit            -6.2453      2.819     -2.215      0.027     -11.782      -0.709\n",
       "I(polit ** 2)     0.9052      0.350      2.588      0.010       0.218       1.592\n",
       "==============================================================================\n",
       "Omnibus:                      177.870   Durbin-Watson:                   2.133\n",
       "Prob(Omnibus):                  0.000   Jarque-Bera (JB):               30.164\n",
       "Skew:                           0.021   Prob(JB):                     2.82e-07\n",
       "Kurtosis:                       1.945   Cond. No.                         131.\n",
       "==============================================================================\n",
       "\n",
       "Notes:\n",
       "[1] Standard Errors assume that the covariance matrix of the errors is correctly specified.\n",
       "\"\"\""
      ]
     },
     "execution_count": 21,
     "metadata": {},
     "output_type": "execute_result"
    }
   ],
   "source": [
    "smf.ols('SPV_meta_out ~ polit + I(polit**2)', data=spv).fit().summary()"
   ]
  },
  {
   "cell_type": "code",
   "execution_count": 22,
   "id": "fb8a227f",
   "metadata": {},
   "outputs": [
    {
     "data": {
      "text/plain": [
       "46.66"
      ]
     },
     "execution_count": 22,
     "metadata": {},
     "output_type": "execute_result"
    }
   ],
   "source": [
    "52 + -6.24*1 + .9*1"
   ]
  },
  {
   "cell_type": "code",
   "execution_count": 27,
   "id": "fe5219c7",
   "metadata": {},
   "outputs": [
    {
     "data": {
      "text/plain": [
       "41.44"
      ]
     },
     "execution_count": 27,
     "metadata": {},
     "output_type": "execute_result"
    }
   ],
   "source": [
    "52 + -6.24*4 + .9*4**2"
   ]
  },
  {
   "cell_type": "code",
   "execution_count": 28,
   "id": "f460f4d0",
   "metadata": {},
   "outputs": [
    {
     "data": {
      "text/plain": [
       "52.42"
      ]
     },
     "execution_count": 28,
     "metadata": {},
     "output_type": "execute_result"
    }
   ],
   "source": [
    "52 + -6.24*7 + .9*7**2"
   ]
  },
  {
   "cell_type": "code",
   "execution_count": 32,
   "id": "d79dec45",
   "metadata": {},
   "outputs": [
    {
     "data": {
      "text/plain": [
       "47.45070422535211"
      ]
     },
     "execution_count": 32,
     "metadata": {},
     "output_type": "execute_result"
    }
   ],
   "source": [
    "np.mean(spv.loc[spv['polit']==1, \"SPV_meta_out\"])"
   ]
  },
  {
   "cell_type": "code",
   "execution_count": 33,
   "id": "a7a09a51",
   "metadata": {},
   "outputs": [
    {
     "data": {
      "text/plain": [
       "44.285714285714285"
      ]
     },
     "execution_count": 33,
     "metadata": {},
     "output_type": "execute_result"
    }
   ],
   "source": [
    "np.mean(spv.loc[spv['polit']==4, \"SPV_meta_out\"])"
   ]
  },
  {
   "cell_type": "code",
   "execution_count": 34,
   "id": "6a728e09",
   "metadata": {},
   "outputs": [
    {
     "data": {
      "text/plain": [
       "53.68478260869565"
      ]
     },
     "execution_count": 34,
     "metadata": {},
     "output_type": "execute_result"
    }
   ],
   "source": [
    "np.mean(spv.loc[spv['polit']==7, \"SPV_meta_out\"])"
   ]
  },
  {
   "cell_type": "markdown",
   "id": "32c85d5a",
   "metadata": {},
   "source": [
    "For perceptions of out-party SPV there does appear to be a quadratic relationship, where those at the extremes of the scale expect the out-party tend to be more supportive of violence. "
   ]
  },
  {
   "cell_type": "markdown",
   "id": "bdbe2b84",
   "metadata": {},
   "source": [
    "## Part 3: Do corrections reduce SPV?\n",
    "\n",
    "Now we are ready to get to the main point of the paper. So far we know that self SPV and perceptions of outparty SPV have a positive correlation, and that individuals exaggerate the outgroup support for SPV. So, what will happen if we *correct* their beliefs about the outparty by telling subjects the truth before figuring out their own SPV? We might expect that learning that the outparty rarely supports violece will make individuals less supportive of violence themselves.\n",
    "\n",
    "In other words, we can lower perceived SPV of the outparty in a randomized fashion, we can get a sense of the causal effect of these perceptions without selection bias.\n",
    "\n",
    "The authors check this by randomly assigning some people to obsere a \"correction\" which tells them the true outparty SPV. Given what we learned above, for most people this will make them realize their political opponents support violence less than they really thought. The control group does not receive this information. \n",
    "\n",
    "The variable which stores this treatment status is called \"condition\". To ease interpretation lets turn it into a 0/1 variable:"
   ]
  },
  {
   "cell_type": "code",
   "execution_count": 35,
   "id": "427b4f4e",
   "metadata": {},
   "outputs": [],
   "source": [
    "spv['correct'] = np.where(spv['condition']==\"out_correct\", 1,0)"
   ]
  },
  {
   "cell_type": "markdown",
   "id": "5db3b117",
   "metadata": {},
   "source": [
    "**Question 3.1. Fit and summarize a bivariate regression with \"SPV_self\" as the dependent variable and \"correct\" as the independent variable. Interpret the coefficient on \"correct.\"**"
   ]
  },
  {
   "cell_type": "code",
   "execution_count": 36,
   "id": "ea4de696",
   "metadata": {},
   "outputs": [
    {
     "data": {
      "text/html": [
       "<table class=\"simpletable\">\n",
       "<caption>OLS Regression Results</caption>\n",
       "<tr>\n",
       "  <th>Dep. Variable:</th>        <td>SPV_self</td>     <th>  R-squared:         </th> <td>   0.014</td>\n",
       "</tr>\n",
       "<tr>\n",
       "  <th>Model:</th>                   <td>OLS</td>       <th>  Adj. R-squared:    </th> <td>   0.013</td>\n",
       "</tr>\n",
       "<tr>\n",
       "  <th>Method:</th>             <td>Least Squares</td>  <th>  F-statistic:       </th> <td>   9.558</td>\n",
       "</tr>\n",
       "<tr>\n",
       "  <th>Date:</th>             <td>Mon, 11 Nov 2024</td> <th>  Prob (F-statistic):</th>  <td>0.00208</td>\n",
       "</tr>\n",
       "<tr>\n",
       "  <th>Time:</th>                 <td>12:39:26</td>     <th>  Log-Likelihood:    </th> <td> -2628.7</td>\n",
       "</tr>\n",
       "<tr>\n",
       "  <th>No. Observations:</th>      <td>   652</td>      <th>  AIC:               </th> <td>   5261.</td>\n",
       "</tr>\n",
       "<tr>\n",
       "  <th>Df Residuals:</th>          <td>   650</td>      <th>  BIC:               </th> <td>   5270.</td>\n",
       "</tr>\n",
       "<tr>\n",
       "  <th>Df Model:</th>              <td>     1</td>      <th>                     </th>     <td> </td>   \n",
       "</tr>\n",
       "<tr>\n",
       "  <th>Covariance Type:</th>      <td>nonrobust</td>    <th>                     </th>     <td> </td>   \n",
       "</tr>\n",
       "</table>\n",
       "<table class=\"simpletable\">\n",
       "<tr>\n",
       "      <td></td>         <th>coef</th>     <th>std err</th>      <th>t</th>      <th>P>|t|</th>  <th>[0.025</th>    <th>0.975]</th>  \n",
       "</tr>\n",
       "<tr>\n",
       "  <th>Intercept</th> <td>    8.4192</td> <td>    0.754</td> <td>   11.164</td> <td> 0.000</td> <td>    6.938</td> <td>    9.900</td>\n",
       "</tr>\n",
       "<tr>\n",
       "  <th>correct</th>   <td>   -3.3073</td> <td>    1.070</td> <td>   -3.092</td> <td> 0.002</td> <td>   -5.408</td> <td>   -1.207</td>\n",
       "</tr>\n",
       "</table>\n",
       "<table class=\"simpletable\">\n",
       "<tr>\n",
       "  <th>Omnibus:</th>       <td>480.009</td> <th>  Durbin-Watson:     </th> <td>   2.059</td>\n",
       "</tr>\n",
       "<tr>\n",
       "  <th>Prob(Omnibus):</th> <td> 0.000</td>  <th>  Jarque-Bera (JB):  </th> <td>5828.447</td>\n",
       "</tr>\n",
       "<tr>\n",
       "  <th>Skew:</th>          <td> 3.305</td>  <th>  Prob(JB):          </th> <td>    0.00</td>\n",
       "</tr>\n",
       "<tr>\n",
       "  <th>Kurtosis:</th>      <td>16.071</td>  <th>  Cond. No.          </th> <td>    2.61</td>\n",
       "</tr>\n",
       "</table><br/><br/>Notes:<br/>[1] Standard Errors assume that the covariance matrix of the errors is correctly specified."
      ],
      "text/plain": [
       "<class 'statsmodels.iolib.summary.Summary'>\n",
       "\"\"\"\n",
       "                            OLS Regression Results                            \n",
       "==============================================================================\n",
       "Dep. Variable:               SPV_self   R-squared:                       0.014\n",
       "Model:                            OLS   Adj. R-squared:                  0.013\n",
       "Method:                 Least Squares   F-statistic:                     9.558\n",
       "Date:                Mon, 11 Nov 2024   Prob (F-statistic):            0.00208\n",
       "Time:                        12:39:26   Log-Likelihood:                -2628.7\n",
       "No. Observations:                 652   AIC:                             5261.\n",
       "Df Residuals:                     650   BIC:                             5270.\n",
       "Df Model:                           1                                         \n",
       "Covariance Type:            nonrobust                                         \n",
       "==============================================================================\n",
       "                 coef    std err          t      P>|t|      [0.025      0.975]\n",
       "------------------------------------------------------------------------------\n",
       "Intercept      8.4192      0.754     11.164      0.000       6.938       9.900\n",
       "correct       -3.3073      1.070     -3.092      0.002      -5.408      -1.207\n",
       "==============================================================================\n",
       "Omnibus:                      480.009   Durbin-Watson:                   2.059\n",
       "Prob(Omnibus):                  0.000   Jarque-Bera (JB):             5828.447\n",
       "Skew:                           3.305   Prob(JB):                         0.00\n",
       "Kurtosis:                      16.071   Cond. No.                         2.61\n",
       "==============================================================================\n",
       "\n",
       "Notes:\n",
       "[1] Standard Errors assume that the covariance matrix of the errors is correctly specified.\n",
       "\"\"\""
      ]
     },
     "execution_count": 36,
     "metadata": {},
     "output_type": "execute_result"
    }
   ],
   "source": [
    "# Code for 3.1\n",
    "smf.ols('SPV_self ~ correct', data=spv).fit().summary()"
   ]
  },
  {
   "cell_type": "markdown",
   "id": "e6d93c05",
   "metadata": {},
   "source": [
    "Those who get the correction decrease their own spv by about 3 points. This is resonably large when noticing that the average without the correction is around 8.4 and the average with the correction is around 5. Since the correct was randomly assigned we can interpret this as a causal effect of learning that the outgroup supports violence less than most think."
   ]
  },
  {
   "cell_type": "markdown",
   "id": "5592e155",
   "metadata": {},
   "source": [
    "In the paper the authors also include some control variables for respondent demographics. This isn't about trying to control for counfounding variables since we know that the treatment status was randomized, so those who got the correction should be otherwise similar on average. However, doing so often leads to less noise in our estimates (for reasons we won't cover), and can also provide some additional interesting information about who tends to support violence. \n",
    "\n",
    "Some of the variables we want to include as controls are stored as \"factors\" which are categorical variables that can take on two or more values. The `smf.ols` function will automatically create several 0/1 variables which will tell us the difference in the predicted mean between each category and a \"base category\" (holding other variables fixed). For example, here is a table of the education variable:\n"
   ]
  },
  {
   "cell_type": "code",
   "execution_count": 37,
   "id": "4980123b",
   "metadata": {},
   "outputs": [
    {
     "data": {
      "text/plain": [
       "Bachelors       267\n",
       "Some college    206\n",
       "Graduate        123\n",
       "HS or less       54\n",
       "Name: education, dtype: int64"
      ]
     },
     "execution_count": 37,
     "metadata": {},
     "output_type": "execute_result"
    }
   ],
   "source": [
    "pd.value_counts(spv['education'])"
   ]
  },
  {
   "cell_type": "markdown",
   "id": "4b9c727e",
   "metadata": {},
   "source": [
    "If we use this as an independent variable in a regression we get:"
   ]
  },
  {
   "cell_type": "code",
   "execution_count": 38,
   "id": "f4125c71",
   "metadata": {},
   "outputs": [
    {
     "data": {
      "text/html": [
       "<table class=\"simpletable\">\n",
       "<caption>OLS Regression Results</caption>\n",
       "<tr>\n",
       "  <th>Dep. Variable:</th>        <td>SPV_self</td>     <th>  R-squared:         </th> <td>   0.015</td>\n",
       "</tr>\n",
       "<tr>\n",
       "  <th>Model:</th>                   <td>OLS</td>       <th>  Adj. R-squared:    </th> <td>   0.011</td>\n",
       "</tr>\n",
       "<tr>\n",
       "  <th>Method:</th>             <td>Least Squares</td>  <th>  F-statistic:       </th> <td>   3.361</td>\n",
       "</tr>\n",
       "<tr>\n",
       "  <th>Date:</th>             <td>Mon, 11 Nov 2024</td> <th>  Prob (F-statistic):</th>  <td>0.0185</td> \n",
       "</tr>\n",
       "<tr>\n",
       "  <th>Time:</th>                 <td>13:35:08</td>     <th>  Log-Likelihood:    </th> <td> -2621.2</td>\n",
       "</tr>\n",
       "<tr>\n",
       "  <th>No. Observations:</th>      <td>   650</td>      <th>  AIC:               </th> <td>   5250.</td>\n",
       "</tr>\n",
       "<tr>\n",
       "  <th>Df Residuals:</th>          <td>   646</td>      <th>  BIC:               </th> <td>   5268.</td>\n",
       "</tr>\n",
       "<tr>\n",
       "  <th>Df Model:</th>              <td>     3</td>      <th>                     </th>     <td> </td>   \n",
       "</tr>\n",
       "<tr>\n",
       "  <th>Covariance Type:</th>      <td>nonrobust</td>    <th>                     </th>     <td> </td>   \n",
       "</tr>\n",
       "</table>\n",
       "<table class=\"simpletable\">\n",
       "<tr>\n",
       "              <td></td>                 <th>coef</th>     <th>std err</th>      <th>t</th>      <th>P>|t|</th>  <th>[0.025</th>    <th>0.975]</th>  \n",
       "</tr>\n",
       "<tr>\n",
       "  <th>Intercept</th>                 <td>    7.5009</td> <td>    0.838</td> <td>    8.952</td> <td> 0.000</td> <td>    5.856</td> <td>    9.146</td>\n",
       "</tr>\n",
       "<tr>\n",
       "  <th>education[T.Graduate]</th>     <td>   -3.5030</td> <td>    1.492</td> <td>   -2.348</td> <td> 0.019</td> <td>   -6.433</td> <td>   -0.573</td>\n",
       "</tr>\n",
       "<tr>\n",
       "  <th>education[T.HS or less]</th>   <td>    3.0963</td> <td>    2.043</td> <td>    1.516</td> <td> 0.130</td> <td>   -0.915</td> <td>    7.108</td>\n",
       "</tr>\n",
       "<tr>\n",
       "  <th>education[T.Some college]</th> <td>   -0.9657</td> <td>    1.270</td> <td>   -0.761</td> <td> 0.447</td> <td>   -3.459</td> <td>    1.527</td>\n",
       "</tr>\n",
       "</table>\n",
       "<table class=\"simpletable\">\n",
       "<tr>\n",
       "  <th>Omnibus:</th>       <td>478.533</td> <th>  Durbin-Watson:     </th> <td>   2.044</td>\n",
       "</tr>\n",
       "<tr>\n",
       "  <th>Prob(Omnibus):</th> <td> 0.000</td>  <th>  Jarque-Bera (JB):  </th> <td>5866.279</td>\n",
       "</tr>\n",
       "<tr>\n",
       "  <th>Skew:</th>          <td> 3.299</td>  <th>  Prob(JB):          </th> <td>    0.00</td>\n",
       "</tr>\n",
       "<tr>\n",
       "  <th>Kurtosis:</th>      <td>16.155</td>  <th>  Cond. No.          </th> <td>    4.46</td>\n",
       "</tr>\n",
       "</table><br/><br/>Notes:<br/>[1] Standard Errors assume that the covariance matrix of the errors is correctly specified."
      ],
      "text/plain": [
       "<class 'statsmodels.iolib.summary.Summary'>\n",
       "\"\"\"\n",
       "                            OLS Regression Results                            \n",
       "==============================================================================\n",
       "Dep. Variable:               SPV_self   R-squared:                       0.015\n",
       "Model:                            OLS   Adj. R-squared:                  0.011\n",
       "Method:                 Least Squares   F-statistic:                     3.361\n",
       "Date:                Mon, 11 Nov 2024   Prob (F-statistic):             0.0185\n",
       "Time:                        13:35:08   Log-Likelihood:                -2621.2\n",
       "No. Observations:                 650   AIC:                             5250.\n",
       "Df Residuals:                     646   BIC:                             5268.\n",
       "Df Model:                           3                                         \n",
       "Covariance Type:            nonrobust                                         \n",
       "=============================================================================================\n",
       "                                coef    std err          t      P>|t|      [0.025      0.975]\n",
       "---------------------------------------------------------------------------------------------\n",
       "Intercept                     7.5009      0.838      8.952      0.000       5.856       9.146\n",
       "education[T.Graduate]        -3.5030      1.492     -2.348      0.019      -6.433      -0.573\n",
       "education[T.HS or less]       3.0963      2.043      1.516      0.130      -0.915       7.108\n",
       "education[T.Some college]    -0.9657      1.270     -0.761      0.447      -3.459       1.527\n",
       "==============================================================================\n",
       "Omnibus:                      478.533   Durbin-Watson:                   2.044\n",
       "Prob(Omnibus):                  0.000   Jarque-Bera (JB):             5866.279\n",
       "Skew:                           3.299   Prob(JB):                         0.00\n",
       "Kurtosis:                      16.155   Cond. No.                         4.46\n",
       "==============================================================================\n",
       "\n",
       "Notes:\n",
       "[1] Standard Errors assume that the covariance matrix of the errors is correctly specified.\n",
       "\"\"\""
      ]
     },
     "execution_count": 38,
     "metadata": {},
     "output_type": "execute_result"
    }
   ],
   "source": [
    "smf.ols(\"SPV_self ~ education\", data=spv).fit().summary()"
   ]
  },
  {
   "cell_type": "markdown",
   "id": "8f970f4c",
   "metadata": {},
   "source": [
    "Note we get coefficients corresponding to \"Graduate\", \"HS or less\", and \"Some college\". Where is \"bachelor's degree\"? We don't see this because it was set as the \"base category\" to which other values are compared. So we can interpret the three coefficients as a comparison of the average SPV of each category compared to those with a bachelor's degree. In this case, those with HS or less have a higher support for SPV than those with a BA degree while those with a graduate degree have less SPV than those with a BA. "
   ]
  },
  {
   "cell_type": "markdown",
   "id": "281cbda6",
   "metadata": {},
   "source": [
    "**Question 3.2 Fit and summarize a multivariate regression predicting \"SPV_self\" using the correction variable, with control variances \"gender\", \"age\", \"dem\", and \"education\". Does this affect the coefficient on \"correction\" compared to the bivariate case? Interpret another coefficient from the regression.**"
   ]
  },
  {
   "cell_type": "code",
   "execution_count": 39,
   "id": "6272e17e",
   "metadata": {},
   "outputs": [
    {
     "data": {
      "text/html": [
       "<table class=\"simpletable\">\n",
       "<caption>OLS Regression Results</caption>\n",
       "<tr>\n",
       "  <th>Dep. Variable:</th>        <td>SPV_self</td>     <th>  R-squared:         </th> <td>   0.051</td>\n",
       "</tr>\n",
       "<tr>\n",
       "  <th>Model:</th>                   <td>OLS</td>       <th>  Adj. R-squared:    </th> <td>   0.041</td>\n",
       "</tr>\n",
       "<tr>\n",
       "  <th>Method:</th>             <td>Least Squares</td>  <th>  F-statistic:       </th> <td>   4.976</td>\n",
       "</tr>\n",
       "<tr>\n",
       "  <th>Date:</th>             <td>Mon, 11 Nov 2024</td> <th>  Prob (F-statistic):</th> <td>1.68e-05</td>\n",
       "</tr>\n",
       "<tr>\n",
       "  <th>Time:</th>                 <td>13:36:32</td>     <th>  Log-Likelihood:    </th> <td> -2609.1</td>\n",
       "</tr>\n",
       "<tr>\n",
       "  <th>No. Observations:</th>      <td>   650</td>      <th>  AIC:               </th> <td>   5234.</td>\n",
       "</tr>\n",
       "<tr>\n",
       "  <th>Df Residuals:</th>          <td>   642</td>      <th>  BIC:               </th> <td>   5270.</td>\n",
       "</tr>\n",
       "<tr>\n",
       "  <th>Df Model:</th>              <td>     7</td>      <th>                     </th>     <td> </td>   \n",
       "</tr>\n",
       "<tr>\n",
       "  <th>Covariance Type:</th>      <td>nonrobust</td>    <th>                     </th>     <td> </td>   \n",
       "</tr>\n",
       "</table>\n",
       "<table class=\"simpletable\">\n",
       "<tr>\n",
       "              <td></td>                 <th>coef</th>     <th>std err</th>      <th>t</th>      <th>P>|t|</th>  <th>[0.025</th>    <th>0.975]</th>  \n",
       "</tr>\n",
       "<tr>\n",
       "  <th>Intercept</th>                 <td>    7.3222</td> <td>    1.413</td> <td>    5.181</td> <td> 0.000</td> <td>    4.547</td> <td>   10.097</td>\n",
       "</tr>\n",
       "<tr>\n",
       "  <th>gender[T.Male]</th>            <td>    3.7876</td> <td>    1.124</td> <td>    3.371</td> <td> 0.001</td> <td>    1.581</td> <td>    5.994</td>\n",
       "</tr>\n",
       "<tr>\n",
       "  <th>education[T.Graduate]</th>     <td>   -2.9624</td> <td>    1.477</td> <td>   -2.006</td> <td> 0.045</td> <td>   -5.863</td> <td>   -0.062</td>\n",
       "</tr>\n",
       "<tr>\n",
       "  <th>education[T.HS or less]</th>   <td>    3.6372</td> <td>    2.030</td> <td>    1.792</td> <td> 0.074</td> <td>   -0.349</td> <td>    7.623</td>\n",
       "</tr>\n",
       "<tr>\n",
       "  <th>education[T.Some college]</th> <td>   -0.3536</td> <td>    1.265</td> <td>   -0.280</td> <td> 0.780</td> <td>   -2.837</td> <td>    2.130</td>\n",
       "</tr>\n",
       "<tr>\n",
       "  <th>correct</th>                   <td>   -3.0826</td> <td>    1.061</td> <td>   -2.904</td> <td> 0.004</td> <td>   -5.167</td> <td>   -0.998</td>\n",
       "</tr>\n",
       "<tr>\n",
       "  <th>age</th>                       <td>   -0.0143</td> <td>    0.014</td> <td>   -1.014</td> <td> 0.311</td> <td>   -0.042</td> <td>    0.013</td>\n",
       "</tr>\n",
       "<tr>\n",
       "  <th>dem</th>                       <td>    1.3670</td> <td>    1.079</td> <td>    1.267</td> <td> 0.206</td> <td>   -0.752</td> <td>    3.486</td>\n",
       "</tr>\n",
       "</table>\n",
       "<table class=\"simpletable\">\n",
       "<tr>\n",
       "  <th>Omnibus:</th>       <td>458.488</td> <th>  Durbin-Watson:     </th> <td>   2.061</td>\n",
       "</tr>\n",
       "<tr>\n",
       "  <th>Prob(Omnibus):</th> <td> 0.000</td>  <th>  Jarque-Bera (JB):  </th> <td>5222.356</td>\n",
       "</tr>\n",
       "<tr>\n",
       "  <th>Skew:</th>          <td> 3.134</td>  <th>  Prob(JB):          </th> <td>    0.00</td>\n",
       "</tr>\n",
       "<tr>\n",
       "  <th>Kurtosis:</th>      <td>15.391</td>  <th>  Cond. No.          </th> <td>    247.</td>\n",
       "</tr>\n",
       "</table><br/><br/>Notes:<br/>[1] Standard Errors assume that the covariance matrix of the errors is correctly specified."
      ],
      "text/plain": [
       "<class 'statsmodels.iolib.summary.Summary'>\n",
       "\"\"\"\n",
       "                            OLS Regression Results                            \n",
       "==============================================================================\n",
       "Dep. Variable:               SPV_self   R-squared:                       0.051\n",
       "Model:                            OLS   Adj. R-squared:                  0.041\n",
       "Method:                 Least Squares   F-statistic:                     4.976\n",
       "Date:                Mon, 11 Nov 2024   Prob (F-statistic):           1.68e-05\n",
       "Time:                        13:36:32   Log-Likelihood:                -2609.1\n",
       "No. Observations:                 650   AIC:                             5234.\n",
       "Df Residuals:                     642   BIC:                             5270.\n",
       "Df Model:                           7                                         \n",
       "Covariance Type:            nonrobust                                         \n",
       "=============================================================================================\n",
       "                                coef    std err          t      P>|t|      [0.025      0.975]\n",
       "---------------------------------------------------------------------------------------------\n",
       "Intercept                     7.3222      1.413      5.181      0.000       4.547      10.097\n",
       "gender[T.Male]                3.7876      1.124      3.371      0.001       1.581       5.994\n",
       "education[T.Graduate]        -2.9624      1.477     -2.006      0.045      -5.863      -0.062\n",
       "education[T.HS or less]       3.6372      2.030      1.792      0.074      -0.349       7.623\n",
       "education[T.Some college]    -0.3536      1.265     -0.280      0.780      -2.837       2.130\n",
       "correct                      -3.0826      1.061     -2.904      0.004      -5.167      -0.998\n",
       "age                          -0.0143      0.014     -1.014      0.311      -0.042       0.013\n",
       "dem                           1.3670      1.079      1.267      0.206      -0.752       3.486\n",
       "==============================================================================\n",
       "Omnibus:                      458.488   Durbin-Watson:                   2.061\n",
       "Prob(Omnibus):                  0.000   Jarque-Bera (JB):             5222.356\n",
       "Skew:                           3.134   Prob(JB):                         0.00\n",
       "Kurtosis:                      15.391   Cond. No.                         247.\n",
       "==============================================================================\n",
       "\n",
       "Notes:\n",
       "[1] Standard Errors assume that the covariance matrix of the errors is correctly specified.\n",
       "\"\"\""
      ]
     },
     "execution_count": 39,
     "metadata": {},
     "output_type": "execute_result"
    }
   ],
   "source": [
    "# Code for 3.2\n",
    "smf.ols('SPV_self ~ correct + gender + age +dem + education', data=spv).fit().summary()"
   ]
  },
  {
   "cell_type": "markdown",
   "id": "e65f91c2",
   "metadata": {},
   "source": [
    "The coefficient on the correction is about the same as before, which isn't surprising since it was randomly assigned and hence not correlated with the other indpendent variables. Another interesting variable is the gender. Here the base category is female, and so we can interpret this as saying men have a notably higher SPV (even slightly higher than the effect of the correction)."
   ]
  },
  {
   "cell_type": "markdown",
   "id": "a9d37c59",
   "metadata": {},
   "source": [
    "We might think that these corrections may have a different effect on people who start with a low perceived outparty SPV vs those who think the outparty has a high SPV. To check this, the authors calculated a variable callsed \"SPV_meta_over\", which is the difference between the perceived outparty SPV and the truth. \n",
    "\n",
    "\n",
    "**Question 3.3. Make a histogram of this variable and interpret what you find. Is this variable typically positive or negative?**"
   ]
  },
  {
   "cell_type": "code",
   "execution_count": 40,
   "id": "d0c7fac4",
   "metadata": {},
   "outputs": [
    {
     "data": {
      "text/plain": [
       "<AxesSubplot:>"
      ]
     },
     "execution_count": 40,
     "metadata": {},
     "output_type": "execute_result"
    },
    {
     "data": {
      "image/png": "[encoded data removed]",
      "text/plain": [
       "<Figure size 432x288 with 1 Axes>"
      ]
     },
     "metadata": {
      "needs_background": "light"
     },
     "output_type": "display_data"
    }
   ],
   "source": [
    "# Question for 3.3\n",
    "spv['SPV_meta_over'].hist()"
   ]
  },
  {
   "cell_type": "markdown",
   "id": "ab2e82e8",
   "metadata": {},
   "source": [
    "Unsurprisingly given our previous analysis, this variable is typically positive, meaning people typically overestimate the out-party SPV."
   ]
  },
  {
   "cell_type": "markdown",
   "id": "68606688",
   "metadata": {},
   "source": [
    "**Question 3.4. Fit an summarize an interactive model predicting self SPV with the correction, \"SPV_meta_over\", and an interaction between the two (refer back to the class notebook for an example of how to do this.)**"
   ]
  },
  {
   "cell_type": "code",
   "execution_count": 43,
   "id": "e67b1899",
   "metadata": {},
   "outputs": [
    {
     "data": {
      "text/html": [
       "<table class=\"simpletable\">\n",
       "<caption>OLS Regression Results</caption>\n",
       "<tr>\n",
       "  <th>Dep. Variable:</th>        <td>SPV_self</td>     <th>  R-squared:         </th> <td>   0.092</td>\n",
       "</tr>\n",
       "<tr>\n",
       "  <th>Model:</th>                   <td>OLS</td>       <th>  Adj. R-squared:    </th> <td>   0.088</td>\n",
       "</tr>\n",
       "<tr>\n",
       "  <th>Method:</th>             <td>Least Squares</td>  <th>  F-statistic:       </th> <td>   21.93</td>\n",
       "</tr>\n",
       "<tr>\n",
       "  <th>Date:</th>             <td>Mon, 11 Nov 2024</td> <th>  Prob (F-statistic):</th> <td>1.56e-13</td>\n",
       "</tr>\n",
       "<tr>\n",
       "  <th>Time:</th>                 <td>13:39:40</td>     <th>  Log-Likelihood:    </th> <td> -2601.9</td>\n",
       "</tr>\n",
       "<tr>\n",
       "  <th>No. Observations:</th>      <td>   652</td>      <th>  AIC:               </th> <td>   5212.</td>\n",
       "</tr>\n",
       "<tr>\n",
       "  <th>Df Residuals:</th>          <td>   648</td>      <th>  BIC:               </th> <td>   5230.</td>\n",
       "</tr>\n",
       "<tr>\n",
       "  <th>Df Model:</th>              <td>     3</td>      <th>                     </th>     <td> </td>   \n",
       "</tr>\n",
       "<tr>\n",
       "  <th>Covariance Type:</th>      <td>nonrobust</td>    <th>                     </th>     <td> </td>   \n",
       "</tr>\n",
       "</table>\n",
       "<table class=\"simpletable\">\n",
       "<tr>\n",
       "            <td></td>               <th>coef</th>     <th>std err</th>      <th>t</th>      <th>P>|t|</th>  <th>[0.025</th>    <th>0.975]</th>  \n",
       "</tr>\n",
       "<tr>\n",
       "  <th>Intercept</th>             <td>    1.6528</td> <td>    1.173</td> <td>    1.409</td> <td> 0.159</td> <td>   -0.651</td> <td>    3.957</td>\n",
       "</tr>\n",
       "<tr>\n",
       "  <th>correct</th>               <td>    2.1878</td> <td>    1.702</td> <td>    1.286</td> <td> 0.199</td> <td>   -1.154</td> <td>    5.529</td>\n",
       "</tr>\n",
       "<tr>\n",
       "  <th>SPV_meta_over</th>         <td>    0.1853</td> <td>    0.025</td> <td>    7.334</td> <td> 0.000</td> <td>    0.136</td> <td>    0.235</td>\n",
       "</tr>\n",
       "<tr>\n",
       "  <th>correct:SPV_meta_over</th> <td>   -0.1514</td> <td>    0.037</td> <td>   -4.141</td> <td> 0.000</td> <td>   -0.223</td> <td>   -0.080</td>\n",
       "</tr>\n",
       "</table>\n",
       "<table class=\"simpletable\">\n",
       "<tr>\n",
       "  <th>Omnibus:</th>       <td>443.361</td> <th>  Durbin-Watson:     </th> <td>   2.043</td>\n",
       "</tr>\n",
       "<tr>\n",
       "  <th>Prob(Omnibus):</th> <td> 0.000</td>  <th>  Jarque-Bera (JB):  </th> <td>4771.687</td>\n",
       "</tr>\n",
       "<tr>\n",
       "  <th>Skew:</th>          <td> 3.001</td>  <th>  Prob(JB):          </th> <td>    0.00</td>\n",
       "</tr>\n",
       "<tr>\n",
       "  <th>Kurtosis:</th>      <td>14.817</td>  <th>  Cond. No.          </th> <td>    199.</td>\n",
       "</tr>\n",
       "</table><br/><br/>Notes:<br/>[1] Standard Errors assume that the covariance matrix of the errors is correctly specified."
      ],
      "text/plain": [
       "<class 'statsmodels.iolib.summary.Summary'>\n",
       "\"\"\"\n",
       "                            OLS Regression Results                            \n",
       "==============================================================================\n",
       "Dep. Variable:               SPV_self   R-squared:                       0.092\n",
       "Model:                            OLS   Adj. R-squared:                  0.088\n",
       "Method:                 Least Squares   F-statistic:                     21.93\n",
       "Date:                Mon, 11 Nov 2024   Prob (F-statistic):           1.56e-13\n",
       "Time:                        13:39:40   Log-Likelihood:                -2601.9\n",
       "No. Observations:                 652   AIC:                             5212.\n",
       "Df Residuals:                     648   BIC:                             5230.\n",
       "Df Model:                           3                                         \n",
       "Covariance Type:            nonrobust                                         \n",
       "=========================================================================================\n",
       "                            coef    std err          t      P>|t|      [0.025      0.975]\n",
       "-----------------------------------------------------------------------------------------\n",
       "Intercept                 1.6528      1.173      1.409      0.159      -0.651       3.957\n",
       "correct                   2.1878      1.702      1.286      0.199      -1.154       5.529\n",
       "SPV_meta_over             0.1853      0.025      7.334      0.000       0.136       0.235\n",
       "correct:SPV_meta_over    -0.1514      0.037     -4.141      0.000      -0.223      -0.080\n",
       "==============================================================================\n",
       "Omnibus:                      443.361   Durbin-Watson:                   2.043\n",
       "Prob(Omnibus):                  0.000   Jarque-Bera (JB):             4771.687\n",
       "Skew:                           3.001   Prob(JB):                         0.00\n",
       "Kurtosis:                      14.817   Cond. No.                         199.\n",
       "==============================================================================\n",
       "\n",
       "Notes:\n",
       "[1] Standard Errors assume that the covariance matrix of the errors is correctly specified.\n",
       "\"\"\""
      ]
     },
     "execution_count": 43,
     "metadata": {},
     "output_type": "execute_result"
    }
   ],
   "source": [
    "# Code for 3.4\n",
    "smf.ols('SPV_self ~ correct*SPV_meta_over', data=spv).fit().summary()"
   ]
  },
  {
   "cell_type": "markdown",
   "id": "d3cc341b",
   "metadata": {},
   "source": [
    "**Question 3.4. What does this regression say about the effect of the correction on someone who had accurate beliefs to start with (`SPV_meta_over = 0`).**"
   ]
  },
  {
   "cell_type": "markdown",
   "id": "57f36317",
   "metadata": {},
   "source": [
    "When SPV_meta_over=0, we can use the coefficient on correct to estimate the effect of the correction. In this case the correction *increases* self-SPV (though the difference is not statistically significant)"
   ]
  },
  {
   "cell_type": "markdown",
   "id": "e5a5e9a6",
   "metadata": {},
   "source": [
    "**Question 3.5. Now interpret the coefficient on the interaction term. As one is more pessimistic (and incorrect) about the outgroup, how does the effect of the correction change?**"
   ]
  },
  {
   "cell_type": "markdown",
   "id": "a9a07179",
   "metadata": {},
   "source": [
    "The negative interaction term means that as SPV_meta_over increases, the effect of the correction becomes more negative. That is, when people overestimate the outgroup SPV, telling them the truth tends to make the less supportive of violence themselves."
   ]
  },
  {
   "cell_type": "markdown",
   "id": "7775b8e1",
   "metadata": {},
   "source": [
    "**Question 3.6. What is the effect of the correction on someone who overestimated the outparty SPV by 50 points? (You will need the coefficients from the model to do this, which you can get by saving a fitted model and then using `.params` to extract the coefficients, or you can just manually type them.)**"
   ]
  },
  {
   "cell_type": "code",
   "execution_count": 47,
   "id": "be7fc97f",
   "metadata": {},
   "outputs": [
    {
     "data": {
      "text/plain": [
       "Intercept                1.652829\n",
       "correct                  2.187753\n",
       "SPV_meta_over            0.185255\n",
       "correct:SPV_meta_over   -0.151427\n",
       "dtype: float64"
      ]
     },
     "execution_count": 47,
     "metadata": {},
     "output_type": "execute_result"
    }
   ],
   "source": [
    "# Code for 3.6\n",
    "imodel = smf.ols('SPV_self ~ correct*SPV_meta_over', data=spv).fit()\n",
    "imodel.params"
   ]
  },
  {
   "cell_type": "code",
   "execution_count": 49,
   "id": "65eda6bd",
   "metadata": {},
   "outputs": [
    {
     "data": {
      "text/plain": [
       "-5.3836198258067105"
      ]
     },
     "execution_count": 49,
     "metadata": {},
     "output_type": "execute_result"
    }
   ],
   "source": [
    "imodel.params[1] + 50*imodel.params[3]"
   ]
  },
  {
   "cell_type": "markdown",
   "id": "074bcfef",
   "metadata": {},
   "source": [
    "For such a person the predicted effect of the correction is to decrease self-SPV by about 5 points."
   ]
  },
  {
   "cell_type": "markdown",
   "id": "e5b5be08",
   "metadata": {},
   "source": [
    "**Question 3.7. Interpret these results in light of our initial theory. Does changing perceptions of outparty SPV affect individuals on SPV? Who does the correction seem to affect, and why?**"
   ]
  },
  {
   "cell_type": "markdown",
   "id": "47416176",
   "metadata": {},
   "source": [
    "It seems like those most affected by the correction are those who are most pessimistic about the out-party. This makes sense in light of the theory, because people are more apt to support the use of violence when they expect others to do so, and the correct has a biggest effect for those who overestimate support for violence. "
   ]
  },
  {
   "cell_type": "code",
   "execution_count": null,
   "id": "e2c93fbb",
   "metadata": {},
   "outputs": [],
   "source": []
  }
 ],
 "metadata": {
  "kernelspec": {
   "display_name": "Python 3 (ipykernel)",
   "language": "python",
   "name": "python3"
  },
  "language_info": {
   "codemirror_mode": {
    "name": "ipython",
    "version": 3
   },
   "file_extension": ".py",
   "mimetype": "text/x-python",
   "name": "python",
   "nbconvert_exporter": "python",
   "pygments_lexer": "ipython3",
   "version": "3.9.7"
  }
 },
 "nbformat": 4,
 "nbformat_minor": 5
}
