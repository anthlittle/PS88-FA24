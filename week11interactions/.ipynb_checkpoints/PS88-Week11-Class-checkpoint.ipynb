{
 "cells": [
  {
   "cell_type": "markdown",
   "id": "7595508f",
   "metadata": {},
   "source": [
    "# PS 88 Week 11 Class Notebook"
   ]
  },
  {
   "cell_type": "code",
   "execution_count": null,
   "id": "c2f1d5b8",
   "metadata": {},
   "outputs": [],
   "source": [
    "import numpy as np\n",
    "import seaborn as sns\n",
    "import statsmodels.formula.api as smf\n",
    "import pandas as pd\n",
    "import matplotlib.pyplot as plt\n",
    "%matplotlib inline"
   ]
  },
  {
   "cell_type": "markdown",
   "id": "d1cecf3b",
   "metadata": {},
   "source": [
    "Often times the relationship between variables is not linear, which is assumed by the basic regressions we have run so far. Here is an example with simulated data:"
   ]
  },
  {
   "cell_type": "code",
   "execution_count": null,
   "id": "4a9db878",
   "metadata": {},
   "outputs": [],
   "source": [
    "x = np.random.normal(1,1,size=100)\n",
    "y  = 2*x - 3*x**2 + np.random.normal(0,1, size=100)\n",
    "dat = pd.DataFrame(data={\"x\":x, \"y\":y})\n",
    "dat"
   ]
  },
  {
   "cell_type": "markdown",
   "id": "a3f0ca98",
   "metadata": {},
   "source": [
    "If we draw a \"best fit line\" through this x and y it is clear that we are not fitting the data well: the relationship is \"curved\"."
   ]
  },
  {
   "cell_type": "code",
   "execution_count": null,
   "id": "2ddb17c1",
   "metadata": {},
   "outputs": [],
   "source": [
    "sns.regplot(...)"
   ]
  },
  {
   "cell_type": "markdown",
   "id": "87295b12",
   "metadata": {},
   "source": [
    "We can still run a bivariate regression which tries to predict y given x in a linear fashion with `smf.ols`:"
   ]
  },
  {
   "cell_type": "code",
   "execution_count": null,
   "id": "1eaaa5f9",
   "metadata": {},
   "outputs": [],
   "source": [
    "smf.ols(...).fit().summary()"
   ]
  },
  {
   "cell_type": "markdown",
   "id": "4075ee1d",
   "metadata": {},
   "source": [
    "Here we get a reasonably strong negative slope (which is statistically significant), so without looking at the graph we might just declare vitory and move on.\n",
    "\n",
    "However, we can describe this relatinship much better by adding a *quadratic term*, or effectively fitting a \"best fit parabola\" through the data. That is, rather than finding an $a$ and $b_1$ to minimize the error terms in a bivariate linear regression:\n",
    "$$\n",
    "Y_i = a + b_1 X_i + e_i\n",
    "$$\n",
    "we can find an $a$, $b_1$, and $b_2$ to minimize the error terms which result from the following equation:\n",
    "$$\n",
    "Y_i = a + b_1 X_i + b_2 X_i^2 + e_i\n",
    "$$"
   ]
  },
  {
   "cell_type": "markdown",
   "id": "b2da5538",
   "metadata": {},
   "source": [
    "An easy way to do this visually is to use the `sns.regplot` function and add an `order=2` argument, which essentially says \"fit a second-order polynomial\", which is the quadratic function above."
   ]
  },
  {
   "cell_type": "code",
   "execution_count": null,
   "id": "ee0d5dd2",
   "metadata": {},
   "outputs": [],
   "source": []
  },
  {
   "cell_type": "markdown",
   "id": "3beecb15",
   "metadata": {},
   "source": [
    "Clearly the error terms are much smaller here! To see this formally we can use `smf.ols` to find the $a$, $b_1$, and $b_2$ which best fit the data. To add the quadratic term we add a `+ I(x**2)` term in our regression formula:"
   ]
  },
  {
   "cell_type": "code",
   "execution_count": null,
   "id": "3904f957",
   "metadata": {},
   "outputs": [],
   "source": []
  },
  {
   "cell_type": "markdown",
   "id": "c4380cf1",
   "metadata": {},
   "source": [
    "We can see the fit is much better because the $R^2$ value goes way up to .97."
   ]
  },
  {
   "cell_type": "markdown",
   "id": "36920793",
   "metadata": {},
   "source": [
    "How can we interpret these coefficients? The slope of the relationship between $x$ and $y$ is no longer constant: this is what it means for the relationship to be nonlinear!\n",
    "\n",
    "If our best fit cure is given by $y = a + b_1 x + b_2 x^2$, then by a standard calculus calculation, the slope *as a function of $x$ is now:\n",
    "$$\n",
    "b_1  + 2 b_2 x\n",
    "$$\n",
    "\n",
    "Note that if $x=0$, the slope is just $b_1$. So the coefficient on our \"linear term\" (1.99 in this example) tells us the slope at $x=0$. (If you look back at the regplot you should be able to see the curve is increasing at $x=0$.  "
   ]
  },
  {
   "cell_type": "markdown",
   "id": "4359044e",
   "metadata": {},
   "source": [
    "One way we can interpret the $b_2$ coefficient (-2.9 above) is how the slope changes as x increases. Since this is negative, the slope gets more negative as $x$ increases. And, as we can see in the regplot, the slope is positive when $x$ is negative/small, and then gets negative when $x$ is higher. We often call this a \"inverse u-shaped curve\". This general shape will arise when there is a negative coefficient on the quadratic term. Here is another example:"
   ]
  },
  {
   "cell_type": "code",
   "execution_count": null,
   "id": "06d68959",
   "metadata": {},
   "outputs": [],
   "source": [
    "x2 = np.random.normal(1,1,size=100)\n",
    "y2  = -2*x2 + 3*x2**2 + np.random.normal(0,1, size=100)\n",
    "dat2 = pd.DataFrame(data={\"x\":x2, \"y\":y2})\n",
    "sns.regplot(x='x', y='y', data=dat2, order =2, ci=0)\n"
   ]
  },
  {
   "cell_type": "markdown",
   "id": "ff0b6197",
   "metadata": {},
   "source": [
    "Here the curve is \"flipped\", and the slope is negative for low x and then gets more positive. "
   ]
  },
  {
   "cell_type": "code",
   "execution_count": null,
   "id": "756847a4",
   "metadata": {},
   "outputs": [],
   "source": []
  },
  {
   "cell_type": "markdown",
   "id": "9d2a6ad4",
   "metadata": {},
   "source": [
    "Note we now have a positive squared term. \n",
    "\n",
    "Combining, here is how to interpret the coefficients in regressions with a squared term:\n",
    "- The linear term always tells us the slope when our independent variable is equal to zero\n",
    "- If the squared term coefficient is postive, the slope increases as x increases, creating a u-shaped curve. If the squared term coefficient is negative, the slope decreases as x increases, creating a inverse-u shaped curve."
   ]
  },
  {
   "cell_type": "markdown",
   "id": "e1156c34",
   "metadata": {},
   "source": [
    "We can go beyond using squared terms, and add a \"cubed term\", etc. This will allow us to more flexibly fit the data. Here is a more complicated example:"
   ]
  },
  {
   "cell_type": "code",
   "execution_count": null,
   "id": "01cb3bd2",
   "metadata": {
    "scrolled": true
   },
   "outputs": [],
   "source": [
    "y2 = x + .5*x**3 -  10*np.sin(2*x) + np.random.normal(0, 1, 100)\n",
    "dat['y2'] = y2\n",
    "sns.regplot(x=x, y=y2, data=dat, ci=0)"
   ]
  },
  {
   "cell_type": "markdown",
   "id": "75ea4f17",
   "metadata": {},
   "source": [
    "Here a linear term doesn't fit very well at all. Let's try with a quadratic term by adding an `order=2` argument to `sns.regplot`:"
   ]
  },
  {
   "cell_type": "code",
   "execution_count": null,
   "id": "94bbaf4b",
   "metadata": {},
   "outputs": [],
   "source": []
  },
  {
   "cell_type": "markdown",
   "id": "5fe20521",
   "metadata": {},
   "source": [
    "That's a bit better, but it still doesn't fit the curve very well. We can always just up our order argument to have a more flexible curve:"
   ]
  },
  {
   "cell_type": "code",
   "execution_count": null,
   "id": "8e5b4513",
   "metadata": {},
   "outputs": [],
   "source": []
  },
  {
   "cell_type": "markdown",
   "id": "392af678",
   "metadata": {},
   "source": [
    "That works better! \n",
    "\n",
    "For toy examples like this we can just add more and more polynomial terms (a higher order argument) and can fit the data pretty well. However, this comes at a cost of making the slopes from a regression much harder to interpret. We will typically focus on cases with just a quadratic term in real examples."
   ]
  },
  {
   "cell_type": "markdown",
   "id": "f90c4565",
   "metadata": {},
   "source": [
    "## Interaction terms"
   ]
  },
  {
   "cell_type": "markdown",
   "id": "cd4a68c0",
   "metadata": {},
   "source": [
    "Now let's consider the possibility that the relationship between our independent variable and dependent variable changes as another independent variable changes. That may sound pretty abstract, so let's see an example with the data from the lab last week on ACA voting and the 2010 midterms."
   ]
  },
  {
   "cell_type": "code",
   "execution_count": null,
   "id": "ab382ce8",
   "metadata": {},
   "outputs": [],
   "source": [
    "hcr_mid = pd.read_stata(\"hcr_midterm.dta\")\n",
    "hcr_mid"
   ]
  },
  {
   "cell_type": "markdown",
   "id": "2b7d6d32",
   "metadata": {},
   "source": [
    "Recall we want to focus on democrats who were in competitive districts"
   ]
  },
  {
   "cell_type": "code",
   "execution_count": null,
   "id": "9da8c8d1",
   "metadata": {
    "scrolled": true
   },
   "outputs": [],
   "source": [
    "hcr_mid = hcr_mid[(hcr_mid[\"dem_n\"] > 0) & (hcr_mid[\"party\"]==\"D\")]\n",
    "hcr_mid"
   ]
  },
  {
   "cell_type": "markdown",
   "id": "4fd14e97",
   "metadata": {},
   "source": [
    "The multivariate regression we considered before"
   ]
  },
  {
   "cell_type": "code",
   "execution_count": null,
   "id": "11be8ded",
   "metadata": {},
   "outputs": [],
   "source": [
    "ols_mv = smf.ols('dem_n ~ hcr_yes + obama', data=hcr_mid).fit()\n",
    "ols_mv.summary()"
   ]
  },
  {
   "cell_type": "markdown",
   "id": "e95f2f58",
   "metadata": {},
   "source": [
    "Visualizing this regression"
   ]
  },
  {
   "cell_type": "code",
   "execution_count": null,
   "id": "145bdd23",
   "metadata": {},
   "outputs": [],
   "source": [
    "sns.scatterplot(x='obama', y='dem_n', data=hcr_mid_y, color=\"green\")\n",
    "sns.scatterplot(x='obama', y='dem_n', data=hcr_mid_n, color=\"orange\")\n",
    "xrange = np.arange(30, 100)\n",
    "plt.plot(xrange, ols_mv.params[0] + xrange*ols_mv.params[2], color=\"orange\")\n",
    "plt.plot(xrange, ols_mv.params[0] + ols_mv.params[1] + xrange*ols_mv.params[2], color=\"green\")"
   ]
  },
  {
   "cell_type": "markdown",
   "id": "6a662034",
   "metadata": {},
   "source": [
    "If you eyeball the graph, it looks like the slope of the yellow points (no votes) may be less steep than the slope of the green dots. Let's check that by running seperate regplots on the two groups."
   ]
  },
  {
   "cell_type": "code",
   "execution_count": null,
   "id": "14b0bbc0",
   "metadata": {},
   "outputs": [],
   "source": [
    "hcr_mid_y = hcr_mid[hcr_mid[\"hcr_yes\"] == 1]\n",
    "hcr_mid_n = hcr_mid[hcr_mid[\"hcr_yes\"] == 0]"
   ]
  },
  {
   "cell_type": "code",
   "execution_count": null,
   "id": "23f7cc3c",
   "metadata": {},
   "outputs": [],
   "source": []
  },
  {
   "cell_type": "markdown",
   "id": "0e87d100",
   "metadata": {},
   "source": [
    "Note that the orange line gives the prediction of how well the Democratic member of congress would do in the midterm as a function of Obama vote share when voting no, and the blue line is the prediction if voting yes. So when the orange line is higher, these linear regressions would predict that the member of congress would do better voting no, while when the blue line is higher we predict the Democratic member of congress would do better when voting yes. we can see here that the lines cross around a 58% vote share for Obama. So, for those in conservative/moderate districts we predict that voting yes leads to fewer votes, while for this in more liberal districts voting yes is associated with a higher vote share.\n"
   ]
  },
  {
   "cell_type": "markdown",
   "id": "a6f123ac",
   "metadata": {},
   "source": [
    "If we step back and think about the context, this makes a lot of sense. The ACA was broadly viewed as a liberal piece of legislation (not as much as some would like though!). Districts where Obama did worse in 2008 likely have a lot of more moderate to conservative voters, who did not like his signature legislation. So, voters may have punished Democrats who voted for the bill in such districts. On the other hand, in more liberal districts where Obama did well we should expect voters wanted their representatives to vote *yes*. \n",
    "\n",
    "More generally, the relationship between the ACA vote and midterm performance should be different for districts with low and high Obama vote share. And that is exactly what we find!"
   ]
  },
  {
   "cell_type": "markdown",
   "id": "05b09fcd",
   "metadata": {},
   "source": [
    "We can do a similar analysis by running one regression with an *interaction term*. In equation form, we find an $a$, $b_1$, $b_2$, and $b_3$ which minimize the squared error terms for the following equation:\n",
    "$$\n",
    "Y_i = a + b_1 X_i + b_2 Z_i + b_3 X_i \\times Z_i + \\epsilon_i\n",
    "$$\n",
    "where in this example $Y_i$ is the Democrat midterm vote share, $X_i$ is the vote for the ACA, and $Y_i$ is the Obama vote share.\n",
    "\n",
    "Once we get our coefficients (which we will do in a second), we can predict the vote share for someone who voted no by plugging in $X_i=0$ to this equation, which gives:\n",
    "$$\n",
    "Y_i = a + b_2 Z_i + \\epsilon_i\n",
    "$$\n",
    "and for someone who votes yes ($X_i =1$) we get:\n",
    "$$\n",
    "Y_i = a + b_1 + (b_2 + b_3) Z_i + \\epsilon_i\n",
    "$$\n",
    "\n",
    "In other words, we are estimating a different slope and intercept for the $X_i=0$ case (no votes) and the $X_i =1$ case (yes votes).\n",
    "\n",
    "Let's see how this looks in the ACA example. We can include the interaction term by adding a \"hcr_yes:obama\" to the regression formula.,"
   ]
  },
  {
   "cell_type": "code",
   "execution_count": null,
   "id": "99c238cc",
   "metadata": {},
   "outputs": [],
   "source": []
  },
  {
   "cell_type": "markdown",
   "id": "2b674ffb",
   "metadata": {},
   "source": [
    "Recall that the \"hcr_yes\" (or $X_i$) variable is equal to 0 or 1. When it is equal to zero, we are left with the following prediction:\n",
    "$$\n",
    "\\text{dem_n} = 24.41 + 0.504 \\times \\text{Obama}\n",
    "$$\n",
    "for people who vote yes we get:\n",
    "$$\n",
    "\\text{dem_n} = 24.41 - 27.6 + (0.504 + .484) \\times \\text{Obama}\n",
    "$$\n",
    "If we want to know the difference in the prediction for vote share when voting yes vs no we subtract the first from the second which gives:\n",
    "$$\n",
    "-27.6 + .484 \\times \\text{Obama}\n",
    "$$\n",
    "This tells us that in a hypothetical district where Obama got 0 votes, the predicted change in vote share when voting for the ACA is a decline of 27.6%. This is huge, but of course there are no districts represented by Democrats where Obama got no votes!\n",
    "\n",
    "We To see the prediction for a district with a 50% obama vote share we can plug this into the formula above:"
   ]
  },
  {
   "cell_type": "code",
   "execution_count": null,
   "id": "320d3180",
   "metadata": {},
   "outputs": [],
   "source": []
  },
  {
   "cell_type": "markdown",
   "id": "f3967954",
   "metadata": {},
   "source": [
    "For such a district we estimate a small (but meaningful) penalty of losing about 3.4% of the vote. How about a \"safe district\" where Obama won 75% of the vote?\n"
   ]
  },
  {
   "cell_type": "code",
   "execution_count": null,
   "id": "acba9f0a",
   "metadata": {},
   "outputs": [],
   "source": []
  },
  {
   "cell_type": "markdown",
   "id": "791d20b2",
   "metadata": {},
   "source": [
    "In such a district those who vote for the ACA are predicte to do better. We can recreate the \"two regression\" plot by plotting the predictions for yes and no voters separately."
   ]
  },
  {
   "cell_type": "code",
   "execution_count": null,
   "id": "37623ea0",
   "metadata": {},
   "outputs": [],
   "source": [
    "ols_int.params"
   ]
  },
  {
   "cell_type": "markdown",
   "id": "982c6daa",
   "metadata": {},
   "source": [
    "Checking that our interactive regression model model gives the graph"
   ]
  },
  {
   "cell_type": "code",
   "execution_count": null,
   "id": "90fc6492",
   "metadata": {},
   "outputs": [],
   "source": [
    "sns.scatterplot(x='obama', y='dem_n', data=hcr_mid_y, color=\"green\")\n",
    "sns.scatterplot(x='obama', y='dem_n', data=hcr_mid_n, color=\"orange\")\n",
    "xrange = np.arange(30, 100)\n",
    "plt.plot(xrange, ols_int.params[0] + xrange*ols_int.params[2], color=\"orange\")\n",
    "plt.plot(xrange, ols_int.params[0] + ols_int.params[1]+ \n",
    "         (ols_int.params[2] + ols_int.params[3])*xrange, color=\"green\")"
   ]
  },
  {
   "cell_type": "markdown",
   "id": "f733f359",
   "metadata": {},
   "source": [
    "More broadly, this interaction term tells us how the predicted change $Y$ as $X$ goes up by one unit changes as $Y$ goes up by one unit. A positive interaction means that as $Z$ increases the relationship between $X$ and $Y$ becomes more positive, and the reverse is true if negative."
   ]
  },
  {
   "cell_type": "code",
   "execution_count": null,
   "id": "f9df6aaf",
   "metadata": {},
   "outputs": [],
   "source": []
  },
  {
   "cell_type": "code",
   "execution_count": null,
   "id": "166aac83",
   "metadata": {},
   "outputs": [],
   "source": []
  },
  {
   "cell_type": "code",
   "execution_count": null,
   "id": "2670a889",
   "metadata": {},
   "outputs": [],
   "source": []
  },
  {
   "cell_type": "code",
   "execution_count": null,
   "id": "91b481d0",
   "metadata": {},
   "outputs": [],
   "source": []
  },
  {
   "cell_type": "code",
   "execution_count": null,
   "id": "93cbac24",
   "metadata": {},
   "outputs": [],
   "source": []
  },
  {
   "cell_type": "code",
   "execution_count": null,
   "id": "570a8efa",
   "metadata": {},
   "outputs": [],
   "source": []
  }
 ],
 "metadata": {
  "kernelspec": {
   "display_name": "Python 3 (ipykernel)",
   "language": "python",
   "name": "python3"
  },
  "language_info": {
   "codemirror_mode": {
    "name": "ipython",
    "version": 3
   },
   "file_extension": ".py",
   "mimetype": "text/x-python",
   "name": "python",
   "nbconvert_exporter": "python",
   "pygments_lexer": "ipython3",
   "version": "3.9.7"
  }
 },
 "nbformat": 4,
 "nbformat_minor": 5
}
