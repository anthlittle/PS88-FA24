{
 "cells": [
  {
   "cell_type": "markdown",
   "id": "e49c940f",
   "metadata": {},
   "source": [
    "# PS Lecture - Game Theory and Electoral Competition"
   ]
  },
  {
   "cell_type": "markdown",
   "id": "5c8ad6e3",
   "metadata": {},
   "source": [
    "## Introduction\n",
    "So far we have talked about how game theory can provide insight into big questions about the foundations of politics. In studying collective action, we saw how sometimes people pursuing their own interest could lead to bad outcomes, opening a door for government or other political organization to improve society.\n",
    "\n",
    "In studying bargaining, we started thinking about what might happen in scenarios where there are several possible “good” outcomes, but people disagree about which of them is best. This week we will push further in this direction with a more explicitly political model."
   ]
  },
  {
   "cell_type": "markdown",
   "id": "7e4ba8da",
   "metadata": {},
   "source": [
    "## Policy-Making and Elections\n",
    "While some policy-making processes look like bargaining -- think groups of legislators trying to write and pass a bill -- another way we try and decide whose preferences over policies get enacted is with elections. In this section, we will study models that ask how politicians competing for votes pick the policies that they do. We will see that the answer to this question is deeply linked to the question of “does it make sense to talk about the aggregate preferences of an electorate”."
   ]
  },
  {
   "cell_type": "markdown",
   "id": "1f4e27c4",
   "metadata": {},
   "source": [
    "## Game Theory and Voting\n",
    "Now that we've learned some language of game theory, hopefully you can recognize why this is a game. When voters decide who to vote for, this depends on how they expect different politicians to behave in office. In this case, they ask themselves \"which politician is more likely to pick the policies I like\"?\n",
    "\n",
    "Similarly, when politicians are deciding what policies to choose, they care about how voters will react. They also might care about what other politicians do.\n",
    "\n",
    "To see how this can play out, let's go through a famous model of electoral competition, popularized by Anthony Downs."
   ]
  },
  {
   "cell_type": "markdown",
   "id": "d18889dd",
   "metadata": {},
   "source": [
    "## Downs Model of Electoral Competition\n",
    "### Two Policy Choices\n",
    "Let's start with a simple model of politician behavior with re-election motives. In the background, we will imagine there are some voters, who all have a preference over two potential policies. To be concrete, suppose one is to legalize recreational use of drugs, and the other is to restrict their usage.\n",
    "\n",
    "Let the number of voters who strictly prefer legalizing be \\(n_L\\), and the number who strictly prefer restricting be \\(n_R\\). Some voters also may be indifferent; you can imagine they won’t vote.\n",
    "\n",
    "Assume everyone knows that \\(n_L > n_R\\), so more citizens prefer legalization.\n",
    "\n",
    "Now for the actual game. There are two candidates for office, A and B. They each campaign on one of the two policies: L or R. Suppose they announce their policies simultaneously, so this is a normal form game."
   ]
  },
  {
   "cell_type": "markdown",
   "id": "e6fc053b",
   "metadata": {},
   "source": [
    "### Utilities and Outcomes\n",
    "As for utilities, if they both propose the same policy, assume they tie (or win the election with equal probability), giving utilities \\(\\frac{1}{2}, \\frac{1}{2}\\). If one picks L and the other picks R, the one picking L will get utility 1 and the one picking R will get utility 0.\n",
    "\n",
    "There won’t be any big surprises here: both parties will propose the popular policy L. To see that in game form…."
   ]
  },
  {
   "cell_type": "markdown",
   "id": "afdacf55",
   "metadata": {},
   "source": [
    "## Extending the Model: Three Policy Choices\n",
    "Now let’s consider a slightly more complicated scenario with three policies: legalize, allow medical use, or restrict. Here let’s suppose there are just three voters, with strict preferences over the potential policies. The first likes L best, then M, then R. The second likes M best, then R, then L. The third likes R best, then L, then M.\n",
    "\n",
    "As before, two candidates A and B both propose one policy. If they pick the same policy, they tie and get utilities (\\(\\frac{1}{2}, \\frac{1}{2}\\)). If they propose different policies, the winner is chosen by majority rule, with the winner getting 1 and the loser getting 0."
   ]
  },
  {
   "cell_type": "markdown",
   "id": "6faf3aab",
   "metadata": {},
   "source": [
    "### Majority Rule and Nash Equilibrium\n",
    "This is like a game of rock-paper-scissors. Why was there no Nash Equilibrium here? In a sense, because there is no coherent way to describe what the voters want. To bring back some ideas from earlier, even though individual voters had complete and transitive preferences, the “group preferences” as defined by majority rule were not transitive: they say L is better than M, M is better than R, but R is better than L.\n",
    "\n",
    "And precisely because of this cycle, there is no way for the candidates to behave that is a mutual best response."
   ]
  },
  {
   "cell_type": "markdown",
   "id": "c56f5bbf",
   "metadata": {},
   "source": [
    "## Conclusion\n",
    "In sum, we have explored how game theory applies to voting and electoral competition, and seen how the median voter theorem and issues like cycling can influence the strategies candidates adopt. This model is useful for understanding some basic tendencies in democratic elections, though it has limitations, as real-world scenarios often involve more complex voter and politician behaviors."
   ]
  },
  {
   "cell_type": "markdown",
   "id": "2d958e45",
   "metadata": {},
   "source": [
    "## The Median Voter Theorem\n",
    "Now that we are warmed up, let’s consider the main model we will study empirically. Again, we have two candidates A and B, and an odd number of voters. The potential policies are now any number between 0, which will represent the most liberal platform, and 1, which will represent the most conservative platform.\n",
    "\n",
    "Voters care about policy and have an \"ideal point\" \\(x_i\\), which represents the policy that they want politicians to implement. Loosely speaking, higher \\(x_i\\) means wanting more conservative policies, while lower \\(x_i\\) means wanting more liberal policies.\n",
    "\n",
    "The two candidates simultaneously propose platforms, which we’ll call \\(x_A\\) for candidate A and \\(x_B\\) for candidate B. The candidates don’t intrinsically care about policy in this model; they just care about winning elections. Voters, in turn, vote for whichever candidate proposes a platform closer to their ideal point.\n",
    "\n",
    "The Nash equilibrium occurs when both candidates propose the platform of the median voter, denoted \\(x_m\\). At this point, neither candidate wants to change their behavior, as doing so would result in losing the election."
   ]
  },
  {
   "cell_type": "markdown",
   "id": "b3ad82e7",
   "metadata": {},
   "source": [
    "## Conclusion\n",
    "In this notebook, we explored how game theory applies to elections, focusing on key concepts like the median voter theorem. We also examined how different policies and voter preferences interact, shaping the outcomes of elections. As we saw with the Downs-Hotelling model and the concept of Nash equilibrium, candidates tend to converge towards the median voter’s preferences under certain conditions."
   ]
  }
 ],
 "metadata": {
  "kernelspec": {
   "display_name": "Python 3 (ipykernel)",
   "language": "python",
   "name": "python3"
  },
  "language_info": {
   "codemirror_mode": {
    "name": "ipython",
    "version": 3
   },
   "file_extension": ".py",
   "mimetype": "text/x-python",
   "name": "python",
   "nbconvert_exporter": "python",
   "pygments_lexer": "ipython3",
   "version": "3.9.7"
  }
 },
 "nbformat": 4,
 "nbformat_minor": 5
}
