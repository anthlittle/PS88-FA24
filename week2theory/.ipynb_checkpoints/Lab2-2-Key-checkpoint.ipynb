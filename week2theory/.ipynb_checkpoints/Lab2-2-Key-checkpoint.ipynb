{
 "cells": [
  {
   "cell_type": "markdown",
   "id": "0bd5558a",
   "metadata": {},
   "source": [
    "# PS 88 Lab 2b: Simulation Shelling's Segregation Model\n",
    "\n",
    "In the second part of this lab we will show how to leverage the power of simulation to quickly and easily run algorithms like the Schelling segregation model. \n",
    "\n",
    "One thing that is a different about this notebook: the code here is written in the statistical software R, rather than Python. (Note in the top right corner of the notebook there is an \"R\" where it would say \"Python\" otherwise.\n",
    "\n",
    "Like Python, R is used extremely widely in both industry and academia.\n",
    "\n",
    "This won't make any difference from your perspective, it just means that the code we have written to run the simulation uses a different language. R and Python syntax are generally pretty similar, so knowing one helps learn the other. In fact, since all we are going to ask you to do here is call functions which are pre-written, any code you write will look exactly as it would if we programmed the algorithm in Python, with one small exception flagged below. (There are many strong opinions about which is better for which purposes, but the short and neutral summary is that R tends to be used more by people who just need to run statistical analyses, while Python is a general programming tool.)\n",
    "\n",
    "The first line of code here runs an R script which contains the functions to run and display the segregation algorithm."
   ]
  },
  {
   "cell_type": "code",
   "execution_count": 1,
   "id": "3aabff90",
   "metadata": {},
   "outputs": [],
   "source": [
    "# Loading up functions\n",
    "source(\"Rschelling.R\")"
   ]
  },
  {
   "cell_type": "markdown",
   "id": "c9c45221",
   "metadata": {},
   "source": [
    "The main function we have written for you is called `display_schelling`. As we will see, this function can run variants of the algorithm from the lecture. This function requires at least one *argument*, which is the initial arrangement of houses. We will call an arrangement of houses a city, and input this with a *string* which is what R and Python call variables that are letters. In particular, the string for the class example is \"ABABABAB_\").\n",
    "\n",
    "The following line of code replicates the example from class. "
   ]
  },
  {
   "cell_type": "code",
   "execution_count": 2,
   "id": "e2147142",
   "metadata": {},
   "outputs": [
    {
     "data": {
      "text/html": [
       "<table class=\"dataframe\">\n",
       "<caption>A data.frame: 34 × 3</caption>\n",
       "<thead>\n",
       "\t<tr><th scope=col>Turn</th><th scope=col>Choice</th><th scope=col>Outcome</th></tr>\n",
       "\t<tr><th scope=col>&lt;chr&gt;</th><th scope=col>&lt;chr&gt;</th><th scope=col>&lt;chr&gt;</th></tr>\n",
       "</thead>\n",
       "<tbody>\n",
       "\t<tr><td>0</td><td>Start                       </td><td>ABABABAB_</td></tr>\n",
       "\t<tr><td>1</td><td>the  A in slot  1 stays     </td><td>ABABABAB_</td></tr>\n",
       "\t<tr><td>2</td><td>the  B in slot  2 moves to 9</td><td>A_ABABABB</td></tr>\n",
       "\t<tr><td>1</td><td>the  A in slot  1 moves to 2</td><td>_AABABABB</td></tr>\n",
       "\t<tr><td>1</td><td>empty house                 </td><td>_AABABABB</td></tr>\n",
       "\t<tr><td>2</td><td>the  A in slot  2 stays     </td><td>_AABABABB</td></tr>\n",
       "\t<tr><td>3</td><td>the  A in slot  3 stays     </td><td>_AABABABB</td></tr>\n",
       "\t<tr><td>4</td><td>the  B in slot  4 stays     </td><td>_AABABABB</td></tr>\n",
       "\t<tr><td>5</td><td>the  A in slot  5 moves to 1</td><td>AAAB_BABB</td></tr>\n",
       "\t<tr><td>1</td><td>the  A in slot  1 stays     </td><td>AAAB_BABB</td></tr>\n",
       "\t<tr><td>2</td><td>the  A in slot  2 stays     </td><td>AAAB_BABB</td></tr>\n",
       "\t<tr><td>3</td><td>the  A in slot  3 stays     </td><td>AAAB_BABB</td></tr>\n",
       "\t<tr><td>4</td><td>the  B in slot  4 moves to 5</td><td>AAA_BBABB</td></tr>\n",
       "\t<tr><td>1</td><td>the  A in slot  1 stays     </td><td>AAA_BBABB</td></tr>\n",
       "\t<tr><td>2</td><td>the  A in slot  2 stays     </td><td>AAA_BBABB</td></tr>\n",
       "\t<tr><td>3</td><td>the  A in slot  3 stays     </td><td>AAA_BBABB</td></tr>\n",
       "\t<tr><td>4</td><td>empty house                 </td><td>AAA_BBABB</td></tr>\n",
       "\t<tr><td>5</td><td>the  B in slot  5 stays     </td><td>AAA_BBABB</td></tr>\n",
       "\t<tr><td>6</td><td>the  B in slot  6 stays     </td><td>AAA_BBABB</td></tr>\n",
       "\t<tr><td>7</td><td>the  A in slot  7 moves to 4</td><td>AAAABB_BB</td></tr>\n",
       "\t<tr><td>1</td><td>the  A in slot  1 stays     </td><td>AAAABB_BB</td></tr>\n",
       "\t<tr><td>2</td><td>the  A in slot  2 stays     </td><td>AAAABB_BB</td></tr>\n",
       "\t<tr><td>3</td><td>the  A in slot  3 stays     </td><td>AAAABB_BB</td></tr>\n",
       "\t<tr><td>4</td><td>the  A in slot  4 stays     </td><td>AAAABB_BB</td></tr>\n",
       "\t<tr><td>5</td><td>the  B in slot  5 moves to 7</td><td>AAAA_BBBB</td></tr>\n",
       "\t<tr><td>1</td><td>the  A in slot  1 stays     </td><td>AAAA_BBBB</td></tr>\n",
       "\t<tr><td>2</td><td>the  A in slot  2 stays     </td><td>AAAA_BBBB</td></tr>\n",
       "\t<tr><td>3</td><td>the  A in slot  3 stays     </td><td>AAAA_BBBB</td></tr>\n",
       "\t<tr><td>4</td><td>the  A in slot  4 stays     </td><td>AAAA_BBBB</td></tr>\n",
       "\t<tr><td>5</td><td>empty house                 </td><td>AAAA_BBBB</td></tr>\n",
       "\t<tr><td>6</td><td>the  B in slot  6 stays     </td><td>AAAA_BBBB</td></tr>\n",
       "\t<tr><td>7</td><td>the  B in slot  7 stays     </td><td>AAAA_BBBB</td></tr>\n",
       "\t<tr><td>8</td><td>the  B in slot  8 stays     </td><td>AAAA_BBBB</td></tr>\n",
       "\t<tr><td>9</td><td>the  B in slot  9 stays     </td><td>AAAA_BBBB</td></tr>\n",
       "</tbody>\n",
       "</table>\n"
      ],
      "text/latex": [
       "A data.frame: 34 × 3\n",
       "\\begin{tabular}{lll}\n",
       " Turn & Choice & Outcome\\\\\n",
       " <chr> & <chr> & <chr>\\\\\n",
       "\\hline\n",
       "\t 0 & Start                        & ABABABAB\\_\\\\\n",
       "\t 1 & the  A in slot  1 stays      & ABABABAB\\_\\\\\n",
       "\t 2 & the  B in slot  2 moves to 9 & A\\_ABABABB\\\\\n",
       "\t 1 & the  A in slot  1 moves to 2 & \\_AABABABB\\\\\n",
       "\t 1 & empty house                  & \\_AABABABB\\\\\n",
       "\t 2 & the  A in slot  2 stays      & \\_AABABABB\\\\\n",
       "\t 3 & the  A in slot  3 stays      & \\_AABABABB\\\\\n",
       "\t 4 & the  B in slot  4 stays      & \\_AABABABB\\\\\n",
       "\t 5 & the  A in slot  5 moves to 1 & AAAB\\_BABB\\\\\n",
       "\t 1 & the  A in slot  1 stays      & AAAB\\_BABB\\\\\n",
       "\t 2 & the  A in slot  2 stays      & AAAB\\_BABB\\\\\n",
       "\t 3 & the  A in slot  3 stays      & AAAB\\_BABB\\\\\n",
       "\t 4 & the  B in slot  4 moves to 5 & AAA\\_BBABB\\\\\n",
       "\t 1 & the  A in slot  1 stays      & AAA\\_BBABB\\\\\n",
       "\t 2 & the  A in slot  2 stays      & AAA\\_BBABB\\\\\n",
       "\t 3 & the  A in slot  3 stays      & AAA\\_BBABB\\\\\n",
       "\t 4 & empty house                  & AAA\\_BBABB\\\\\n",
       "\t 5 & the  B in slot  5 stays      & AAA\\_BBABB\\\\\n",
       "\t 6 & the  B in slot  6 stays      & AAA\\_BBABB\\\\\n",
       "\t 7 & the  A in slot  7 moves to 4 & AAAABB\\_BB\\\\\n",
       "\t 1 & the  A in slot  1 stays      & AAAABB\\_BB\\\\\n",
       "\t 2 & the  A in slot  2 stays      & AAAABB\\_BB\\\\\n",
       "\t 3 & the  A in slot  3 stays      & AAAABB\\_BB\\\\\n",
       "\t 4 & the  A in slot  4 stays      & AAAABB\\_BB\\\\\n",
       "\t 5 & the  B in slot  5 moves to 7 & AAAA\\_BBBB\\\\\n",
       "\t 1 & the  A in slot  1 stays      & AAAA\\_BBBB\\\\\n",
       "\t 2 & the  A in slot  2 stays      & AAAA\\_BBBB\\\\\n",
       "\t 3 & the  A in slot  3 stays      & AAAA\\_BBBB\\\\\n",
       "\t 4 & the  A in slot  4 stays      & AAAA\\_BBBB\\\\\n",
       "\t 5 & empty house                  & AAAA\\_BBBB\\\\\n",
       "\t 6 & the  B in slot  6 stays      & AAAA\\_BBBB\\\\\n",
       "\t 7 & the  B in slot  7 stays      & AAAA\\_BBBB\\\\\n",
       "\t 8 & the  B in slot  8 stays      & AAAA\\_BBBB\\\\\n",
       "\t 9 & the  B in slot  9 stays      & AAAA\\_BBBB\\\\\n",
       "\\end{tabular}\n"
      ],
      "text/markdown": [
       "\n",
       "A data.frame: 34 × 3\n",
       "\n",
       "| Turn &lt;chr&gt; | Choice &lt;chr&gt; | Outcome &lt;chr&gt; |\n",
       "|---|---|---|\n",
       "| 0 | Start                        | ABABABAB_ |\n",
       "| 1 | the  A in slot  1 stays      | ABABABAB_ |\n",
       "| 2 | the  B in slot  2 moves to 9 | A_ABABABB |\n",
       "| 1 | the  A in slot  1 moves to 2 | _AABABABB |\n",
       "| 1 | empty house                  | _AABABABB |\n",
       "| 2 | the  A in slot  2 stays      | _AABABABB |\n",
       "| 3 | the  A in slot  3 stays      | _AABABABB |\n",
       "| 4 | the  B in slot  4 stays      | _AABABABB |\n",
       "| 5 | the  A in slot  5 moves to 1 | AAAB_BABB |\n",
       "| 1 | the  A in slot  1 stays      | AAAB_BABB |\n",
       "| 2 | the  A in slot  2 stays      | AAAB_BABB |\n",
       "| 3 | the  A in slot  3 stays      | AAAB_BABB |\n",
       "| 4 | the  B in slot  4 moves to 5 | AAA_BBABB |\n",
       "| 1 | the  A in slot  1 stays      | AAA_BBABB |\n",
       "| 2 | the  A in slot  2 stays      | AAA_BBABB |\n",
       "| 3 | the  A in slot  3 stays      | AAA_BBABB |\n",
       "| 4 | empty house                  | AAA_BBABB |\n",
       "| 5 | the  B in slot  5 stays      | AAA_BBABB |\n",
       "| 6 | the  B in slot  6 stays      | AAA_BBABB |\n",
       "| 7 | the  A in slot  7 moves to 4 | AAAABB_BB |\n",
       "| 1 | the  A in slot  1 stays      | AAAABB_BB |\n",
       "| 2 | the  A in slot  2 stays      | AAAABB_BB |\n",
       "| 3 | the  A in slot  3 stays      | AAAABB_BB |\n",
       "| 4 | the  A in slot  4 stays      | AAAABB_BB |\n",
       "| 5 | the  B in slot  5 moves to 7 | AAAA_BBBB |\n",
       "| 1 | the  A in slot  1 stays      | AAAA_BBBB |\n",
       "| 2 | the  A in slot  2 stays      | AAAA_BBBB |\n",
       "| 3 | the  A in slot  3 stays      | AAAA_BBBB |\n",
       "| 4 | the  A in slot  4 stays      | AAAA_BBBB |\n",
       "| 5 | empty house                  | AAAA_BBBB |\n",
       "| 6 | the  B in slot  6 stays      | AAAA_BBBB |\n",
       "| 7 | the  B in slot  7 stays      | AAAA_BBBB |\n",
       "| 8 | the  B in slot  8 stays      | AAAA_BBBB |\n",
       "| 9 | the  B in slot  9 stays      | AAAA_BBBB |\n",
       "\n"
      ],
      "text/plain": [
       "   Turn Choice                       Outcome  \n",
       "1  0    Start                        ABABABAB_\n",
       "2  1    the  A in slot  1 stays      ABABABAB_\n",
       "3  2    the  B in slot  2 moves to 9 A_ABABABB\n",
       "4  1    the  A in slot  1 moves to 2 _AABABABB\n",
       "5  1    empty house                  _AABABABB\n",
       "6  2    the  A in slot  2 stays      _AABABABB\n",
       "7  3    the  A in slot  3 stays      _AABABABB\n",
       "8  4    the  B in slot  4 stays      _AABABABB\n",
       "9  5    the  A in slot  5 moves to 1 AAAB_BABB\n",
       "10 1    the  A in slot  1 stays      AAAB_BABB\n",
       "11 2    the  A in slot  2 stays      AAAB_BABB\n",
       "12 3    the  A in slot  3 stays      AAAB_BABB\n",
       "13 4    the  B in slot  4 moves to 5 AAA_BBABB\n",
       "14 1    the  A in slot  1 stays      AAA_BBABB\n",
       "15 2    the  A in slot  2 stays      AAA_BBABB\n",
       "16 3    the  A in slot  3 stays      AAA_BBABB\n",
       "17 4    empty house                  AAA_BBABB\n",
       "18 5    the  B in slot  5 stays      AAA_BBABB\n",
       "19 6    the  B in slot  6 stays      AAA_BBABB\n",
       "20 7    the  A in slot  7 moves to 4 AAAABB_BB\n",
       "21 1    the  A in slot  1 stays      AAAABB_BB\n",
       "22 2    the  A in slot  2 stays      AAAABB_BB\n",
       "23 3    the  A in slot  3 stays      AAAABB_BB\n",
       "24 4    the  A in slot  4 stays      AAAABB_BB\n",
       "25 5    the  B in slot  5 moves to 7 AAAA_BBBB\n",
       "26 1    the  A in slot  1 stays      AAAA_BBBB\n",
       "27 2    the  A in slot  2 stays      AAAA_BBBB\n",
       "28 3    the  A in slot  3 stays      AAAA_BBBB\n",
       "29 4    the  A in slot  4 stays      AAAA_BBBB\n",
       "30 5    empty house                  AAAA_BBBB\n",
       "31 6    the  B in slot  6 stays      AAAA_BBBB\n",
       "32 7    the  B in slot  7 stays      AAAA_BBBB\n",
       "33 8    the  B in slot  8 stays      AAAA_BBBB\n",
       "34 9    the  B in slot  9 stays      AAAA_BBBB"
      ]
     },
     "metadata": {},
     "output_type": "display_data"
    }
   ],
   "source": [
    "display_schelling(\"ABABABAB_\")"
   ]
  },
  {
   "cell_type": "markdown",
   "id": "b08f51fd",
   "metadata": {},
   "source": [
    "The output here is a \"data frame\" where each line corresponds to a turn. The first column says who's turn it is (set to \"0\" for the initial setup), the second column says what they do, and the third column shows the resulting city arrangement."
   ]
  },
  {
   "cell_type": "markdown",
   "id": "2fb29bf8",
   "metadata": {},
   "source": [
    "The `display_schelling` function also has several *optional* arguments, which have a default value that you can override when you call the function. You will learn more about this soon in Data 8.\n",
    "\n",
    "Here is one we will often make use of throughout the lab: if we want to make things a bit more concise, we can add a `shorten=TRUE` argument, which only displays the turns where someone moves.\n",
    "\n",
    "(There is one subtle difference between R and Python syntax here: if this was Python we would write `True` rather than `TRUE`. If this bothers you, it also works to write `shorten=1` in either language.)"
   ]
  },
  {
   "cell_type": "code",
   "execution_count": 3,
   "id": "99a9124c",
   "metadata": {},
   "outputs": [
    {
     "data": {
      "text/html": [
       "<table class=\"dataframe\">\n",
       "<caption>A data.frame: 7 × 2</caption>\n",
       "<thead>\n",
       "\t<tr><th></th><th scope=col>Choice</th><th scope=col>Outcome</th></tr>\n",
       "\t<tr><th></th><th scope=col>&lt;chr&gt;</th><th scope=col>&lt;chr&gt;</th></tr>\n",
       "</thead>\n",
       "<tbody>\n",
       "\t<tr><th scope=row>1</th><td>Start                       </td><td>ABABABAB_</td></tr>\n",
       "\t<tr><th scope=row>3</th><td>the  B in slot  2 moves to 9</td><td>A_ABABABB</td></tr>\n",
       "\t<tr><th scope=row>4</th><td>the  A in slot  1 moves to 2</td><td>_AABABABB</td></tr>\n",
       "\t<tr><th scope=row>9</th><td>the  A in slot  5 moves to 1</td><td>AAAB_BABB</td></tr>\n",
       "\t<tr><th scope=row>13</th><td>the  B in slot  4 moves to 5</td><td>AAA_BBABB</td></tr>\n",
       "\t<tr><th scope=row>20</th><td>the  A in slot  7 moves to 4</td><td>AAAABB_BB</td></tr>\n",
       "\t<tr><th scope=row>25</th><td>the  B in slot  5 moves to 7</td><td>AAAA_BBBB</td></tr>\n",
       "</tbody>\n",
       "</table>\n"
      ],
      "text/latex": [
       "A data.frame: 7 × 2\n",
       "\\begin{tabular}{r|ll}\n",
       "  & Choice & Outcome\\\\\n",
       "  & <chr> & <chr>\\\\\n",
       "\\hline\n",
       "\t1 & Start                        & ABABABAB\\_\\\\\n",
       "\t3 & the  B in slot  2 moves to 9 & A\\_ABABABB\\\\\n",
       "\t4 & the  A in slot  1 moves to 2 & \\_AABABABB\\\\\n",
       "\t9 & the  A in slot  5 moves to 1 & AAAB\\_BABB\\\\\n",
       "\t13 & the  B in slot  4 moves to 5 & AAA\\_BBABB\\\\\n",
       "\t20 & the  A in slot  7 moves to 4 & AAAABB\\_BB\\\\\n",
       "\t25 & the  B in slot  5 moves to 7 & AAAA\\_BBBB\\\\\n",
       "\\end{tabular}\n"
      ],
      "text/markdown": [
       "\n",
       "A data.frame: 7 × 2\n",
       "\n",
       "| <!--/--> | Choice &lt;chr&gt; | Outcome &lt;chr&gt; |\n",
       "|---|---|---|\n",
       "| 1 | Start                        | ABABABAB_ |\n",
       "| 3 | the  B in slot  2 moves to 9 | A_ABABABB |\n",
       "| 4 | the  A in slot  1 moves to 2 | _AABABABB |\n",
       "| 9 | the  A in slot  5 moves to 1 | AAAB_BABB |\n",
       "| 13 | the  B in slot  4 moves to 5 | AAA_BBABB |\n",
       "| 20 | the  A in slot  7 moves to 4 | AAAABB_BB |\n",
       "| 25 | the  B in slot  5 moves to 7 | AAAA_BBBB |\n",
       "\n"
      ],
      "text/plain": [
       "   Choice                       Outcome  \n",
       "1  Start                        ABABABAB_\n",
       "3  the  B in slot  2 moves to 9 A_ABABABB\n",
       "4  the  A in slot  1 moves to 2 _AABABABB\n",
       "9  the  A in slot  5 moves to 1 AAAB_BABB\n",
       "13 the  B in slot  4 moves to 5 AAA_BBABB\n",
       "20 the  A in slot  7 moves to 4 AAAABB_BB\n",
       "25 the  B in slot  5 moves to 7 AAAA_BBBB"
      ]
     },
     "metadata": {},
     "output_type": "display_data"
    }
   ],
   "source": [
    "display_schelling(\"ABABABAB_\", shorten=TRUE)"
   ]
  },
  {
   "cell_type": "markdown",
   "id": "f09cea6f",
   "metadata": {},
   "source": [
    "One of the interesting features of this model is that seemingly small changes can have a big impact on the final result. Here is what happens if, in the initial arrangement, there are alternating pairs of As and Bs rather than alternating individuals."
   ]
  },
  {
   "cell_type": "code",
   "execution_count": 4,
   "id": "5aadea76",
   "metadata": {},
   "outputs": [
    {
     "data": {
      "text/html": [
       "<table class=\"dataframe\">\n",
       "<caption>A data.frame: 1 × 2</caption>\n",
       "<thead>\n",
       "\t<tr><th></th><th scope=col>Choice</th><th scope=col>Outcome</th></tr>\n",
       "\t<tr><th></th><th scope=col>&lt;chr&gt;</th><th scope=col>&lt;chr&gt;</th></tr>\n",
       "</thead>\n",
       "<tbody>\n",
       "\t<tr><th scope=row>1</th><td>Start</td><td>BBAABBAA_</td></tr>\n",
       "</tbody>\n",
       "</table>\n"
      ],
      "text/latex": [
       "A data.frame: 1 × 2\n",
       "\\begin{tabular}{r|ll}\n",
       "  & Choice & Outcome\\\\\n",
       "  & <chr> & <chr>\\\\\n",
       "\\hline\n",
       "\t1 & Start & BBAABBAA\\_\\\\\n",
       "\\end{tabular}\n"
      ],
      "text/markdown": [
       "\n",
       "A data.frame: 1 × 2\n",
       "\n",
       "| <!--/--> | Choice &lt;chr&gt; | Outcome &lt;chr&gt; |\n",
       "|---|---|---|\n",
       "| 1 | Start | BBAABBAA_ |\n",
       "\n"
      ],
      "text/plain": [
       "  Choice Outcome  \n",
       "1 Start  BBAABBAA_"
      ]
     },
     "metadata": {},
     "output_type": "display_data"
    }
   ],
   "source": [
    "display_schelling(\"BBAABBAA_\", shorten=TRUE)"
   ]
  },
  {
   "cell_type": "markdown",
   "id": "a89398dc",
   "metadata": {},
   "source": [
    "Hmm that looks a bit weird. Let's do the same thing but without the shorten option. One way we could do this is to just delete the `shorten=TRUE` argument, but to see another way we can do this is explicitly setting `shorten=FALSE`. The reason these do the same thing is that `shorten=FALSE` is the default setting (again, you will learn more about this in Data 8 when discussing functions), so if we don't specify whether to shorten the function will not do so."
   ]
  },
  {
   "cell_type": "code",
   "execution_count": 5,
   "id": "c6371ff3",
   "metadata": {},
   "outputs": [
    {
     "data": {
      "text/html": [
       "<table class=\"dataframe\">\n",
       "<caption>A data.frame: 10 × 3</caption>\n",
       "<thead>\n",
       "\t<tr><th scope=col>Turn</th><th scope=col>Choice</th><th scope=col>Outcome</th></tr>\n",
       "\t<tr><th scope=col>&lt;chr&gt;</th><th scope=col>&lt;chr&gt;</th><th scope=col>&lt;chr&gt;</th></tr>\n",
       "</thead>\n",
       "<tbody>\n",
       "\t<tr><td>0</td><td>Start                  </td><td>BBAABBAA_</td></tr>\n",
       "\t<tr><td>1</td><td>the  B in slot  1 stays</td><td>BBAABBAA_</td></tr>\n",
       "\t<tr><td>2</td><td>the  B in slot  2 stays</td><td>BBAABBAA_</td></tr>\n",
       "\t<tr><td>3</td><td>the  A in slot  3 stays</td><td>BBAABBAA_</td></tr>\n",
       "\t<tr><td>4</td><td>the  A in slot  4 stays</td><td>BBAABBAA_</td></tr>\n",
       "\t<tr><td>5</td><td>the  B in slot  5 stays</td><td>BBAABBAA_</td></tr>\n",
       "\t<tr><td>6</td><td>the  B in slot  6 stays</td><td>BBAABBAA_</td></tr>\n",
       "\t<tr><td>7</td><td>the  A in slot  7 stays</td><td>BBAABBAA_</td></tr>\n",
       "\t<tr><td>8</td><td>the  A in slot  8 stays</td><td>BBAABBAA_</td></tr>\n",
       "\t<tr><td>9</td><td>empty house            </td><td>BBAABBAA_</td></tr>\n",
       "</tbody>\n",
       "</table>\n"
      ],
      "text/latex": [
       "A data.frame: 10 × 3\n",
       "\\begin{tabular}{lll}\n",
       " Turn & Choice & Outcome\\\\\n",
       " <chr> & <chr> & <chr>\\\\\n",
       "\\hline\n",
       "\t 0 & Start                   & BBAABBAA\\_\\\\\n",
       "\t 1 & the  B in slot  1 stays & BBAABBAA\\_\\\\\n",
       "\t 2 & the  B in slot  2 stays & BBAABBAA\\_\\\\\n",
       "\t 3 & the  A in slot  3 stays & BBAABBAA\\_\\\\\n",
       "\t 4 & the  A in slot  4 stays & BBAABBAA\\_\\\\\n",
       "\t 5 & the  B in slot  5 stays & BBAABBAA\\_\\\\\n",
       "\t 6 & the  B in slot  6 stays & BBAABBAA\\_\\\\\n",
       "\t 7 & the  A in slot  7 stays & BBAABBAA\\_\\\\\n",
       "\t 8 & the  A in slot  8 stays & BBAABBAA\\_\\\\\n",
       "\t 9 & empty house             & BBAABBAA\\_\\\\\n",
       "\\end{tabular}\n"
      ],
      "text/markdown": [
       "\n",
       "A data.frame: 10 × 3\n",
       "\n",
       "| Turn &lt;chr&gt; | Choice &lt;chr&gt; | Outcome &lt;chr&gt; |\n",
       "|---|---|---|\n",
       "| 0 | Start                   | BBAABBAA_ |\n",
       "| 1 | the  B in slot  1 stays | BBAABBAA_ |\n",
       "| 2 | the  B in slot  2 stays | BBAABBAA_ |\n",
       "| 3 | the  A in slot  3 stays | BBAABBAA_ |\n",
       "| 4 | the  A in slot  4 stays | BBAABBAA_ |\n",
       "| 5 | the  B in slot  5 stays | BBAABBAA_ |\n",
       "| 6 | the  B in slot  6 stays | BBAABBAA_ |\n",
       "| 7 | the  A in slot  7 stays | BBAABBAA_ |\n",
       "| 8 | the  A in slot  8 stays | BBAABBAA_ |\n",
       "| 9 | empty house             | BBAABBAA_ |\n",
       "\n"
      ],
      "text/plain": [
       "   Turn Choice                  Outcome  \n",
       "1  0    Start                   BBAABBAA_\n",
       "2  1    the  B in slot  1 stays BBAABBAA_\n",
       "3  2    the  B in slot  2 stays BBAABBAA_\n",
       "4  3    the  A in slot  3 stays BBAABBAA_\n",
       "5  4    the  A in slot  4 stays BBAABBAA_\n",
       "6  5    the  B in slot  5 stays BBAABBAA_\n",
       "7  6    the  B in slot  6 stays BBAABBAA_\n",
       "8  7    the  A in slot  7 stays BBAABBAA_\n",
       "9  8    the  A in slot  8 stays BBAABBAA_\n",
       "10 9    empty house             BBAABBAA_"
      ]
     },
     "metadata": {},
     "output_type": "display_data"
    }
   ],
   "source": [
    "display_schelling(\"BBAABBAA_\", shorten=FALSE)"
   ]
  },
  {
   "cell_type": "markdown",
   "id": "410d9ce4",
   "metadata": {},
   "source": [
    "Ah, so what happened here is that, given this initial arrangment, no one wanted to move! \n",
    "\n",
    "**Question 2.1. Given the way we defined this algorithm, why does no one want to move?**"
   ]
  },
  {
   "cell_type": "markdown",
   "id": "e97784ad",
   "metadata": {},
   "source": [
    "*All of the B's currently have at least one B neighbor, and all of the A's have at least one A neighbor. If a B moved to the empty slot they would have no B neighbors, which is worse. If an A moved to the empty house, they would have one A neighbor, which isn't any better than the current house. Since they only move if it improves the situation, no one wants to move.*"
   ]
  },
  {
   "cell_type": "markdown",
   "id": "483d00ee",
   "metadata": {},
   "source": [
    "There are some additional arguments which we can change in order to capture different moving rules by the households. They are:\n",
    "\n",
    "- `b_in` is how much the households value being close to in-group members.\n",
    "- `b_out` is how much the households value dislike being close to out-group members\n",
    "- `b_home` is how much the households value staying in their current home\n",
    "\n",
    "The way the algorithm works is by computing a \"utility\" to each available house, where higher utility numbers mean liking the spot more (we will discuss the concept of utility more next week.). For every in-group neighbor at this potential house, we add `b_in` to this utility. For every outgroup neighbor we add `b_out` (which will typically be a negative number). If the available home is the current one, we add `b_home`. The household who is taking the current turn then goes to the available house that gives the highest utility (and goes to the leftmost one that gives the highest possible utility in the case of a tie). \n",
    "\n",
    "The defaults for these arguments, which replicate the rules we used in the lecture, set `b_in =1`, `b_out=0`, and `b_home=.01`. The `b_in=1` means we add 1 to the utility for each in-group member that would be a neighbor. Any positive number could do here, since all we want to capture is that more in-group neighbors is better. The `b_out=0` captures the idea that households don't care about having out-group neighbors either way: this does not affect the utility. Another way to think of this is that people are indifferent between having an empty house or an outgroup member as a neighbor (but would rather have an ingroup neighbor!)\n",
    "\n",
    "You can think of the `b_home=.01` as a \"tie-breaking\" rule: household won't move unless they can have more in-group neighbors. (The only important thing to replicate the algorithm from lecture is that `b_home` is smaller than `b_in`; if not then houses would not move even if it led to one more in-group neighbor.)\n",
    "\n",
    "If there are multiple spots that are equally good (give equal utility) the house moves to the left-most one. And after anyone moves, we \"reset\" and let the left-most house see if they want to move first. \n",
    "\n",
    "The wonder of doing using a computer rather than by hand is we can quickly see how things would shake out differently with some minor changes. For example, by setting `b_in=0` and `b_out=-1` we can see what would happen if the households don't intrinsically like being close to ingroup members but want to avoid outgroup members. (Think about why!)\n",
    "\n",
    "Let's do this for the example from class where they start out alternating by house."
   ]
  },
  {
   "cell_type": "code",
   "execution_count": 6,
   "id": "947af9a6",
   "metadata": {},
   "outputs": [
    {
     "data": {
      "text/html": [
       "<table class=\"dataframe\">\n",
       "<caption>A data.frame: 7 × 2</caption>\n",
       "<thead>\n",
       "\t<tr><th></th><th scope=col>Choice</th><th scope=col>Outcome</th></tr>\n",
       "\t<tr><th></th><th scope=col>&lt;chr&gt;</th><th scope=col>&lt;chr&gt;</th></tr>\n",
       "</thead>\n",
       "<tbody>\n",
       "\t<tr><th scope=row>1</th><td>Start                       </td><td>ABABABAB_</td></tr>\n",
       "\t<tr><th scope=row>3</th><td>the  B in slot  2 moves to 9</td><td>A_ABABABB</td></tr>\n",
       "\t<tr><th scope=row>6</th><td>the  A in slot  3 moves to 2</td><td>AA_BABABB</td></tr>\n",
       "\t<tr><th scope=row>11</th><td>the  A in slot  5 moves to 3</td><td>AAAB_BABB</td></tr>\n",
       "\t<tr><th scope=row>15</th><td>the  B in slot  4 moves to 5</td><td>AAA_BBABB</td></tr>\n",
       "\t<tr><th scope=row>22</th><td>the  A in slot  7 moves to 4</td><td>AAAABB_BB</td></tr>\n",
       "\t<tr><th scope=row>27</th><td>the  B in slot  5 moves to 7</td><td>AAAA_BBBB</td></tr>\n",
       "</tbody>\n",
       "</table>\n"
      ],
      "text/latex": [
       "A data.frame: 7 × 2\n",
       "\\begin{tabular}{r|ll}\n",
       "  & Choice & Outcome\\\\\n",
       "  & <chr> & <chr>\\\\\n",
       "\\hline\n",
       "\t1 & Start                        & ABABABAB\\_\\\\\n",
       "\t3 & the  B in slot  2 moves to 9 & A\\_ABABABB\\\\\n",
       "\t6 & the  A in slot  3 moves to 2 & AA\\_BABABB\\\\\n",
       "\t11 & the  A in slot  5 moves to 3 & AAAB\\_BABB\\\\\n",
       "\t15 & the  B in slot  4 moves to 5 & AAA\\_BBABB\\\\\n",
       "\t22 & the  A in slot  7 moves to 4 & AAAABB\\_BB\\\\\n",
       "\t27 & the  B in slot  5 moves to 7 & AAAA\\_BBBB\\\\\n",
       "\\end{tabular}\n"
      ],
      "text/markdown": [
       "\n",
       "A data.frame: 7 × 2\n",
       "\n",
       "| <!--/--> | Choice &lt;chr&gt; | Outcome &lt;chr&gt; |\n",
       "|---|---|---|\n",
       "| 1 | Start                        | ABABABAB_ |\n",
       "| 3 | the  B in slot  2 moves to 9 | A_ABABABB |\n",
       "| 6 | the  A in slot  3 moves to 2 | AA_BABABB |\n",
       "| 11 | the  A in slot  5 moves to 3 | AAAB_BABB |\n",
       "| 15 | the  B in slot  4 moves to 5 | AAA_BBABB |\n",
       "| 22 | the  A in slot  7 moves to 4 | AAAABB_BB |\n",
       "| 27 | the  B in slot  5 moves to 7 | AAAA_BBBB |\n",
       "\n"
      ],
      "text/plain": [
       "   Choice                       Outcome  \n",
       "1  Start                        ABABABAB_\n",
       "3  the  B in slot  2 moves to 9 A_ABABABB\n",
       "6  the  A in slot  3 moves to 2 AA_BABABB\n",
       "11 the  A in slot  5 moves to 3 AAAB_BABB\n",
       "15 the  B in slot  4 moves to 5 AAA_BBABB\n",
       "22 the  A in slot  7 moves to 4 AAAABB_BB\n",
       "27 the  B in slot  5 moves to 7 AAAA_BBBB"
      ]
     },
     "metadata": {},
     "output_type": "display_data"
    }
   ],
   "source": [
    "display_schelling(\"ABABABAB_\", b_in=0, b_out=-1, b_home=.01, \n",
    "                  shorten=TRUE)"
   ]
  },
  {
   "cell_type": "markdown",
   "id": "987f3d8d",
   "metadata": {},
   "source": [
    "This leads to the same final result, though some of the intermediate steps are different. (Can you figure out why?)"
   ]
  },
  {
   "cell_type": "markdown",
   "id": "dd74782a",
   "metadata": {},
   "source": [
    "If we want to capture the notion that households like living near the ingroup **and** dislike living near the outgroup, we can set `b_in=1` and `b_out=-1`. Let's see what happens if we start with the alternating pairs and use this moving rule:"
   ]
  },
  {
   "cell_type": "code",
   "execution_count": 7,
   "id": "bbc81eb1",
   "metadata": {},
   "outputs": [
    {
     "data": {
      "text/html": [
       "<table class=\"dataframe\">\n",
       "<caption>A data.frame: 2 × 2</caption>\n",
       "<thead>\n",
       "\t<tr><th></th><th scope=col>Choice</th><th scope=col>Outcome</th></tr>\n",
       "\t<tr><th></th><th scope=col>&lt;chr&gt;</th><th scope=col>&lt;chr&gt;</th></tr>\n",
       "</thead>\n",
       "<tbody>\n",
       "\t<tr><th scope=row>1</th><td>Start                       </td><td>BBAABBAA_</td></tr>\n",
       "\t<tr><th scope=row>4</th><td>the  A in slot  3 moves to 9</td><td>BB_ABBAAA</td></tr>\n",
       "</tbody>\n",
       "</table>\n"
      ],
      "text/latex": [
       "A data.frame: 2 × 2\n",
       "\\begin{tabular}{r|ll}\n",
       "  & Choice & Outcome\\\\\n",
       "  & <chr> & <chr>\\\\\n",
       "\\hline\n",
       "\t1 & Start                        & BBAABBAA\\_\\\\\n",
       "\t4 & the  A in slot  3 moves to 9 & BB\\_ABBAAA\\\\\n",
       "\\end{tabular}\n"
      ],
      "text/markdown": [
       "\n",
       "A data.frame: 2 × 2\n",
       "\n",
       "| <!--/--> | Choice &lt;chr&gt; | Outcome &lt;chr&gt; |\n",
       "|---|---|---|\n",
       "| 1 | Start                        | BBAABBAA_ |\n",
       "| 4 | the  A in slot  3 moves to 9 | BB_ABBAAA |\n",
       "\n"
      ],
      "text/plain": [
       "  Choice                       Outcome  \n",
       "1 Start                        BBAABBAA_\n",
       "4 the  A in slot  3 moves to 9 BB_ABBAAA"
      ]
     },
     "metadata": {},
     "output_type": "display_data"
    }
   ],
   "source": [
    "display_schelling(\"BBAABBAA_\", b_in=1, b_out=-1, b_home=.01, shorten=TRUE)"
   ]
  },
  {
   "cell_type": "markdown",
   "id": "2f27b0f3",
   "metadata": {},
   "source": [
    "**Question 2.2. Why does this lead to a move when we didn't see any moves for the default version (before question 2.1)?**"
   ]
  },
  {
   "cell_type": "markdown",
   "id": "23288bc9",
   "metadata": {},
   "source": [
    "*The A in slot 3 starts with one A and one B neighbor, and if moving will have one A neighbor. If they only care about having more A neighbors (like with the default settings) there is no reason to move, but if they also dislike Bs then they will want to move.*"
   ]
  },
  {
   "cell_type": "markdown",
   "id": "b335c3ff",
   "metadata": {},
   "source": [
    "Next, let's see what happens if we add give the households another empty spot to move to.\n",
    "\n",
    "**Question 2.3. Write code to run the algorithm with the same moving rule as the last example (`b_in=1, b_out=-1, b_home=.01`) but with an additional empty house added to the end of the initial arrangement. Use the `shorten=TRUE` argument to keep things concise.**"
   ]
  },
  {
   "cell_type": "code",
   "execution_count": 12,
   "id": "bbcddf02",
   "metadata": {},
   "outputs": [
    {
     "data": {
      "text/html": [
       "<table class=\"dataframe\">\n",
       "<caption>A data.frame: 5 × 2</caption>\n",
       "<thead>\n",
       "\t<tr><th></th><th scope=col>Choice</th><th scope=col>Outcome</th></tr>\n",
       "\t<tr><th></th><th scope=col>&lt;chr&gt;</th><th scope=col>&lt;chr&gt;</th></tr>\n",
       "</thead>\n",
       "<tbody>\n",
       "\t<tr><th scope=row>1</th><td>Start                        </td><td>BBAABBAA__</td></tr>\n",
       "\t<tr><th scope=row>4</th><td>the  A in slot  3 moves to 9 </td><td>BB_ABBAAA_</td></tr>\n",
       "\t<tr><th scope=row>8</th><td>the  A in slot  4 moves to 10</td><td>BB__BBAAAA</td></tr>\n",
       "\t<tr><th scope=row>14</th><td>the  B in slot  6 moves to 3 </td><td>BBB_B_AAAA</td></tr>\n",
       "\t<tr><th scope=row>15</th><td>the  B in slot  1 moves to 4 </td><td>_BBBB_AAAA</td></tr>\n",
       "</tbody>\n",
       "</table>\n"
      ],
      "text/latex": [
       "A data.frame: 5 × 2\n",
       "\\begin{tabular}{r|ll}\n",
       "  & Choice & Outcome\\\\\n",
       "  & <chr> & <chr>\\\\\n",
       "\\hline\n",
       "\t1 & Start                         & BBAABBAA\\_\\_\\\\\n",
       "\t4 & the  A in slot  3 moves to 9  & BB\\_ABBAAA\\_\\\\\n",
       "\t8 & the  A in slot  4 moves to 10 & BB\\_\\_BBAAAA\\\\\n",
       "\t14 & the  B in slot  6 moves to 3  & BBB\\_B\\_AAAA\\\\\n",
       "\t15 & the  B in slot  1 moves to 4  & \\_BBBB\\_AAAA\\\\\n",
       "\\end{tabular}\n"
      ],
      "text/markdown": [
       "\n",
       "A data.frame: 5 × 2\n",
       "\n",
       "| <!--/--> | Choice &lt;chr&gt; | Outcome &lt;chr&gt; |\n",
       "|---|---|---|\n",
       "| 1 | Start                         | BBAABBAA__ |\n",
       "| 4 | the  A in slot  3 moves to 9  | BB_ABBAAA_ |\n",
       "| 8 | the  A in slot  4 moves to 10 | BB__BBAAAA |\n",
       "| 14 | the  B in slot  6 moves to 3  | BBB_B_AAAA |\n",
       "| 15 | the  B in slot  1 moves to 4  | _BBBB_AAAA |\n",
       "\n"
      ],
      "text/plain": [
       "   Choice                        Outcome   \n",
       "1  Start                         BBAABBAA__\n",
       "4  the  A in slot  3 moves to 9  BB_ABBAAA_\n",
       "8  the  A in slot  4 moves to 10 BB__BBAAAA\n",
       "14 the  B in slot  6 moves to 3  BBB_B_AAAA\n",
       "15 the  B in slot  1 moves to 4  _BBBB_AAAA"
      ]
     },
     "metadata": {},
     "output_type": "display_data"
    }
   ],
   "source": [
    "# Code for question 2.3 here\n",
    "display_schelling(\"BBAABBAA__\", b_in=1, b_out=-1, b_home=.01, shorten=TRUE)"
   ]
  },
  {
   "cell_type": "markdown",
   "id": "17ab7af4",
   "metadata": {},
   "source": [
    "**Question 2.4. Adding this blank house led to a very different final arrangement. Give an explanation for why this happened. What might this say about the drivers of segregation in real world cities?**"
   ]
  },
  {
   "cell_type": "markdown",
   "id": "05fda497",
   "metadata": {},
   "source": [
    "*The final version here becomes fully segregated with the B's and As all with their own group, seperated by an empty house. The reason why this happened is that with more empty houses it is easier for everyone to find a house that avoids the group they don't like (or is closer to the group they like). A potential real-world implication is that we might see more segregation in cities that have more abundant housing, while places where housing is more scares might end up less segregated.*"
   ]
  },
  {
   "cell_type": "markdown",
   "id": "e4a46569",
   "metadata": {},
   "source": [
    "So far we have just been eyeballing the different arrangements, and saying how segregated we think they are. It will also help to have a more systematic definition of this.\n",
    "\n",
    "There are several ways to measure segregation, but here is one that will be good for our purposes. For each household that has neighbors, let $n_s$ be the number of neighbors who are in the same group, and $n_d$ be the number in a different group. (Empty houses do not count.) Let the \"individual segregation\" for a household be $(n_s - n_d)/(n_s + n_d)$. Note this will be equal to $-1$  if all neighbors are outgroup, $1$  if all neighbors are in-group, and $0$ if there are an equal number of in- and and outgroup neighbors (here, the only possibility is 1 of each). \n",
    "\n",
    "Finally, we take the average of the individual segration measures to get a measure for the whole city.\n",
    "\n",
    "We wrote a function to implement this for you, called `seg_meas`, where the input is a city string. Let's see what it looks like for the initial arrangement of our previous example."
   ]
  },
  {
   "cell_type": "code",
   "execution_count": 13,
   "id": "67399d28",
   "metadata": {},
   "outputs": [
    {
     "data": {
      "text/html": [
       "<strong>BBAABBAA__:</strong> 0.25"
      ],
      "text/latex": [
       "\\textbf{BBAABBAA\\textbackslash{}\\_\\textbackslash{}\\_:} 0.25"
      ],
      "text/markdown": [
       "**BBAABBAA__:** 0.25"
      ],
      "text/plain": [
       "BBAABBAA__ \n",
       "      0.25 "
      ]
     },
     "metadata": {},
     "output_type": "display_data"
    }
   ],
   "source": [
    "#  Getting the segregation measure for our initial city\n",
    "seg_meas(\"BBAABBAA__\")"
   ]
  },
  {
   "cell_type": "markdown",
   "id": "e3fa29fb",
   "metadata": {},
   "source": [
    "This is the lowest possible measure of segration, because everyone in this city only has outgroup neighbors.\n",
    "\n",
    "**Question 2.5. Write code to get the segregation measure for the final city arrangment from question 2.3, and explain the output in the following markdown cell**"
   ]
  },
  {
   "cell_type": "code",
   "execution_count": 14,
   "id": "2964613d",
   "metadata": {},
   "outputs": [
    {
     "data": {
      "text/html": [
       "<strong>_BBBB_AAAA:</strong> 1"
      ],
      "text/latex": [
       "\\textbf{\\textbackslash{}\\_BBBB\\textbackslash{}\\_AAAA:} 1"
      ],
      "text/markdown": [
       "**_BBBB_AAAA:** 1"
      ],
      "text/plain": [
       "_BBBB_AAAA \n",
       "         1 "
      ]
     },
     "metadata": {},
     "output_type": "display_data"
    }
   ],
   "source": [
    "# Code for question 2.5 here\n",
    "seg_meas(\"_BBBB_AAAA\")"
   ]
  },
  {
   "cell_type": "markdown",
   "id": "39c46909",
   "metadata": {},
   "source": [
    "*The segregation measure is 1, which is the highest level posible, since everyone only has neighbors of their own group*"
   ]
  },
  {
   "cell_type": "markdown",
   "id": "7231c4b3",
   "metadata": {},
   "source": [
    "**Question 2.6. Come up with a city that has a negative segregation measure.**"
   ]
  },
  {
   "cell_type": "code",
   "execution_count": 15,
   "id": "1a162edf",
   "metadata": {},
   "outputs": [
    {
     "data": {
      "text/html": [
       "<strong>ABABAB:</strong> -1"
      ],
      "text/latex": [
       "\\textbf{ABABAB:} -1"
      ],
      "text/markdown": [
       "**ABABAB:** -1"
      ],
      "text/plain": [
       "ABABAB \n",
       "    -1 "
      ]
     },
     "metadata": {},
     "output_type": "display_data"
    }
   ],
   "source": [
    "# Code for Question 2.6\n",
    "seg_meas(\"ABABAB\")"
   ]
  },
  {
   "cell_type": "markdown",
   "id": "51a87eb0",
   "metadata": {},
   "source": [
    "**Question 2.7. What does it mean in words to have a negative segregation measure?**"
   ]
  },
  {
   "cell_type": "markdown",
   "id": "cd8e9670",
   "metadata": {},
   "source": [
    "*This means that the typical household has more out-group neighbors than in-group neighbors*"
   ]
  },
  {
   "cell_type": "markdown",
   "id": "3d215298",
   "metadata": {},
   "source": [
    "Another thing we can do is plot how our segregation measure evolves as we run the algorithm. \n",
    "\n",
    "We wrote a function that does this using the same arguments as the `display_schelling` function. So, the next line of code plots the segregation measure for a longer initial arrangement (called `big_city`) at each turn for a run of the algorithm (with default parameters)."
   ]
  },
  {
   "cell_type": "code",
   "execution_count": 20,
   "id": "574e0e7a",
   "metadata": {},
   "outputs": [
    {
     "data": {
      "image/png": "[encoded data removed]",
      "text/plain": [
       "plot without title"
      ]
     },
     "metadata": {
      "image/png": {
       "height": 420,
       "width": 420
      }
     },
     "output_type": "display_data"
    }
   ],
   "source": [
    "big_city = \"ABAB__ABABA__B_A_BBA_AB\"\n",
    "plot_seg_meas(big_city, b_in=1, b_out=0)"
   ]
  },
  {
   "cell_type": "markdown",
   "id": "4e5bceb5",
   "metadata": {},
   "source": [
    "**Question 2.7. Write a line of code to plot how segregation in the previous city would evolve if we change the `b_out` parameter to 1. How does this affect the change over time and why?**"
   ]
  },
  {
   "cell_type": "code",
   "execution_count": 21,
   "id": "ede774c6",
   "metadata": {},
   "outputs": [
    {
     "data": {
      "image/png": "[encoded data removed]",
      "text/plain": [
       "plot without title"
      ]
     },
     "metadata": {
      "image/png": {
       "height": 420,
       "width": 420
      }
     },
     "output_type": "display_data"
    }
   ],
   "source": [
    "# Code for Question 2.7\n",
    "plot_seg_meas(big_city, b_in=0, b_out=1)"
   ]
  },
  {
   "cell_type": "markdown",
   "id": "3ea9db41",
   "metadata": {},
   "source": [
    "*Here the segregation decreases over time, eventually reaching the lowest possible level of -1. This is because when we set `b_out` to 1 the households prefer to have outgroup neighbors, and there were enough empty houses in the initial arrangement for them to sort this way.*"
   ]
  },
  {
   "cell_type": "markdown",
   "id": "face6ffd",
   "metadata": {},
   "source": [
    "The last thing we will explore is what happens if there are more than two groups. We can do this my adding some additional letters into the mix. For constency, let's call the new groups C and D. Here is an initial arrangement with four groups:"
   ]
  },
  {
   "cell_type": "code",
   "execution_count": 23,
   "id": "49a37979",
   "metadata": {},
   "outputs": [
    {
     "data": {
      "text/html": [
       "'ABCADBC_CD_ABBD'"
      ],
      "text/latex": [
       "'ABCADBC\\_CD\\_ABBD'"
      ],
      "text/markdown": [
       "'ABCADBC_CD_ABBD'"
      ],
      "text/plain": [
       "[1] \"ABCADBC_CD_ABBD\""
      ]
     },
     "metadata": {},
     "output_type": "display_data"
    }
   ],
   "source": [
    "init_four=\"ABCADBC_CD_ABBD\"\n",
    "init_four"
   ]
  },
  {
   "cell_type": "markdown",
   "id": "ff484151",
   "metadata": {},
   "source": [
    "Here is what happens with our default preferences (liking being close to the in-group, no antipathy towards any out-group). Note that now we have defined `init_four`, we can just use this as our `init=` argument."
   ]
  },
  {
   "cell_type": "code",
   "execution_count": 24,
   "id": "7331a730",
   "metadata": {},
   "outputs": [
    {
     "data": {
      "text/html": [
       "<table class=\"dataframe\">\n",
       "<caption>A data.frame: 7 × 2</caption>\n",
       "<thead>\n",
       "\t<tr><th></th><th scope=col>Choice</th><th scope=col>Outcome</th></tr>\n",
       "\t<tr><th></th><th scope=col>&lt;chr&gt;</th><th scope=col>&lt;chr&gt;</th></tr>\n",
       "</thead>\n",
       "<tbody>\n",
       "\t<tr><th scope=row>1</th><td>Start                        </td><td>ABCADBC_CD_ABBD</td></tr>\n",
       "\t<tr><th scope=row>2</th><td>the  A in slot  1 moves to 11</td><td>_BCADBC_CDAABBD</td></tr>\n",
       "\t<tr><th scope=row>5</th><td>the  C in slot  3 moves to 8 </td><td>_B_ADBCCCDAABBD</td></tr>\n",
       "\t<tr><th scope=row>11</th><td>the  B in slot  6 moves to 1 </td><td>BB_AD_CCCDAABBD</td></tr>\n",
       "\t<tr><th scope=row>21</th><td>the  D in slot  10 moves to 6</td><td>BB_ADDCCC_AABBD</td></tr>\n",
       "\t<tr><th scope=row>25</th><td>the  A in slot  4 moves to 10</td><td>BB__DDCCCAAABBD</td></tr>\n",
       "\t<tr><th scope=row>40</th><td>the  D in slot  15 moves to 4</td><td>BB_DDDCCCAAABB_</td></tr>\n",
       "</tbody>\n",
       "</table>\n"
      ],
      "text/latex": [
       "A data.frame: 7 × 2\n",
       "\\begin{tabular}{r|ll}\n",
       "  & Choice & Outcome\\\\\n",
       "  & <chr> & <chr>\\\\\n",
       "\\hline\n",
       "\t1 & Start                         & ABCADBC\\_CD\\_ABBD\\\\\n",
       "\t2 & the  A in slot  1 moves to 11 & \\_BCADBC\\_CDAABBD\\\\\n",
       "\t5 & the  C in slot  3 moves to 8  & \\_B\\_ADBCCCDAABBD\\\\\n",
       "\t11 & the  B in slot  6 moves to 1  & BB\\_AD\\_CCCDAABBD\\\\\n",
       "\t21 & the  D in slot  10 moves to 6 & BB\\_ADDCCC\\_AABBD\\\\\n",
       "\t25 & the  A in slot  4 moves to 10 & BB\\_\\_DDCCCAAABBD\\\\\n",
       "\t40 & the  D in slot  15 moves to 4 & BB\\_DDDCCCAAABB\\_\\\\\n",
       "\\end{tabular}\n"
      ],
      "text/markdown": [
       "\n",
       "A data.frame: 7 × 2\n",
       "\n",
       "| <!--/--> | Choice &lt;chr&gt; | Outcome &lt;chr&gt; |\n",
       "|---|---|---|\n",
       "| 1 | Start                         | ABCADBC_CD_ABBD |\n",
       "| 2 | the  A in slot  1 moves to 11 | _BCADBC_CDAABBD |\n",
       "| 5 | the  C in slot  3 moves to 8  | _B_ADBCCCDAABBD |\n",
       "| 11 | the  B in slot  6 moves to 1  | BB_AD_CCCDAABBD |\n",
       "| 21 | the  D in slot  10 moves to 6 | BB_ADDCCC_AABBD |\n",
       "| 25 | the  A in slot  4 moves to 10 | BB__DDCCCAAABBD |\n",
       "| 40 | the  D in slot  15 moves to 4 | BB_DDDCCCAAABB_ |\n",
       "\n"
      ],
      "text/plain": [
       "   Choice                        Outcome        \n",
       "1  Start                         ABCADBC_CD_ABBD\n",
       "2  the  A in slot  1 moves to 11 _BCADBC_CDAABBD\n",
       "5  the  C in slot  3 moves to 8  _B_ADBCCCDAABBD\n",
       "11 the  B in slot  6 moves to 1  BB_AD_CCCDAABBD\n",
       "21 the  D in slot  10 moves to 6 BB_ADDCCC_AABBD\n",
       "25 the  A in slot  4 moves to 10 BB__DDCCCAAABBD\n",
       "40 the  D in slot  15 moves to 4 BB_DDDCCCAAABB_"
      ]
     },
     "metadata": {},
     "output_type": "display_data"
    }
   ],
   "source": [
    "display_schelling(init=init_four, shorten=TRUE)"
   ]
  },
  {
   "cell_type": "markdown",
   "id": "dfc776f1",
   "metadata": {},
   "source": [
    "**Question 2.8. Try a few variants of the simiulation with four groups (e.g., change the intial arrangment a bit, or change the `b_in` or `b_out` parameters). Does this lead to more or less segregation? Remember you can use the `seg_meas` function to measure segration level.**"
   ]
  },
  {
   "cell_type": "code",
   "execution_count": null,
   "id": "6769f3ef",
   "metadata": {},
   "outputs": [],
   "source": [
    "# Code for question 2.8"
   ]
  },
  {
   "cell_type": "markdown",
   "id": "cecc67dd",
   "metadata": {},
   "source": [
    "*Answer to Question 2.8*"
   ]
  },
  {
   "cell_type": "markdown",
   "id": "3f3739c3",
   "metadata": {},
   "source": [
    "**Question 2.9. Recall that our key principles for good theory is that we want to simplify the world in a way that allows us to capture key features of the question we are studying. What is a question you might want to ask related to segregation which is NOT well-suited to the algorithm here? How might we modify the model here in order to answer that question?**"
   ]
  },
  {
   "cell_type": "markdown",
   "id": "3748904a",
   "metadata": {},
   "source": [
    "*There are lots of potential answers here. One strong simplification is that everyone has the same degree of in-group favoratism and out-group antipathy. We may want to ask what happens if some people want to avoid the outgroup but others do not by allowing for different preferences.* "
   ]
  },
  {
   "cell_type": "code",
   "execution_count": null,
   "id": "17dcb10e",
   "metadata": {},
   "outputs": [],
   "source": []
  }
 ],
 "metadata": {
  "kernelspec": {
   "display_name": "R",
   "language": "R",
   "name": "ir"
  },
  "language_info": {
   "codemirror_mode": "r",
   "file_extension": ".r",
   "mimetype": "text/x-r-source",
   "name": "R",
   "pygments_lexer": "r",
   "version": "4.2.1"
  }
 },
 "nbformat": 4,
 "nbformat_minor": 5
}
