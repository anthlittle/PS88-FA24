{
 "cells": [
  {
   "cell_type": "markdown",
   "id": "080f2db6",
   "metadata": {},
   "source": [
    "# PS 88 Lab 8 - Bias and Noise"
   ]
  },
  {
   "cell_type": "code",
   "execution_count": 2,
   "id": "317faeac",
   "metadata": {},
   "outputs": [],
   "source": [
    "import numpy as np\n",
    "from datascience import Table\n",
    "%matplotlib inline\n",
    "import matplotlib.pyplot as plt"
   ]
  },
  {
   "cell_type": "markdown",
   "id": "75ab23e2",
   "metadata": {},
   "source": [
    "## Part 1: Sample size and bias in surveys"
   ]
  },
  {
   "cell_type": "markdown",
   "id": "916f53b3",
   "metadata": {},
   "source": [
    "Suppose we would like to know the level of approval for the president of Surveystan, a country with a population of 1 million. We will first calculate the true level of approval for the entire population, and then see what kinds of surveys give good estimates of the truth.\n",
    "\n",
    "Like many countries today, Surveystan is politically divided between the urban and rural population. So we will also keep track of whether individuals live in cities.\n",
    "\n",
    "Here is some code to simulate the data, where each row corresponds to an individual. We treat living in an urban area as a binary variable, where `city=1` means living in a city and `city=0` means living outside of a city. The approval variable is also binary, meaning people are just asked whether the approve of the president or not (and to simplify everyone answers yes or no)."
   ]
  },
  {
   "cell_type": "code",
   "execution_count": 3,
   "id": "821d90ed",
   "metadata": {},
   "outputs": [
    {
     "data": {
      "text/html": [
       "<table border=\"1\" class=\"dataframe\">\n",
       "    <thead>\n",
       "        <tr>\n",
       "            <th>ID</th> <th>City</th> <th>Approval</th>\n",
       "        </tr>\n",
       "    </thead>\n",
       "    <tbody>\n",
       "        <tr>\n",
       "            <td>0   </td> <td>0   </td> <td>1       </td>\n",
       "        </tr>\n",
       "        <tr>\n",
       "            <td>1   </td> <td>0   </td> <td>0       </td>\n",
       "        </tr>\n",
       "        <tr>\n",
       "            <td>2   </td> <td>0   </td> <td>0       </td>\n",
       "        </tr>\n",
       "        <tr>\n",
       "            <td>3   </td> <td>1   </td> <td>0       </td>\n",
       "        </tr>\n",
       "        <tr>\n",
       "            <td>4   </td> <td>0   </td> <td>0       </td>\n",
       "        </tr>\n",
       "        <tr>\n",
       "            <td>5   </td> <td>0   </td> <td>1       </td>\n",
       "        </tr>\n",
       "        <tr>\n",
       "            <td>6   </td> <td>0   </td> <td>1       </td>\n",
       "        </tr>\n",
       "        <tr>\n",
       "            <td>7   </td> <td>0   </td> <td>1       </td>\n",
       "        </tr>\n",
       "        <tr>\n",
       "            <td>8   </td> <td>0   </td> <td>1       </td>\n",
       "        </tr>\n",
       "        <tr>\n",
       "            <td>9   </td> <td>0   </td> <td>1       </td>\n",
       "        </tr>\n",
       "    </tbody>\n",
       "</table>\n",
       "<p>... (999990 rows omitted)</p>"
      ],
      "text/plain": [
       "ID   | City | Approval\n",
       "0    | 0    | 1\n",
       "1    | 0    | 0\n",
       "2    | 0    | 0\n",
       "3    | 1    | 0\n",
       "4    | 0    | 0\n",
       "5    | 0    | 1\n",
       "6    | 0    | 1\n",
       "7    | 0    | 1\n",
       "8    | 0    | 1\n",
       "9    | 0    | 1\n",
       "... (999990 rows omitted)"
      ]
     },
     "execution_count": 3,
     "metadata": {},
     "output_type": "execute_result"
    }
   ],
   "source": [
    "np.random.seed(88)\n",
    "popsize = 1000000\n",
    "ids = np.arange(popsize)\n",
    "city = np.where(np.random.rand(popsize) > .8, 1, 0)\n",
    "approve = np.where(5*(1-city) + 95*np.random.rand(popsize) > 50, 1, 0)\n",
    "\n",
    "popdata = Table().with_columns(\"ID\", ids, \"City\", city, \"Approval\", approve)\n",
    "popdata"
   ]
  },
  {
   "cell_type": "markdown",
   "id": "8ec48363",
   "metadata": {},
   "source": [
    "Next let's compute the true proportion of the population who approves of the president. Since this is a 0 or 1 variable, the mean will tell us the proportion who approve."
   ]
  },
  {
   "cell_type": "code",
   "execution_count": 4,
   "id": "9d62cd93",
   "metadata": {},
   "outputs": [
    {
     "data": {
      "text/plain": [
       "0.51544000000000001"
      ]
     },
     "execution_count": 4,
     "metadata": {},
     "output_type": "execute_result"
    }
   ],
   "source": [
    "popmean = np.mean(popdata.column(\"Approval\"))\n",
    "popmean"
   ]
  },
  {
   "cell_type": "markdown",
   "id": "0e57672d",
   "metadata": {},
   "source": [
    "**Question 1.1. Compute the approval level among those who live in a city and those who do not. Where is the president more popular?**"
   ]
  },
  {
   "cell_type": "code",
   "execution_count": 5,
   "id": "79b22d3c",
   "metadata": {},
   "outputs": [
    {
     "data": {
      "text/plain": [
       "(0.47340218530160155, 0.52597771302074869)"
      ]
     },
     "execution_count": 5,
     "metadata": {},
     "output_type": "execute_result"
    }
   ],
   "source": [
    "# Code for 1.1\n",
    "popmean_city = np.mean(popdata.where(\"City\",1).column(\"Approval\"))\n",
    "popmean_rural = np.mean(popdata.where(\"City\",0).column(\"Approval\"))\n",
    "popmean_city, popmean_rural"
   ]
  },
  {
   "cell_type": "code",
   "execution_count": null,
   "id": "a034ff4c",
   "metadata": {},
   "outputs": [],
   "source": []
  },
  {
   "cell_type": "markdown",
   "id": "7b09d737",
   "metadata": {},
   "source": [
    "The president has about 5% higher approval in non-cities compared to cities."
   ]
  },
  {
   "cell_type": "markdown",
   "id": "70d82f2f",
   "metadata": {},
   "source": [
    "Now let's see if random samples of the population can do a good job of approximating the real approval level. \n",
    "\n",
    "We can take a random sample of this popuation table using the `.sample` function. The argument for this function is how many individuals to sample. So, the following code will give us a sample of 5 individuals:"
   ]
  },
  {
   "cell_type": "code",
   "execution_count": 6,
   "id": "a78318cf",
   "metadata": {},
   "outputs": [
    {
     "data": {
      "text/html": [
       "<table border=\"1\" class=\"dataframe\">\n",
       "    <thead>\n",
       "        <tr>\n",
       "            <th>ID</th> <th>City</th> <th>Approval</th>\n",
       "        </tr>\n",
       "    </thead>\n",
       "    <tbody>\n",
       "        <tr>\n",
       "            <td>521227</td> <td>0   </td> <td>0       </td>\n",
       "        </tr>\n",
       "        <tr>\n",
       "            <td>527998</td> <td>0   </td> <td>0       </td>\n",
       "        </tr>\n",
       "        <tr>\n",
       "            <td>868895</td> <td>0   </td> <td>1       </td>\n",
       "        </tr>\n",
       "        <tr>\n",
       "            <td>760572</td> <td>0   </td> <td>0       </td>\n",
       "        </tr>\n",
       "        <tr>\n",
       "            <td>133389</td> <td>1   </td> <td>0       </td>\n",
       "        </tr>\n",
       "    </tbody>\n",
       "</table>"
      ],
      "text/plain": [
       "ID     | City | Approval\n",
       "521227 | 0    | 0\n",
       "527998 | 0    | 0\n",
       "868895 | 0    | 1\n",
       "760572 | 0    | 0\n",
       "133389 | 1    | 0"
      ]
     },
     "execution_count": 6,
     "metadata": {},
     "output_type": "execute_result"
    }
   ],
   "source": [
    "popdata.sample(5)"
   ]
  },
  {
   "cell_type": "markdown",
   "id": "d21a4be5",
   "metadata": {},
   "source": [
    "To get a sense of what kinds of surveys will do a good job of figuring out the true population approval, we will ask what happens if we hypothetically took 1000 samples and computed the average approval among our sample. \n",
    "\n",
    "The following code does this for samples of size 10, and then stores the average approval in a table."
   ]
  },
  {
   "cell_type": "code",
   "execution_count": 11,
   "id": "2c18d6ef",
   "metadata": {},
   "outputs": [
    {
     "data": {
      "text/html": [
       "<table border=\"1\" class=\"dataframe\">\n",
       "    <thead>\n",
       "        <tr>\n",
       "            <th>Means10</th>\n",
       "        </tr>\n",
       "    </thead>\n",
       "    <tbody>\n",
       "        <tr>\n",
       "            <td>0.5    </td>\n",
       "        </tr>\n",
       "        <tr>\n",
       "            <td>0.5    </td>\n",
       "        </tr>\n",
       "        <tr>\n",
       "            <td>0.8    </td>\n",
       "        </tr>\n",
       "        <tr>\n",
       "            <td>0.4    </td>\n",
       "        </tr>\n",
       "        <tr>\n",
       "            <td>0.3    </td>\n",
       "        </tr>\n",
       "        <tr>\n",
       "            <td>0.4    </td>\n",
       "        </tr>\n",
       "        <tr>\n",
       "            <td>0.6    </td>\n",
       "        </tr>\n",
       "        <tr>\n",
       "            <td>0.2    </td>\n",
       "        </tr>\n",
       "        <tr>\n",
       "            <td>0.5    </td>\n",
       "        </tr>\n",
       "        <tr>\n",
       "            <td>0.5    </td>\n",
       "        </tr>\n",
       "    </tbody>\n",
       "</table>\n",
       "<p>... (990 rows omitted)</p>"
      ],
      "text/plain": [
       "Means10\n",
       "0.5\n",
       "0.5\n",
       "0.8\n",
       "0.4\n",
       "0.3\n",
       "0.4\n",
       "0.6\n",
       "0.2\n",
       "0.5\n",
       "0.5\n",
       "... (990 rows omitted)"
      ]
     },
     "execution_count": 11,
     "metadata": {},
     "output_type": "execute_result"
    }
   ],
   "source": [
    "n_sims = 1000\n",
    "means10 = []\n",
    "\n",
    "for i in np.arange(n_sims):\n",
    "    means10 = np.append(means10, np.mean(popdata.sample(10).column(\"Approval\")))\n",
    "\n",
    "samples = Table().with_column(\"Means10\", means10)\n",
    "samples"
   ]
  },
  {
   "cell_type": "markdown",
   "id": "94021493",
   "metadata": {},
   "source": [
    "The average of the sample means is extremely close to the true population mean:"
   ]
  },
  {
   "cell_type": "code",
   "execution_count": 31,
   "id": "15c71a3a",
   "metadata": {},
   "outputs": [
    {
     "data": {
      "text/plain": [
       "0.51949999999999996"
      ]
     },
     "execution_count": 31,
     "metadata": {},
     "output_type": "execute_result"
    }
   ],
   "source": [
    "np.mean(samples.column(\"Means10\"))"
   ]
  },
  {
   "cell_type": "markdown",
   "id": "7db6812d",
   "metadata": {},
   "source": [
    "Here is a histogram of the sample means (setting the bins in a nice way):"
   ]
  },
  {
   "cell_type": "code",
   "execution_count": 12,
   "id": "bf505c70",
   "metadata": {},
   "outputs": [
    {
     "data": {
      "image/png": "[encoded data removed]",
      "text/plain": [
       "<Figure size 432x288 with 1 Axes>"
      ]
     },
     "metadata": {
      "needs_background": "light"
     },
     "output_type": "display_data"
    }
   ],
   "source": [
    "samples.hist(\"Means10\", bins=np.arange(11)/10)"
   ]
  },
  {
   "cell_type": "markdown",
   "id": "1a653eb0",
   "metadata": {},
   "source": [
    "Note the highest bin is pretty close to the true population mean of .515, but there are a subtantial number of samples that are way off, including some close to 0 and 1. So a sample size of 10 is not going to be a very reliable way to learn what people think of the president. "
   ]
  },
  {
   "cell_type": "markdown",
   "id": "56de07a9",
   "metadata": {},
   "source": [
    "**Question 1.2. Do a similar simuation of 1000 samples with 100 individuals per sample. What is the average of the sample means? Make a histogram of the sample means. How does this compare the the case where the sample size is 10? (Hint: this will be more clear if you use the same bins as above.)**"
   ]
  },
  {
   "cell_type": "code",
   "execution_count": 32,
   "id": "57b53718",
   "metadata": {},
   "outputs": [
    {
     "data": {
      "text/plain": [
       "0.51457999999999993"
      ]
     },
     "execution_count": 32,
     "metadata": {},
     "output_type": "execute_result"
    }
   ],
   "source": [
    "# Code for 1.2\n",
    "means100 = []\n",
    "\n",
    "for i in np.arange(n_sims):\n",
    "    means100 = np.append(means100, np.mean(popdata.sample(100).column(\"Approval\")))\n",
    "\n",
    "samples = samples.with_column(\"Means100\", means100)\n",
    "np.mean(means100)"
   ]
  },
  {
   "cell_type": "code",
   "execution_count": 33,
   "id": "4833fb75",
   "metadata": {},
   "outputs": [
    {
     "data": {
      "image/png": "[encoded data removed]",
      "text/plain": [
       "<Figure size 432x288 with 1 Axes>"
      ]
     },
     "metadata": {
      "needs_background": "light"
     },
     "output_type": "display_data"
    }
   ],
   "source": [
    "samples.hist(\"Means100\", bins=np.arange(11)/10)"
   ]
  },
  {
   "cell_type": "markdown",
   "id": "dfa0431a",
   "metadata": {},
   "source": [
    "Again the mean of the sample means is extremely close to the population mean. However, now most of the sample means are much closer to the truth of .51, and nearly all like between .4 and .6. So with a larger sample we get a much better estimate of the truth."
   ]
  },
  {
   "cell_type": "markdown",
   "id": "baabde11",
   "metadata": {},
   "source": [
    "A common way to measure \"how far\" a sample is from the truth is by computing the \"squared error\" which is equal to the sample mean minus the population mean squared. Here is how we can do that for the samples of size 10:"
   ]
  },
  {
   "cell_type": "code",
   "execution_count": 34,
   "id": "119ed165",
   "metadata": {},
   "outputs": [],
   "source": [
    "samples = samples.with_column(\"Sqerr10\", (samples.column(\"Means10\")-popmean)**2)"
   ]
  },
  {
   "cell_type": "markdown",
   "id": "a870df57",
   "metadata": {},
   "source": [
    "We can make a histogram of the squared error:"
   ]
  },
  {
   "cell_type": "code",
   "execution_count": 15,
   "id": "d3d99f3c",
   "metadata": {},
   "outputs": [
    {
     "name": "stderr",
     "output_type": "stream",
     "text": [
      "/Users/andrew/opt/anaconda3/lib/python3.9/site-packages/datascience/tables.py:5865: UserWarning: FixedFormatter should only be used together with FixedLocator\n",
      "  axis.set_xticklabels(ticks, rotation='vertical')\n"
     ]
    },
    {
     "data": {
      "image/png": "[encoded data removed]",
      "text/plain": [
       "<Figure size 432x288 with 1 Axes>"
      ]
     },
     "metadata": {
      "needs_background": "light"
     },
     "output_type": "display_data"
    }
   ],
   "source": [
    "samples.hist(\"Sqerr10\")"
   ]
  },
  {
   "cell_type": "markdown",
   "id": "8fa772d5",
   "metadata": {},
   "source": [
    "If we want to know how well samples of size 10 do a good job approximating the real approval in across all samples, we can take the average of these squared errors, or the mean square error (MSE). One way to make things more easy to interpret is to then take the square root of the mean square error, or the root mean square error (RMSE), which ensures our measure of the typical error is in the same \"units\" as the variable we are averaging (Similar to why standard deviations are often easier to interpret than variances). "
   ]
  },
  {
   "cell_type": "code",
   "execution_count": 16,
   "id": "fc3d085e",
   "metadata": {},
   "outputs": [
    {
     "data": {
      "text/plain": [
       "0.15455171820461913"
      ]
     },
     "execution_count": 16,
     "metadata": {},
     "output_type": "execute_result"
    }
   ],
   "source": [
    "np.mean(samples.column(\"Sqerr10\"))**(.5)"
   ]
  },
  {
   "cell_type": "markdown",
   "id": "ff38d22a",
   "metadata": {},
   "source": [
    "This tells us a typical sample of 10 will be off by 16%. This is a pretty large error!"
   ]
  },
  {
   "cell_type": "markdown",
   "id": "e6421449",
   "metadata": {},
   "source": [
    "**Question 1.3. Compute the root mean square error for the samples of 100 individuals you simulated in problem 1.2. Is this higher or lower than the RMSE for the sample of 10?**"
   ]
  },
  {
   "cell_type": "code",
   "execution_count": 18,
   "id": "8a454505",
   "metadata": {},
   "outputs": [
    {
     "data": {
      "text/plain": [
       "0.048704480286725166"
      ]
     },
     "execution_count": 18,
     "metadata": {},
     "output_type": "execute_result"
    }
   ],
   "source": [
    "# Code for 1.3\n",
    "samples = samples.with_column(\"Sqerr100\", (samples.column(\"Means100\")-popmean)**2)\n",
    "np.mean(samples.column(\"Sqerr100\"))**(.5)"
   ]
  },
  {
   "cell_type": "code",
   "execution_count": null,
   "id": "acc85049",
   "metadata": {},
   "outputs": [],
   "source": []
  },
  {
   "cell_type": "markdown",
   "id": "359c5052",
   "metadata": {},
   "source": [
    "Now the typical error is about 5%, quite a bit lower than the 15% with asample of 10."
   ]
  },
  {
   "cell_type": "markdown",
   "id": "ea90b01e",
   "metadata": {},
   "source": [
    "As a side note, in unbiased samples this RMSE has a close connection to the standard error formula we showed in class. Recall the standard error of a sample mean (or proportion) is the standard deviation of the variable (in the population) divided by the square roote of the sample size:"
   ]
  },
  {
   "cell_type": "code",
   "execution_count": 22,
   "id": "0c9d6b97",
   "metadata": {},
   "outputs": [
    {
     "data": {
      "text/plain": [
       "0.049976154954137889"
      ]
     },
     "execution_count": 22,
     "metadata": {},
     "output_type": "execute_result"
    }
   ],
   "source": [
    "np.std(popdata.column(\"Approval\"))/(100**.5)"
   ]
  },
  {
   "cell_type": "markdown",
   "id": "cdfedf86",
   "metadata": {},
   "source": [
    "Which is nearly identical to the RMSE we calculated."
   ]
  },
  {
   "cell_type": "markdown",
   "id": "25921ebb",
   "metadata": {},
   "source": [
    "To make our calculations more efficient, let's write a function which computes the root mean square error for samples of size `n_sample`. The `n_sims` indicates how many samples we should take to compute this. You can try playing around with this but a size of 1000 works well for our purposes."
   ]
  },
  {
   "cell_type": "code",
   "execution_count": 20,
   "id": "927252b7",
   "metadata": {},
   "outputs": [],
   "source": [
    "def rmse_pop(n_sample, n_sims=1000):\n",
    "    samplemeans = []\n",
    "    for i in np.arange(n_sims):\n",
    "        newmean = np.mean(popdata.sample(n_sample).column(\"Approval\"))\n",
    "        samplemeans = np.append(samplemeans, newmean)   \n",
    "    return((np.mean((samplemeans-popmean)**2))**.5)"
   ]
  },
  {
   "cell_type": "markdown",
   "id": "d0c2af3c",
   "metadata": {},
   "source": [
    "**Question 1.4. Compute the RMSE for a sample size of 50. Compare this to what we got with samples of 10 and 100**"
   ]
  },
  {
   "cell_type": "code",
   "execution_count": 21,
   "id": "9d16f24c",
   "metadata": {},
   "outputs": [
    {
     "data": {
      "text/plain": [
       "0.068112706597227499"
      ]
     },
     "execution_count": 21,
     "metadata": {},
     "output_type": "execute_result"
    }
   ],
   "source": [
    "# Code for 1.4\n",
    "rmse_pop(50)"
   ]
  },
  {
   "cell_type": "markdown",
   "id": "a32392a6",
   "metadata": {},
   "source": [
    "With a sample size of 50 the RMSe is about .7, in between what we get with 10 and 100"
   ]
  },
  {
   "cell_type": "markdown",
   "id": "9bc973b3",
   "metadata": {},
   "source": [
    "A quick way to replicate what we have done so far is to define an array of sample sizes to check and the use a loop to compute the RMSE we get for each sample size:"
   ]
  },
  {
   "cell_type": "code",
   "execution_count": 23,
   "id": "39982d51",
   "metadata": {},
   "outputs": [
    {
     "data": {
      "text/plain": [
       "array([ 0.15672721,  0.07347803,  0.04899738])"
      ]
     },
     "execution_count": 23,
     "metadata": {},
     "output_type": "execute_result"
    }
   ],
   "source": [
    "samplesizes = np.array([10, 50, 100])\n",
    "pop_rmses = np.array([])\n",
    "for ss in samplesizes:\n",
    "    pop_rmses = np.append(pop_rmses, rmse_pop(ss))\n",
    "\n",
    "pop_rmses"
   ]
  },
  {
   "cell_type": "markdown",
   "id": "cbd99105",
   "metadata": {},
   "source": [
    "And we can start to see how sample size affects MSE by making a plot with sample size on the x axis and MSE on the y axis:"
   ]
  },
  {
   "cell_type": "code",
   "execution_count": 24,
   "id": "c646a718",
   "metadata": {},
   "outputs": [
    {
     "data": {
      "text/plain": [
       "[<matplotlib.lines.Line2D at 0x7f8692a48040>]"
      ]
     },
     "execution_count": 24,
     "metadata": {},
     "output_type": "execute_result"
    },
    {
     "data": {
      "image/png": "[encoded data removed]",
      "text/plain": [
       "<Figure size 432x288 with 1 Axes>"
      ]
     },
     "metadata": {
      "needs_background": "light"
     },
     "output_type": "display_data"
    }
   ],
   "source": [
    "plt.plot(samplesizes, pop_rmses)"
   ]
  },
  {
   "cell_type": "markdown",
   "id": "d802d103",
   "metadata": {},
   "source": [
    "Next you are are going to see how RMSE changes for a wider range of samples sizes.\n",
    "\n",
    "**Question 1.5. Make an array which computes the RMSE for sample sizes of 10, 20, 40, 80, 160, 320, 640, and 1280. (The code should take about 10-30 seconds to run.) Then make a plot like the one above which puts the sample size on the x axis and RMSE on the y axis.**"
   ]
  },
  {
   "cell_type": "code",
   "execution_count": 25,
   "id": "05e46c10",
   "metadata": {},
   "outputs": [
    {
     "data": {
      "text/plain": [
       "array([ 0.16326732,  0.11208016,  0.07895768,  0.05639204,  0.04016443,\n",
       "        0.0281705 ,  0.01961273,  0.01367674])"
      ]
     },
     "execution_count": 25,
     "metadata": {},
     "output_type": "execute_result"
    }
   ],
   "source": [
    "# Code for 1.5\n",
    "samplesizes = np.array([10, 20, 40, 80, 160, 320, 640, 1280])\n",
    "pop_rmses = np.array([])\n",
    "for ss in samplesizes:\n",
    "    pop_rmses = np.append(pop_rmses, rmse_pop(ss))\n",
    "\n",
    "pop_rmses"
   ]
  },
  {
   "cell_type": "code",
   "execution_count": 26,
   "id": "a7842cdd",
   "metadata": {},
   "outputs": [
    {
     "data": {
      "text/plain": [
       "[<matplotlib.lines.Line2D at 0x7f8681593d00>]"
      ]
     },
     "execution_count": 26,
     "metadata": {},
     "output_type": "execute_result"
    },
    {
     "data": {
      "image/png": "[encoded data removed]",
      "text/plain": [
       "<Figure size 432x288 with 1 Axes>"
      ]
     },
     "metadata": {
      "needs_background": "light"
     },
     "output_type": "display_data"
    }
   ],
   "source": [
    "plt.plot(samplesizes, pop_rmses)"
   ]
  },
  {
   "cell_type": "code",
   "execution_count": null,
   "id": "6be85846",
   "metadata": {},
   "outputs": [],
   "source": []
  },
  {
   "cell_type": "markdown",
   "id": "512d8c74",
   "metadata": {},
   "source": [
    "**Question 1.6. Recall our \"core formula\" which states estmate = target + bias + noise. If we use the sample approval rate to estimate the target of the population approval rate, is there bias? Is there noise? How does this change as the sample size increases?**"
   ]
  },
  {
   "cell_type": "markdown",
   "id": "62033eb5",
   "metadata": {},
   "source": [
    "There is no bias if we take random samples, but there is noise since we sometimes get people with a higher or lower approval in our sample."
   ]
  },
  {
   "cell_type": "markdown",
   "id": "0be94452",
   "metadata": {},
   "source": [
    "## Part 2: Biased Sampling. \n",
    "\n",
    "Often times it is easier to get a random sample of some subset of the population than it is to get an random sample for the entire population (in fact, the latter is often impossible.) \n",
    "\n",
    "Suppose a survey firm is able to easily reach those who live in cities, but not those in rural areas. Let's make a new table of those who they can sample, which is those who live in a city."
   ]
  },
  {
   "cell_type": "code",
   "execution_count": 27,
   "id": "3418c6e1",
   "metadata": {},
   "outputs": [
    {
     "data": {
      "text/html": [
       "<table border=\"1\" class=\"dataframe\">\n",
       "    <thead>\n",
       "        <tr>\n",
       "            <th>ID</th> <th>City</th> <th>Approval</th>\n",
       "        </tr>\n",
       "    </thead>\n",
       "    <tbody>\n",
       "        <tr>\n",
       "            <td>3   </td> <td>1   </td> <td>0       </td>\n",
       "        </tr>\n",
       "        <tr>\n",
       "            <td>10  </td> <td>1   </td> <td>1       </td>\n",
       "        </tr>\n",
       "        <tr>\n",
       "            <td>13  </td> <td>1   </td> <td>0       </td>\n",
       "        </tr>\n",
       "        <tr>\n",
       "            <td>15  </td> <td>1   </td> <td>1       </td>\n",
       "        </tr>\n",
       "        <tr>\n",
       "            <td>27  </td> <td>1   </td> <td>0       </td>\n",
       "        </tr>\n",
       "        <tr>\n",
       "            <td>28  </td> <td>1   </td> <td>0       </td>\n",
       "        </tr>\n",
       "        <tr>\n",
       "            <td>29  </td> <td>1   </td> <td>1       </td>\n",
       "        </tr>\n",
       "        <tr>\n",
       "            <td>32  </td> <td>1   </td> <td>1       </td>\n",
       "        </tr>\n",
       "        <tr>\n",
       "            <td>36  </td> <td>1   </td> <td>0       </td>\n",
       "        </tr>\n",
       "        <tr>\n",
       "            <td>42  </td> <td>1   </td> <td>0       </td>\n",
       "        </tr>\n",
       "    </tbody>\n",
       "</table>\n",
       "<p>... (200420 rows omitted)</p>"
      ],
      "text/plain": [
       "ID   | City | Approval\n",
       "3    | 1    | 0\n",
       "10   | 1    | 1\n",
       "13   | 1    | 0\n",
       "15   | 1    | 1\n",
       "27   | 1    | 0\n",
       "28   | 1    | 0\n",
       "29   | 1    | 1\n",
       "32   | 1    | 1\n",
       "36   | 1    | 0\n",
       "42   | 1    | 0\n",
       "... (200420 rows omitted)"
      ]
     },
     "execution_count": 27,
     "metadata": {},
     "output_type": "execute_result"
    }
   ],
   "source": [
    "citydata = popdata.where(\"City\", 1)\n",
    "citydata"
   ]
  },
  {
   "cell_type": "markdown",
   "id": "fd4b6adb",
   "metadata": {},
   "source": [
    "**Question 2.1. Write code to take a sample of 100 city members and compute the sample approval rate 1000 times. Take the mean of sample approval rates, and then make a histogram of the sample approval rates. Compare this to what you got in question 1.2.**"
   ]
  },
  {
   "cell_type": "code",
   "execution_count": 29,
   "id": "0d74daf9",
   "metadata": {},
   "outputs": [
    {
     "data": {
      "text/plain": [
       "0.47292000000000001"
      ]
     },
     "execution_count": 29,
     "metadata": {},
     "output_type": "execute_result"
    }
   ],
   "source": [
    "# Code for 2.1\n",
    "city100 = []\n",
    "\n",
    "for i in np.arange(n_sims):\n",
    "    city100 = np.append(city100, np.mean(citydata.sample(100).column(\"Approval\")))\n",
    "\n",
    "samples = samples.with_column(\"City100\", city100)\n",
    "np.mean(city100)"
   ]
  },
  {
   "cell_type": "code",
   "execution_count": 30,
   "id": "a860b406",
   "metadata": {},
   "outputs": [
    {
     "data": {
      "image/png": "[encoded data removed]",
      "text/plain": [
       "<Figure size 432x288 with 1 Axes>"
      ]
     },
     "metadata": {
      "needs_background": "light"
     },
     "output_type": "display_data"
    }
   ],
   "source": [
    "samples.hist(\"City100\", bins=np.arange(11)/10)"
   ]
  },
  {
   "cell_type": "markdown",
   "id": "4fd55930",
   "metadata": {},
   "source": [
    "The mean of the sample means is now notably different from the population mean (about 5% less), since people in cities like the president less. The histogram is still pretty tightly clustered between .4 and .6, but is shifted down somewhat compared to the version with the full population."
   ]
  },
  {
   "cell_type": "markdown",
   "id": "6b7f010b",
   "metadata": {},
   "source": [
    "**Question 2.2. Compute the RMSE of the approval rates from the city samples. (Hint: compute the difference between each city sample mean and the population mean squared, and then take the average of this). How does this compare the the RMSE from the full population samples of various sizes?**"
   ]
  },
  {
   "cell_type": "code",
   "execution_count": 35,
   "id": "c22a1661",
   "metadata": {},
   "outputs": [
    {
     "data": {
      "text/plain": [
       "0.066956881647818697"
      ]
     },
     "execution_count": 35,
     "metadata": {},
     "output_type": "execute_result"
    }
   ],
   "source": [
    "# Code for 2.2\n",
    "samples = samples.with_column(\"Sqerrcity100\", (samples.column(\"City100\")-popmean)**2)\n",
    "np.mean(samples.column(\"Sqerrcity100\"))**(.5)"
   ]
  },
  {
   "cell_type": "markdown",
   "id": "6a727647",
   "metadata": {},
   "source": [
    "The RMSE here is about the same as what it was with a sample size of 50 from the full population."
   ]
  },
  {
   "cell_type": "markdown",
   "id": "4008a767",
   "metadata": {},
   "source": [
    "**Question 2.3 Write a function to compute the RMSE of the city sample approval rate with sample size `n_sample`. Run this on various samples sizes to see how large of a sample you need from the city population to get about the same RMSE as we got from a population sample of size 100.**"
   ]
  },
  {
   "cell_type": "code",
   "execution_count": 36,
   "id": "ac23ee2a",
   "metadata": {},
   "outputs": [],
   "source": [
    "# Code for 2.3\n",
    "def rmse_city(n_sample, n_sims=1000):\n",
    "    samplemeans = []\n",
    "    for i in np.arange(n_sims):\n",
    "        newmean = np.mean(citydata.sample(n_sample).column(\"Approval\"))\n",
    "        samplemeans = np.append(samplemeans, newmean)   \n",
    "    return((np.mean((samplemeans-popmean)**2))**.5)"
   ]
  },
  {
   "cell_type": "code",
   "execution_count": 38,
   "id": "8e751a93",
   "metadata": {},
   "outputs": [
    {
     "data": {
      "text/plain": [
       "0.050110765310459993"
      ]
     },
     "execution_count": 38,
     "metadata": {},
     "output_type": "execute_result"
    }
   ],
   "source": [
    "rmse_pop(100)"
   ]
  },
  {
   "cell_type": "code",
   "execution_count": 40,
   "id": "537b3050",
   "metadata": {},
   "outputs": [
    {
     "data": {
      "text/plain": [
       "0.05073426367959933"
      ]
     },
     "execution_count": 40,
     "metadata": {},
     "output_type": "execute_result"
    }
   ],
   "source": [
    "rmse_city(300)"
   ]
  },
  {
   "cell_type": "markdown",
   "id": "351a84f2",
   "metadata": {},
   "source": [
    "At a sample size of 300 we get about the same RMSE as we did in the full population with a sample of 100."
   ]
  },
  {
   "cell_type": "markdown",
   "id": "8f0f3281",
   "metadata": {},
   "source": [
    "Suppose a sampling firm has a budget of 1,000 dollars to run a survey aiming to learn about the president's approval. It costs them 20 dollars per subject to conduct a random sample on the entire population, and 4 dollars per subject to conduct a random sample on a random sample of city residents.\n",
    "\n",
    "**Question 2.4.  How many subjects can they afford if they collect the population sample? How many subjects can they afford if they collect the city sample? Which of these affordable samples leads to a lower RMSE?**"
   ]
  },
  {
   "cell_type": "code",
   "execution_count": 42,
   "id": "2738e07d",
   "metadata": {},
   "outputs": [
    {
     "data": {
      "text/plain": [
       "0.068992057513890676"
      ]
     },
     "execution_count": 42,
     "metadata": {},
     "output_type": "execute_result"
    }
   ],
   "source": [
    "# Code for 2.4\n",
    "rmse_pop(50)"
   ]
  },
  {
   "cell_type": "code",
   "execution_count": 44,
   "id": "64395061",
   "metadata": {},
   "outputs": [
    {
     "data": {
      "text/plain": [
       "0.051763078733784766"
      ]
     },
     "execution_count": 44,
     "metadata": {},
     "output_type": "execute_result"
    }
   ],
   "source": [
    "rmse_city(250)"
   ]
  },
  {
   "cell_type": "markdown",
   "id": "e54e8141",
   "metadata": {},
   "source": [
    "They can afford 50 subjects from the full population, which gives a RMSE of about .7. They can afford 250 subjects from the city, which gives a RMSe of .05. So at this budget they are better off sampling from the city"
   ]
  },
  {
   "cell_type": "markdown",
   "id": "e2934048",
   "metadata": {},
   "source": [
    "**Question 2.5. Now suppose the firm wins a grant which ups their budget to 10,000 dollars. Now which sample gives a lower RMSE?**"
   ]
  },
  {
   "cell_type": "code",
   "execution_count": 45,
   "id": "ca5f8d1b",
   "metadata": {},
   "outputs": [
    {
     "data": {
      "text/plain": [
       "(0.022087118417756547, 0.043195733863426851)"
      ]
     },
     "execution_count": 45,
     "metadata": {},
     "output_type": "execute_result"
    }
   ],
   "source": [
    "# Code for 2.5\n",
    "rmse_pop(500), rmse_city(2500)"
   ]
  },
  {
   "cell_type": "markdown",
   "id": "caf167ca",
   "metadata": {},
   "source": [
    "At this budget they can get 500 from the full population (RMSE about .02), and 2500 from the city (RMSE about .04), so they are better off sampling from the full population."
   ]
  },
  {
   "cell_type": "markdown",
   "id": "4b995772",
   "metadata": {},
   "source": [
    "**Question 2.6. Interpret this result in the context of the estimate = target + bias + noise formula. (Hint: we can loosely think of the RMSE as bias + noise, and the bias does not depend on the sample size).**"
   ]
  },
  {
   "cell_type": "markdown",
   "id": "4949f7b8",
   "metadata": {},
   "source": [
    "Our estimate from the city has some bias while the estimate from the population does not. At a low sample size, the noise from sampling tends to be very high, and so the bias from the city sample matters less than increasing the sample size. When we start getting to larger sample sizes, noise is pretty low in either case, and so the bias from the city sample matters more."
   ]
  },
  {
   "cell_type": "markdown",
   "id": "2f9fef30",
   "metadata": {},
   "source": [
    "## Question 3.1\n",
    "\n",
    "The context behind the \"with large numbers of Ns you don't need randomization\" tweet was that the tech guy in question was arguing that Ivermectin was a promising treatment for Covid before there were any randomized trials testing this hypothesis. Some pointy-headed academics said that we needed evidence from a randomized trial before we could say with any confidence that the drug would work. Let's do a simulation to help adjudicate this argument.\n",
    "\n",
    "Suppose that, as luck would have it, Surveystan also happens to be a country where someone conducted a study where about 10,000 people were randomly assigned to take Ivermectin or not. Since the population is a million, this is a relatively small proportion of the population. \n",
    "\n",
    "In the next cell we will simulate:\n",
    "- The potential outcomes for getting sick from Covid if not taking Ivermectin (`Sick0`) and if taking Ivermectin (`Sick1`) \n",
    "- Whether the individual was involved in the randomized trial (`Trial`)\n",
    "- Whether the individual takes Ivermectin (which is purely random for those in the trial, and potentially related to health status for others)\n",
    "- The realized Covid outcome (`Sick`, which is equal to `Sick1` for those who take Ivermectin and `Sick0` otherwise) "
   ]
  },
  {
   "cell_type": "code",
   "execution_count": 70,
   "id": "f7d091d9",
   "metadata": {},
   "outputs": [
    {
     "data": {
      "text/html": [
       "<table border=\"1\" class=\"dataframe\">\n",
       "    <thead>\n",
       "        <tr>\n",
       "            <th>ID</th> <th>City</th> <th>Approval</th> <th>Sick0</th> <th>Sick1</th> <th>Iver</th> <th>Trial</th> <th>Sick</th>\n",
       "        </tr>\n",
       "    </thead>\n",
       "    <tbody>\n",
       "        <tr>\n",
       "            <td>0   </td> <td>0   </td> <td>1       </td> <td>1    </td> <td>1    </td> <td>0   </td> <td>0    </td> <td>1   </td>\n",
       "        </tr>\n",
       "        <tr>\n",
       "            <td>1   </td> <td>0   </td> <td>0       </td> <td>0    </td> <td>0    </td> <td>0   </td> <td>0    </td> <td>0   </td>\n",
       "        </tr>\n",
       "        <tr>\n",
       "            <td>2   </td> <td>0   </td> <td>0       </td> <td>0    </td> <td>0    </td> <td>0   </td> <td>0    </td> <td>0   </td>\n",
       "        </tr>\n",
       "        <tr>\n",
       "            <td>3   </td> <td>1   </td> <td>0       </td> <td>1    </td> <td>0    </td> <td>0   </td> <td>0    </td> <td>1   </td>\n",
       "        </tr>\n",
       "        <tr>\n",
       "            <td>4   </td> <td>0   </td> <td>0       </td> <td>1    </td> <td>0    </td> <td>0   </td> <td>0    </td> <td>1   </td>\n",
       "        </tr>\n",
       "        <tr>\n",
       "            <td>5   </td> <td>0   </td> <td>1       </td> <td>1    </td> <td>1    </td> <td>0   </td> <td>0    </td> <td>1   </td>\n",
       "        </tr>\n",
       "        <tr>\n",
       "            <td>6   </td> <td>0   </td> <td>1       </td> <td>1    </td> <td>0    </td> <td>0   </td> <td>0    </td> <td>1   </td>\n",
       "        </tr>\n",
       "        <tr>\n",
       "            <td>7   </td> <td>0   </td> <td>1       </td> <td>0    </td> <td>1    </td> <td>1   </td> <td>0    </td> <td>1   </td>\n",
       "        </tr>\n",
       "        <tr>\n",
       "            <td>8   </td> <td>0   </td> <td>1       </td> <td>0    </td> <td>0    </td> <td>0   </td> <td>0    </td> <td>0   </td>\n",
       "        </tr>\n",
       "        <tr>\n",
       "            <td>9   </td> <td>0   </td> <td>1       </td> <td>0    </td> <td>1    </td> <td>0   </td> <td>0    </td> <td>0   </td>\n",
       "        </tr>\n",
       "    </tbody>\n",
       "</table>\n",
       "<p>... (999990 rows omitted)</p>"
      ],
      "text/plain": [
       "ID   | City | Approval | Sick0 | Sick1 | Iver | Trial | Sick\n",
       "0    | 0    | 1        | 1     | 1     | 0    | 0     | 1\n",
       "1    | 0    | 0        | 0     | 0     | 0    | 0     | 0\n",
       "2    | 0    | 0        | 0     | 0     | 0    | 0     | 0\n",
       "3    | 1    | 0        | 1     | 0     | 0    | 0     | 1\n",
       "4    | 0    | 0        | 1     | 0     | 0    | 0     | 1\n",
       "5    | 0    | 1        | 1     | 1     | 0    | 0     | 1\n",
       "6    | 0    | 1        | 1     | 0     | 0    | 0     | 1\n",
       "7    | 0    | 1        | 0     | 1     | 1    | 0     | 1\n",
       "8    | 0    | 1        | 0     | 0     | 0    | 0     | 0\n",
       "9    | 0    | 1        | 0     | 1     | 0    | 0     | 0\n",
       "... (999990 rows omitted)"
      ]
     },
     "execution_count": 70,
     "metadata": {},
     "output_type": "execute_result"
    }
   ],
   "source": [
    "np.random.seed(88)\n",
    "sick0 = np.where(np.random.rand(popsize) > .6, 1, 0)\n",
    "sick1 = np.where(np.random.rand(popsize) > .59, 1, 0)\n",
    "trial = np.where(np.random.rand(popsize) > .99, 1, 0)\n",
    "iver = 1*np.where(trial==1, np.random.rand(popsize) > .5,\n",
    "                np.random.rand(popsize)-.4*sick0 > .6)\n",
    "sick = np.where(iver==1, sick1, sick0)\n",
    "\n",
    "popdata = popdata.with_columns(\"Sick0\", sick0,\n",
    "                              \"Sick1\", sick1,\n",
    "                              \"Iver\", iver,\n",
    "                              \"Trial\", trial,\n",
    "                              \"Sick\", sick)\n",
    "popdata"
   ]
  },
  {
   "cell_type": "markdown",
   "id": "954eaa0f",
   "metadata": {},
   "source": [
    "We can count how many people were in the randomized trial with the `np.sum` function."
   ]
  },
  {
   "cell_type": "code",
   "execution_count": 71,
   "id": "b9cc10ad",
   "metadata": {},
   "outputs": [
    {
     "data": {
      "text/plain": [
       "9905"
      ]
     },
     "execution_count": 71,
     "metadata": {},
     "output_type": "execute_result"
    }
   ],
   "source": [
    "trialsize = np.sum(popdata.column(\"Trial\"))\n",
    "trialsize"
   ]
  },
  {
   "cell_type": "markdown",
   "id": "a1104541",
   "metadata": {},
   "source": [
    "**Question 3.1. What is the average treatment effect of taking Ivermectin in the population. Does it make people more or less likely to be sick from Covid?**"
   ]
  },
  {
   "cell_type": "code",
   "execution_count": 72,
   "id": "0ba9e332",
   "metadata": {},
   "outputs": [
    {
     "data": {
      "text/plain": [
       "0.010064"
      ]
     },
     "execution_count": 72,
     "metadata": {},
     "output_type": "execute_result"
    }
   ],
   "source": [
    "# Code for 3.1\n",
    "np.mean(popdata.column(\"Sick1\") - popdata.column(\"Sick0\"))"
   ]
  },
  {
   "cell_type": "markdown",
   "id": "4f65348c",
   "metadata": {},
   "source": [
    "The treatment effect is positive but small, suggesting people who take Ivermectin are about 1% more likely to get sick."
   ]
  },
  {
   "cell_type": "markdown",
   "id": "2166f0f9",
   "metadata": {},
   "source": [
    "**Question 3.2. Make a table of the population who where participants in the randomized trial (those with `Trial = 1`). What is the difference in average sickness among those who took Ivermectin vs not in the trial? Is this a good estimate of the real causal effect?**"
   ]
  },
  {
   "cell_type": "code",
   "execution_count": 73,
   "id": "e81843ae",
   "metadata": {},
   "outputs": [],
   "source": [
    "# Code for 3.2\n",
    "trialdata=popdata.where(\"Trial\", 1)"
   ]
  },
  {
   "cell_type": "code",
   "execution_count": 74,
   "id": "92b3075b",
   "metadata": {},
   "outputs": [
    {
     "data": {
      "text/plain": [
       "(0.40417419225366247, 0.40044697277529462)"
      ]
     },
     "execution_count": 74,
     "metadata": {},
     "output_type": "execute_result"
    }
   ],
   "source": [
    "np.mean(trialdata.where(\"Iver\",1).column(\"Sick\")), np.mean(trialdata.where(\"Iver\",0).column(\"Sick\"))"
   ]
  },
  {
   "cell_type": "markdown",
   "id": "e9a9782c",
   "metadata": {},
   "source": [
    "Yes from this we can see the average sickness is very close among those who were randomized to take Ivermectin vs not. The difference is about .01."
   ]
  },
  {
   "cell_type": "markdown",
   "id": "27293953",
   "metadata": {},
   "source": [
    "Now let's see if having large numbers of Ns is as good if not better than randomizing. Here is a function which takes a sample of size Ns, and then computes a difference of means among those who take Ivermectin vs not (which, for the vast majority of the population not in the randomized trial, is determined by whether they chose to take the drug.)"
   ]
  },
  {
   "cell_type": "code",
   "execution_count": 76,
   "id": "1c21b67a",
   "metadata": {},
   "outputs": [],
   "source": [
    "def dom_n(Ns):\n",
    "    sampledata = popdata.sample(Ns)\n",
    "    mean1 = np.mean(sampledata.where(\"Iver\", 1).column(\"Sick\"))\n",
    "    mean0 = np.mean(sampledata.where(\"Iver\", 0).column(\"Sick\"))\n",
    "    return(mean1-mean0)"
   ]
  },
  {
   "cell_type": "markdown",
   "id": "7f7b1097",
   "metadata": {},
   "source": [
    "**Question 3.3 Run this function on a sample with the same size as the clinical trial. Does this give a better or worse estimate of the real causal effect?**"
   ]
  },
  {
   "cell_type": "code",
   "execution_count": 77,
   "id": "f0316369",
   "metadata": {},
   "outputs": [
    {
     "data": {
      "text/plain": [
       "-0.11342599316427998"
      ]
     },
     "execution_count": 77,
     "metadata": {},
     "output_type": "execute_result"
    }
   ],
   "source": [
    "# Code for 3.3\n",
    "dom_n(10000)"
   ]
  },
  {
   "cell_type": "markdown",
   "id": "93a53bc3",
   "metadata": {},
   "source": [
    "Here it looks like those who take Ivermectin are about 10% less likely to get sick, which is a big difference. But we know the real causal effect is small and positive. So this estimate is very misleading."
   ]
  },
  {
   "cell_type": "markdown",
   "id": "a39b2bad",
   "metadata": {},
   "source": [
    "While a sample of 10,000 is large, there are larger numbers of Ns we can choose. \n",
    "\n",
    "**Question 3.4. Compute a difference of means on a sample of 100,000, and 500,000. Do these give good estimates of the real causal effect?**"
   ]
  },
  {
   "cell_type": "code",
   "execution_count": 78,
   "id": "a6791ad6",
   "metadata": {},
   "outputs": [
    {
     "data": {
      "text/plain": [
       "(-0.12021925172360443, -0.12017796660107988)"
      ]
     },
     "execution_count": 78,
     "metadata": {},
     "output_type": "execute_result"
    }
   ],
   "source": [
    "# Code for 3.4\n",
    "dom_n(100000), dom_n(500000)"
   ]
  },
  {
   "cell_type": "markdown",
   "id": "173ba7b2",
   "metadata": {},
   "source": [
    "The difference of means is about -12%, which again would be a big effect, and is far from the truth of no effect."
   ]
  },
  {
   "cell_type": "markdown",
   "id": "9e4ac3b3",
   "metadata": {},
   "source": [
    "**Question 3.5. Now compute the population difference of means in sickness among those who take Ivermectin vs not.**"
   ]
  },
  {
   "cell_type": "code",
   "execution_count": 79,
   "id": "d85b66c3",
   "metadata": {},
   "outputs": [
    {
     "data": {
      "text/plain": [
       "-0.11608393812144696"
      ]
     },
     "execution_count": 79,
     "metadata": {},
     "output_type": "execute_result"
    }
   ],
   "source": [
    "# Code for 3.5\n",
    "np.mean(popdata.where(\"Iver\",1).column(\"Sick\")) - np.mean(popdata.where(\"Iver\",0).column(\"Sick\"))"
   ]
  },
  {
   "cell_type": "markdown",
   "id": "f271ce25",
   "metadata": {},
   "source": [
    "**Question 3.6. What does this simulation tell us about the claim that large numbers of Ns mean we don't need randomization? Phrase this in terms of the \"core formula\".**"
   ]
  },
  {
   "cell_type": "markdown",
   "id": "274bd8cb",
   "metadata": {},
   "source": [
    "This shows that collecting large samples can only get us to the population difference of means, but this itself might be different than the causal effect due to selection bias. So no high sample size will teach us the causal effect if we don't have an unbiased estimate. "
   ]
  },
  {
   "cell_type": "code",
   "execution_count": null,
   "id": "81531a4e",
   "metadata": {},
   "outputs": [],
   "source": []
  }
 ],
 "metadata": {
  "kernelspec": {
   "display_name": "Python 3 (ipykernel)",
   "language": "python",
   "name": "python3"
  },
  "language_info": {
   "codemirror_mode": {
    "name": "ipython",
    "version": 3
   },
   "file_extension": ".py",
   "mimetype": "text/x-python",
   "name": "python",
   "nbconvert_exporter": "python",
   "pygments_lexer": "ipython3",
   "version": "3.9.7"
  }
 },
 "nbformat": 4,
 "nbformat_minor": 5
}
