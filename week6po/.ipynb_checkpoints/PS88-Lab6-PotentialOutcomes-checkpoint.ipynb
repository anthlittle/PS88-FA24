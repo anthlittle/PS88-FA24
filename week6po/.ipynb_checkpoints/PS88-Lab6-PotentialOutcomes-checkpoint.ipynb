{
 "cells": [
  {
   "cell_type": "markdown",
   "id": "4c6d28b4",
   "metadata": {},
   "source": [
    "# Lab 6 - Potential Outcomes and Causal Inference"
   ]
  },
  {
   "cell_type": "code",
   "execution_count": null,
   "id": "bfefebc8",
   "metadata": {},
   "outputs": [],
   "source": [
    "import numpy as np\n",
    "from datascience import Table\n",
    "%matplotlib inline"
   ]
  },
  {
   "cell_type": "markdown",
   "id": "3d4b04c0",
   "metadata": {},
   "source": [
    "## Part 1. Reading real causal claims"
   ]
  },
  {
   "cell_type": "markdown",
   "id": "b6cb3926",
   "metadata": {},
   "source": [
    " Consider this quote from Senator Lindsey Graham: \"Russia's actions had no impact at all on the outcome of the (2016) election.\" Let's think about translating this into potential outcomes notation. To simplify, we will interpret the \"outcome\" of the election as the number of electoral college votes won by Trump. We will think of the \"treatment\" here as a binary variable  where $D_{2016}=1$ means \"interference by Russia\" and $D_{2016}=0$ means \"no interference by Russia.\" We will take it as given that in reality $D_{2016}=1$."
   ]
  },
  {
   "cell_type": "markdown",
   "id": "69e6babc",
   "metadata": {},
   "source": [
    " **Question 1.1. Trump won 304 electoral college votes in 2016. How can we express this outcome in potential outcomes notation? (Hint: it should be of the form that Y with some subscript(s) is equal to something. Look at the markdown cell above to see how to make subscripts.)**"
   ]
  },
  {
   "cell_type": "markdown",
   "id": "e20a2693",
   "metadata": {},
   "source": [
    "*Answer for 1.1*"
   ]
  },
  {
   "cell_type": "markdown",
   "id": "dd6b9f20",
   "metadata": {},
   "source": [
    "**Question 1.2. How can we express Graham's claim of \"no impact at all\" in potential outcomes notation (again it should be in the form of Y with some subscript(s) being equal to something)**"
   ]
  },
  {
   "cell_type": "markdown",
   "id": "bab72d6c",
   "metadata": {},
   "source": [
    "*Answer for 1.2*"
   ]
  },
  {
   "cell_type": "markdown",
   "id": "7ff3a066",
   "metadata": {},
   "source": [
    "**Question 1.3. The closest state in the election was my home state of Michigan, which has 16 electoral votes, won by Trump. Suppose someone thinks that Russian interference had a large enough impact to cause Trump to win Michigan, but did not change the outcome in any other state. Express this claim in potential outcomes notation.**"
   ]
  },
  {
   "cell_type": "markdown",
   "id": "da418019",
   "metadata": {},
   "source": [
    "*Answer for 1.3*"
   ]
  },
  {
   "cell_type": "markdown",
   "id": "cd4bf524",
   "metadata": {},
   "source": [
    "## Part 2. Lobbying and Corruption in All Seeing Mode"
   ]
  },
  {
   "cell_type": "markdown",
   "id": "f03d82b3",
   "metadata": {},
   "source": [
    "A common concern in many democratic (and less-than democratic) countries is that those with resources can use lobbying, campaign contributions, or outright bribes to get politicians to do their bidding. Often, the evidence used to make this argument is that those who receive lots of money from a particular interest group tend to vote in a way that the interest group wants (a friend of mine has expressed this in <a href=\"https://www.hrothstein.com/#/the-cost-of-denial/\">art form</a>).\n",
    "\n",
    "Let's think about what causal theories are consistent with this evidence. We will simulate a legislature with 500 members. We assume they all have an ideology which ranges from 0 to 1, where we will interpret this as their predisposition to vote in a \"pro-business\" fashion.\n"
   ]
  },
  {
   "cell_type": "code",
   "execution_count": null,
   "id": "02c6a5ca",
   "metadata": {},
   "outputs": [],
   "source": [
    "np.random.seed(88)\n",
    "n_leg = 500\n",
    "leg_ideol = np.random.rand(n_leg)\n",
    "leg_data = Table().with_column(\"Ideology\", leg_ideol)\n",
    "leg_data"
   ]
  },
  {
   "cell_type": "markdown",
   "id": "10518ece",
   "metadata": {},
   "source": [
    "We may be interested in how legislators vote on particular bills, or their overall voting behavior. Since it will make some calculations more natural, we will do the latter.\n",
    "\n",
    "An outcome we might care about is what proportion of \"pro-business\" bills the legislator votes for, which will range from 0 to 1. If our ideology has any meaning, then those with a higher ideology should be more likely to vote for these bills. There are probably other factors that matter as well. To capture these ideas, we are going to assume that the proportion of pro-business bills they  vote for can be written:\n",
    "$$\n",
    "\\text{pro} = b_{leg} \\times \\text{ideology} + (1-b_{leg}) \\times e_{leg}\n",
    "$$\n",
    "where $e_{leg}$ is an *error term* which is a uniform random number between 0 and 1. The $b_{leg}$ variable measures how much ideology is important relative to other considerations. Here is code for this *data generating process*:"
   ]
  },
  {
   "cell_type": "code",
   "execution_count": null,
   "id": "4bfbfa55",
   "metadata": {},
   "outputs": [],
   "source": [
    "np.random.seed(89)\n",
    "b_leg = 1/2\n",
    "eleg = np.random.rand(n_leg)\n",
    "pro = b_leg * leg_ideol + (1-b_leg)*eleg\n",
    "leg_data = leg_data.with_column(\"Pro B Votes\", pro)\n",
    "leg_data"
   ]
  },
  {
   "cell_type": "markdown",
   "id": "66e720f6",
   "metadata": {},
   "source": [
    "Note we haven't said anything about the donor behavior yet; so we have implicitly assumed that this doesn't affect the vote! One theory about donor behavior is that they will give money to those with an aligned ideology in order to help them get re-elected. \n",
    "\n",
    "We can model this with a simple utility framework. Suppose the \"cost\" to donating is $c$, and the benefit is equal to:\n",
    "$$\n",
    "\\text{benefit} = b_{don} \\times \\text{ideology} + (1-b_{don}) \\times e_{don}\n",
    "$$\n",
    "where $e_{don}$ is a uniform random number between 0 and 1. So, when $b_{don}$ is high, the donor puts more weight on ideology, and when $b_{don}$  is low they put more weight on other factors. The donor utility is:\n",
    "$$\n",
    "u_{don} = \\text{benefit} - c\n",
    "$$\n",
    "\n",
    "**Question 2.1. Write code to set $b_{don}=1/2$, $c=1/2$, compute the utility to donate, and make a variable called `Donate` in the `leg_data` table which is equal to 1 when this is greater than or equal to the cost. (Hint: use the `np.where` function.)**"
   ]
  },
  {
   "cell_type": "code",
   "execution_count": null,
   "id": "d68f349b",
   "metadata": {},
   "outputs": [],
   "source": [
    "# Code for 2.1\n",
    "np.random.seed(898)"
   ]
  },
  {
   "cell_type": "markdown",
   "id": "99b9e0d4",
   "metadata": {},
   "source": [
    "**Question 2.2. What is the average of the `Pro B Votes` variable among those who receive a donation? Among those who do not? What is the difference of means?**"
   ]
  },
  {
   "cell_type": "code",
   "execution_count": null,
   "id": "a6b18b92",
   "metadata": {},
   "outputs": [],
   "source": [
    "# Code for 2.2"
   ]
  },
  {
   "cell_type": "code",
   "execution_count": null,
   "id": "bb92b88b",
   "metadata": {},
   "outputs": [],
   "source": []
  },
  {
   "cell_type": "code",
   "execution_count": null,
   "id": "0ee219c6",
   "metadata": {},
   "outputs": [],
   "source": []
  },
  {
   "cell_type": "markdown",
   "id": "99fb076b",
   "metadata": {},
   "source": [
    "**Question 2.3. You should get that there is a positive difference of means. But we set this up in a way that there is no real causal effect: the legislator behavior was unaffected of what the donor did. If someone were to say to you \"this just goes to show that politicians do whatever lobbyists want them to do!\" what would be a good response based on what we learned this week?**"
   ]
  },
  {
   "cell_type": "markdown",
   "id": "9be63e73",
   "metadata": {},
   "source": [
    "*Words for 2.3*"
   ]
  },
  {
   "cell_type": "markdown",
   "id": "3355c10b",
   "metadata": {},
   "source": [
    "One thing we might want to study is how the parameters of this data generating process affect the observed difference of means. Do to this efficiently, here is a function called `getdm(b_leg,b_don,c)` which replicates the analysis above, but with these variables as arguments. (That is, creates a table with the legislator ideology as a variable, then adds variables for the legislator voting behavior and the donor choice, then computes the difference of means in voting behavior among those who received donations vs those who did not). "
   ]
  },
  {
   "cell_type": "code",
   "execution_count": null,
   "id": "5ec34d90",
   "metadata": {},
   "outputs": [],
   "source": [
    "def getdm(b_leg, b_don,c):\n",
    "    leg_ideol = np.random.rand(n_leg)\n",
    "    dat = Table().with_column(\"Ideology\", leg_ideol)\n",
    "    pro = b_leg * leg_ideol + (1-b_leg)*np.random.rand(n_leg)\n",
    "    dat = dat.with_column(\"Pro B Votes\", pro)\n",
    "    donate=np.where(b_don*dat.column(\"Ideology\") + (1-b_don)*np.random.rand(n_leg) - c > 0, 1, 0)\n",
    "    dat = dat.with_column(\"Donate\", donate)\n",
    "    meand1 = np.mean(dat.where(\"Donate\",1).column(\"Pro B Votes\"))\n",
    "    meand0 = np.mean(dat.where(\"Donate\",0).column(\"Pro B Votes\"))\n",
    "    return(meand1-meand0)\n",
    "    "
   ]
  },
  {
   "cell_type": "markdown",
   "id": "2751917d",
   "metadata": {},
   "source": [
    "**Question 2.4. Check that `getdm(.5, .5, .5)` gives a similar answer to what you got for 2.2 (it won't be exactly the same due to randomness).**"
   ]
  },
  {
   "cell_type": "code",
   "execution_count": null,
   "id": "fee0b7e4",
   "metadata": {},
   "outputs": [],
   "source": [
    "# Code for 2.4"
   ]
  },
  {
   "cell_type": "markdown",
   "id": "43051efc",
   "metadata": {},
   "source": [
    "**Question 2.5. See what happens if you increase or decrease the `b_leg` parameter (this is the first argument in the `getdm` function). What does this mean in words? Does this lead to more or less selection bias, and why?**"
   ]
  },
  {
   "cell_type": "code",
   "execution_count": null,
   "id": "7d7c1cde",
   "metadata": {},
   "outputs": [],
   "source": [
    "#Code for 2.5"
   ]
  },
  {
   "cell_type": "code",
   "execution_count": null,
   "id": "ef806c49",
   "metadata": {},
   "outputs": [],
   "source": []
  },
  {
   "cell_type": "markdown",
   "id": "c7e523ba",
   "metadata": {},
   "source": [
    "*Words for 2.5*"
   ]
  },
  {
   "cell_type": "markdown",
   "id": "dfc461b5",
   "metadata": {},
   "source": [
    "**Question 2.6 [OPTIONAL]. Say we want to simulate a donor who is *anti-business*, or prefers to donate to those with a less pro-business ideology. Write code to simulate whether legislators who get contributions from such a donor are more or less likely to vote yes on pro-business legislation**"
   ]
  },
  {
   "cell_type": "code",
   "execution_count": null,
   "id": "aad0b5c8",
   "metadata": {},
   "outputs": [],
   "source": [
    "# Code for 2.6"
   ]
  },
  {
   "cell_type": "markdown",
   "id": "a4ec2d29",
   "metadata": {},
   "source": [
    "*Words for 2.6*"
   ]
  },
  {
   "cell_type": "markdown",
   "id": "2d37ac30",
   "metadata": {},
   "source": [
    "## Part 3. Donations with causation"
   ]
  },
  {
   "cell_type": "markdown",
   "id": "770d436b",
   "metadata": {},
   "source": [
    "Now let's do a variant of the analysis above, but where there is a real causal effect of donations. To do that, we will first create a table called `leg_data2` with the legislator ideology and the donation choice, which we treat the same as above."
   ]
  },
  {
   "cell_type": "code",
   "execution_count": null,
   "id": "313569c0",
   "metadata": {},
   "outputs": [],
   "source": [
    "b_leg=.5\n",
    "b_don=.5\n",
    "c=.5\n",
    "leg_data2 = Table().with_column(\"Ideology\", leg_ideol)\n",
    "u_don = b_don*leg_ideol + (1-b_don)*np.random.rand(n_leg)\n",
    "leg_data2=leg_data2.with_column(\"Donate\", 1*(u_don > c))"
   ]
  },
  {
   "cell_type": "markdown",
   "id": "e9e9adbd",
   "metadata": {},
   "source": [
    "Let's suppose that if a legislator does not receive a donation, they vote as we assumed above. If they do receive a donation, they will vote for 20% more pro-business bills. \n",
    "\n",
    "As in the class notebook, we will first create two separate variables for the potential outcome without a donation (`Pro B Votes 0`) and with a donation (`Pro B Votes 1`)."
   ]
  },
  {
   "cell_type": "code",
   "execution_count": null,
   "id": "1b72f879",
   "metadata": {},
   "outputs": [],
   "source": [
    "b_bribe = .2\n",
    "pro0 = b_leg * leg_ideol + (1-b_leg)*np.random.rand(n_leg)\n",
    "pro1 = pro0 + b_bribe\n",
    "# Potential outcome with no donation\n",
    "leg_data2 = leg_data2.with_column(\"Pro B Votes 0\", pro0)\n",
    "# Potential outcome with donation\n",
    "leg_data2 = leg_data2.with_column(\"Pro B Votes 1\", pro1)\n",
    "leg_data2"
   ]
  },
  {
   "cell_type": "markdown",
   "id": "1a05856f",
   "metadata": {},
   "source": [
    "**Question 3.1. Create a variable which corresponds to the realized voting behavior; that is, the potential outcome with not donation for those not receiving a donation, and the potential outcome with a donation for those who do receive one. Add this variable to the `leg_data2` table with the name \"Pro B Votes\" (Hint: use the `np.where` function).**"
   ]
  },
  {
   "cell_type": "code",
   "execution_count": null,
   "id": "5e1d3a65",
   "metadata": {},
   "outputs": [],
   "source": [
    "# Code for 3.1"
   ]
  },
  {
   "cell_type": "markdown",
   "id": "8301448e",
   "metadata": {},
   "source": [
    "**Question 3.2. Compute the difference of means in realized voting behavior among those who received a donation versus not.**"
   ]
  },
  {
   "cell_type": "code",
   "execution_count": null,
   "id": "3ed53fcc",
   "metadata": {},
   "outputs": [],
   "source": [
    "#Code for 3.2"
   ]
  },
  {
   "cell_type": "markdown",
   "id": "2e1b9f21",
   "metadata": {},
   "source": [
    "**Question 3.3. Compute the selection bias in this estimate by comparing the difference in the average of \"Pro B Votes 0\" among those who received a donation versus not.**"
   ]
  },
  {
   "cell_type": "code",
   "execution_count": null,
   "id": "4b7aef63",
   "metadata": {},
   "outputs": [],
   "source": [
    "#Code for 3.3"
   ]
  },
  {
   "cell_type": "markdown",
   "id": "d262706c",
   "metadata": {},
   "source": [
    "**Question 3.4. Do a calculation which illustrates the Difference of Means = Causal Effect + Selection Bias formula for this case (Hint: you computed one of these in 3.2 and another in 3.3!)**"
   ]
  },
  {
   "cell_type": "code",
   "execution_count": null,
   "id": "61f1116d",
   "metadata": {},
   "outputs": [],
   "source": [
    "# Code for 3.4"
   ]
  },
  {
   "cell_type": "markdown",
   "id": "5da5798d",
   "metadata": {},
   "source": [
    "Suppose researchers studying this question also have the data on the legislator ideology.\n",
    "\n",
    "Even without knowing how the data was generated, we can get a sense of whether this might be driving selection bias by looking at the relationship between ideology and donations and the relationship between ideology and voting.\n",
    "\n",
    "**Question 3.5. Create a scatter plot with \"Ideology\" on the x axis and \"Pro B Votes\" on the y axis, using `leg_data2`. Use a `, group=\"Donate\"` argument to also seperate out those who received donations vs not**"
   ]
  },
  {
   "cell_type": "code",
   "execution_count": null,
   "id": "530f986b",
   "metadata": {},
   "outputs": [],
   "source": [
    "# Code for 3.5"
   ]
  },
  {
   "cell_type": "markdown",
   "id": "e64246fc",
   "metadata": {},
   "source": [
    "**Question 3.6. What can we infer from this graph about (1) who tends to receive donations as a function of their ideology, and (2) whether donations make legislators with otherwise similar ideology vote in a more or less pro-business fashion (Hint: compare the Pro B votes among legislators with an ideology close to, say, .4)?**"
   ]
  },
  {
   "cell_type": "markdown",
   "id": "fee8caa1",
   "metadata": {},
   "source": [
    "*Answer for 3.6*"
   ]
  },
  {
   "cell_type": "markdown",
   "id": "8bffbea4",
   "metadata": {},
   "source": [
    "**Question 3.7 [OPTIONAL]. Create the same graph as you did in 3.5 but using the `legdata` table where there was no causal effect. Compare the two.**"
   ]
  },
  {
   "cell_type": "code",
   "execution_count": null,
   "id": "8c476586",
   "metadata": {},
   "outputs": [],
   "source": [
    "# Code for 3.7"
   ]
  },
  {
   "cell_type": "markdown",
   "id": "b0124443",
   "metadata": {},
   "source": []
  },
  {
   "cell_type": "code",
   "execution_count": null,
   "id": "1cab7267",
   "metadata": {},
   "outputs": [],
   "source": []
  }
 ],
 "metadata": {
  "kernelspec": {
   "display_name": "Python 3 (ipykernel)",
   "language": "python",
   "name": "python3"
  },
  "language_info": {
   "codemirror_mode": {
    "name": "ipython",
    "version": 3
   },
   "file_extension": ".py",
   "mimetype": "text/x-python",
   "name": "python",
   "nbconvert_exporter": "python",
   "pygments_lexer": "ipython3",
   "version": "3.9.7"
  }
 },
 "nbformat": 4,
 "nbformat_minor": 5
}
