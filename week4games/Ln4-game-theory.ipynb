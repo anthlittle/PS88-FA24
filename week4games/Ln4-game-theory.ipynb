{
 "cells": [
  {
   "cell_type": "markdown",
   "id": "bc51c0fa",
   "metadata": {},
   "source": [
    "# PS 88 Lecture Notebook 4: Game Theory and Collective Action"
   ]
  },
  {
   "cell_type": "markdown",
   "id": "e6b2e4f6",
   "metadata": {},
   "source": [
    "Over the next two weeks we are going to wrap up the \"theory\" section of the class, by talking about game theory.\n",
    "\n",
    "This builds naturally on what we learned last week, when we studied preferences and utility in a context with a fixed set of choices in the absence of any uncertainty or outside forces. In that setting, things aren't that complicated: as long as decision-makers have coherent preferences over their choices, we can represent them with a utility function, and predict they pick the option which gives the highest utility.\n",
    "\n",
    "Next we incorporated uncertainty about what outcome will result from choices, by studying things like taking bets on coin flips or choosing whether or not to protest without knowing if you will get arrested. Here things got a bit more complicated, but conceptually our analysis was straightforward: compute the expected utility to each choice, and then find the option that gives the highest expected utility.\n",
    "\n",
    "The difference between last week and what we will study this week is well-captured by this quote from Amos Tversky: \"People are not so complicated. Relationships between people are complicated\". Game theory is about decision-making in situations where what other people does matters too.\n",
    "\n",
    "As Tversky says, things will get more complicated when we have to think through what others will do as well. If what is optimal for me to do depends on the behavior of others, I need to know what I think they will do to make good decisions. And to make a prediction about what others will do, they need to have a prediction about how I will behave. Game theory is a tool to make sense of how people can (or should) behave in scenarios like this.\n",
    "\n",
    "This week we will focus on relatively simple games which capture various notions of *collective action*. Next week we will study a more concrete class of models on electoral competition.\n"
   ]
  },
  {
   "cell_type": "markdown",
   "id": "42e26134",
   "metadata": {},
   "source": [
    "## Games in the state of nature\n",
    "\n",
    "Let's start with a game theory fable. Imagine an island with a small number of inhabitants, who have no formal government. Two islanders, Ari and Blair, are walking in opposite directions, and come upon a lovely persimmon tree at the same time. Alas, it is early in the season, and so there is only one ripe persimmon on the tree. Both want it. \n",
    "\n",
    "In our simplified fable, let's say that they both simultaneously make a choice between two actions we will call \"Grab\" (G) and \"Defer\" (D). If one grabs and the other defers, the grabber gets the persimmon to themselves. If they both defer, they end up sharing the persimmon evenly and have a nice chat. If they both grab, then this leads to a fight.\n",
    "\n",
    "To describe their preferences in this interaction, we need to specify how happy they would be with any *outcome*, where an outcome indicates the choice that each makes. We can represent these outcomes in a table, where the row corresponds to Ari's choice and the column corresponds to Blair's choice:\n",
    "\n",
    "|          | B Grab | B Defer     | \n",
    "|----------|----------|--------------|\n",
    "| A Grab |        |           |  \n",
    "| A Defer |        |         |  \n",
    "\n"
   ]
  },
  {
   "cell_type": "markdown",
   "id": "f83b36fc",
   "metadata": {},
   "source": [
    "Like last week, we will represent how much each player likes these different outcomes with a utility function. Here are the numbers we will use:\n",
    "\n",
    "|          | B Grab | B Defer     | \n",
    "|----------|----------|--------------|\n",
    "| A Grab |    0,0    |   4,1        |  \n",
    "| A Defer |    1,4    |   3,3      |  \n",
    "\n"
   ]
  },
  {
   "cell_type": "markdown",
   "id": "3d524e87",
   "metadata": {},
   "source": [
    "In all of these tables, we will write the payoff of the \"row player\" first, followed by the \"column player.\" For example, in the \"A Grab, B Defer\" cell, the utility for the row player (Ari) is 4, and the utility for the column player (Blair) is 1. This is somewhat arbitrary, but a standard convention for representing games in tables like this.\n",
    "\n",
    "From the perspective of either player, the outcome which gives the highest utility (utility 4) is when they grab and the other defers. The outcome where they both defer is slightly worse (3). The third best outcome is deferring while the other grabs (1), and the worst is both grabbing (0)"
   ]
  },
  {
   "cell_type": "markdown",
   "id": "8e15dfa9",
   "metadata": {},
   "source": [
    "When we studied choices among one player, we just had to find the choice which maximizes their utility. Is it optimal to grab or defer in this game?\n",
    "\n",
    "If you think about this a bit, you will see the answer is \"it depends.\" In particular, it depends on what the other player does. If Ari knows Blair is going to grab, he would prefer to defer and get 1 then grab and get 0. However, if he knows she is going to defer, he would rather grab and get 4 rather than defer and get 3. Things look the same from Blair's perspective.\n",
    "\n",
    "So, we are going to come up with a different way to ask what is rational to do here."
   ]
  },
  {
   "cell_type": "markdown",
   "id": "8be2f11b",
   "metadata": {},
   "source": [
    "## Some more games\n",
    "\n",
    "Before doing that, let's first lay out of a couple more games. Both will have the same general structure: two decisionmakers are making a choice with two options, and need to make their choices at the same time.\n",
    "\n",
    "In the second game, our decision-makers are two countries, A and B. Both countries are deciding whether to pass new laws to restrict some kind of pollution (think greenhouse gas emissions). Say each country chooses to \"cut back\" (C) or \"don't cut back\" (D). \n",
    "\n",
    "Take it as a given that cutting back will be good for the environment of both countries, but is costly to do so because it will harm industries that employ many workers. We are going to be a bit more general in this game, and assume that if they choose $C$, this will generate a benefit $b$ enjoyed by both countries. If both cut back, they both get $2b$ from reduced pollution. However, cutting back also carries a cost $c$ which is only paid by the country who cuts emissions. The utilties for each outcome can then be represented as:\n",
    "\n",
    "|          | B Cut | B Don't     | \n",
    "|----------|----------|--------------|\n",
    "| A Cut |  2b-c, 2b-c       |  b-c,b           |  \n",
    "| A Don't |  b,b-c       |  0,0           |  \n",
    "\n",
    "Assume that $2b > c > b$. (if you like concrete numbers, let $c=3$ and $b=2$) This means that both countries are better off if they both cut, which gives utility $2b - c > 0$. However, the individual cost of cutting back outweighs the individual benefit. So, for example, if the other player does not cut back, cutting back gives $b-c < 0$, which is worse that both not cutting back.  "
   ]
  },
  {
   "cell_type": "markdown",
   "id": "56e82d8f",
   "metadata": {},
   "source": [
    "The final game we will study is among two citizens who live in a very poorly run country. They would like to have a new government, and if they all rise up and start a revolution this is likely to happen. Of course, a challenge among potential revolutionaries is that if you are the only citizen to stick your neck out, things will not turn out well.\n",
    "\n",
    "Again, to be very simple, let's suppose that there are two citizens (or, maybe two groups of citizens). Call them 1 and 2. Both simultaneously choose Revolution (R) or Stay Home (H). If they both pick R, they overthrow the government. If not, the government survives, and anyone who picks R gets thrown in jail. The best outcome is if they both pick R. Second best is staying home (no matter what the other does). Third best is picking R when the other picks H.\n",
    "\n",
    "Here is a table with utilities representing these preferences:\n",
    "\n",
    "|          | 2 Revolution | 2 Home     | \n",
    "|----------|----------|--------------|\n",
    "| 1 Revolution |  3, 3       |  0,1           |  \n",
    "| 1 Home |  1,0       |  1,1           |  \n",
    " \n",
    "The reason this is interesting is that there is a clear best outcome for both: R,R. But if 1 is nervous that 2 won't join, it would be better to stay home. And if 2 thinks 1 is nervous he might in fact stay home!\n"
   ]
  },
  {
   "cell_type": "markdown",
   "id": "14e7d521",
   "metadata": {},
   "source": [
    "## Common elements\n",
    "\n",
    "Now let's step back and think about some common elements to these scenarios.\n",
    "\n",
    "All three involve multiple players who have multiple choices, and their decisions affect each other. And they have to make decisions not knowing how the other will behave. As we will codify soon, these are elements of a normal form game. Normal form games have three components. First, we need to specify who the players, or actors are.\n",
    "\n",
    "Second, we need to say what the actions available to each player are. An outcome of a game is then an action taken by each player. For example, Ari grabbing and Blair deferring is an outcome of the first game.\n",
    "\n",
    "Third, we need to specify preferences over these outcomes. In general we could specify  preferences that compare all possible pairs of outcomes. However, as we learned last week we can always represent such preferences with a utility function, which will generally be much easier. So this week we will jump to just giving utilities for each player for each outcome.\n",
    "\n"
   ]
  },
  {
   "cell_type": "markdown",
   "id": "302be163",
   "metadata": {},
   "source": [
    "## What is a collective action problem?\n",
    "\n",
    "A more specific common element of these games are that there is a collective \"best\" outcome, but some reasons to think that this best outcome might not happen. In the persimmon game, both deferring is near the best outcome for both, and gives highest total utility. But if each expects the other to defer they would want to grab. In the second, both cutting back leads to a good and fair  outcome (again, the one which maximizes sum utility), but it is individually costly to do so. And in the third, a successful revolution is clearly the best outcome for both, but joining is risky to do if the other player may not go along.\n",
    "\n",
    "We call games with these properties \"collective action problems,\" because a group of people (whether two or more) may not end up doing what is collectively best.\n",
    "\n",
    "Eventually we will get to some more concrete ways these games related to real world data, but even setting aside any specific data or empirical test, there is a huge value to understanding collective action problems. It is the kind of idea that gets burrowed in your head, and once it's there you see collective action problems everywhere, particularly in politics.\n",
    "\n",
    "In your day to day life, collective action problems can arise whenever individuals have the choice to do something which is individually costly/unpleasant but would really help others. Think doing a favor for someone, or not driving aggressively when you are in a rush. These are like lower stakes versions of the pollution game. We often call doing the costly thing \"cooperating\". A central question in the social sciences is why people cooperate in some scenarios and not others. A central question in political science is whether political institutions might get people to be cooperative in scenarios where might not otherwise.\n"
   ]
  },
  {
   "cell_type": "markdown",
   "id": "8793b401",
   "metadata": {},
   "source": [
    "## Solving Normal Form Games"
   ]
  },
  {
   "cell_type": "markdown",
   "id": "e4f59a6f",
   "metadata": {},
   "source": [
    "Now that we have a clean representation, how should we predict the players will behave? To build on what we learned last week, a good starting point is to we make an assumption about what one player does, because then the other player now just needs to make the choice which maximizes their own utility. In other words we will first figure out the *best response* to each action."
   ]
  },
  {
   "cell_type": "markdown",
   "id": "02519898",
   "metadata": {},
   "source": [
    "Let's return to our first example, with the table reproduced here:\n",
    "\n",
    "|          | B Grab | B Defer     | \n",
    "|----------|----------|--------------|\n",
    "| A Grab |  0,0       |  4,1           |  \n",
    "| A Defer |  1,4       |  3,3           |  "
   ]
  },
  {
   "cell_type": "markdown",
   "id": "4fcde8b1",
   "metadata": {},
   "source": [
    "If we assume that Blair plays Grab, then visually we know that the outcome is going to be in the left column:\n",
    "\n",
    "|          | B Grab |\n",
    "|----------|----------|\n",
    "| A Grab |  0,0       | \n",
    "| A Defer |  1,4       | \n",
    "\n",
    "Recall that Ari's payoffs are listed first since he is the row player. In this column, Ari is effectively choosing between Grab, which gives utility 0, and Defer, which gives a higher utility of 1. So, we say that Defer is a *best response* to Grab. We often illustrate these by adding a star to the utility associated with the best response in the table, like this (hint: when writing in markdown put dollar signs around the asterisk like this `$*$` so it gets displayed, rather than italizicing the rest of the text):\n",
    "\n",
    "|          | B Grab | B Defer     | \n",
    "|----------|----------|--------------|\n",
    "| A Grab |  0,0       |  4,1           |  \n",
    "| A Defer |  1$*$,4       |  3,3           |  "
   ]
  },
  {
   "cell_type": "markdown",
   "id": "3f40e259",
   "metadata": {},
   "source": [
    "If Blair plays Defer, then Ari gets 4 from Grab and 3 from Defer. So he maximizing his utility here by deferring, and we star the 4 in that cell:\n",
    "\n",
    "|          | B Grab | B Defer     | \n",
    "|----------|----------|--------------|\n",
    "| A Grab |  0,0       |  4$*$,1           |  \n",
    "| A Defer |  1$*$,4       |  3,3           |  \n"
   ]
  },
  {
   "cell_type": "markdown",
   "id": "c84d5204",
   "metadata": {},
   "source": [
    "Now we can do the same for Blair. Here by fixing Ari's choice to Grab, we are looking at the first row. \n",
    "\n",
    "|          | B Grab | B Defer     | \n",
    "|----------|----------|--------------|\n",
    "| A Grab |  0,0       |  4,1           | \n",
    "\n",
    "The relevant numbers are the same as when we assumed Blair would Grab: if Ari chooses Grab, Blair gets 0 from Grab and 1 from Defer, and so the best response is Defer. If Ari chooses Defer, Blair gets 4 from Grab and 3 from Defer, and so prefers to Grab. Starring the utilities for Blair associated with both of these choices:\n",
    "\n",
    "|          | B Grab | B Defer     | \n",
    "|----------|----------|--------------|\n",
    "| A Grab |  0,0       |  4$*$,1$*$           |  \n",
    "| A Defer |  1$*$,4$*$       |  3,3           |  "
   ]
  },
  {
   "cell_type": "markdown",
   "id": "2143e0fa",
   "metadata": {},
   "source": [
    "Visually, we can see that there are two cells, or outcomes, that have two stars, and two that have none. In both of the cells with two stars, both players are choosing a best response to what the other player is doing. Another way to think about this is that if we start from a conjecture that, say, Ari will Grab and Blair will Defer, neither player would want to change their behavior (keeping what the other does fixed). We say this is a situation where they are playing *mutual best responses*.\n",
    "\n",
    "On the other hand, if in the cell where both grab, neither is playing a best response, because if the other grabs it is better to defer.\n",
    "\n",
    "So, we might think the players are behaving more rationally if we end up in one of the cells with two stars than one of the cells with zero stars."
   ]
  },
  {
   "cell_type": "markdown",
   "id": "b72a58b4",
   "metadata": {},
   "source": [
    "Now let's return to the pollution game. When you go through the \"star the best response\" procedure you should see that no matter what the other player does, Don't is the best response. So we star all of the utilities associated with the player in question choosing Don't.\n",
    "\n",
    "\n",
    "\n",
    "|          | B Cut | B Don't     | \n",
    "|----------|----------|--------------|\n",
    "| A Cut |  2b-c, 2b-c       |  b-c,b$*$           |  \n",
    "| A Don't |  b$*$,b-c       |  0$*$,0$*$           |  \n",
    "\n",
    "Here we can see that for both players \"don't cut\" is a best response no matter what the other does, since $b-c < 0$ and $2b-c < b$. The cell or outcome in this game with two stars, and hence both playing a mutual best response, is  both choosing don't."
   ]
  },
  {
   "cell_type": "markdown",
   "id": "d6be9163",
   "metadata": {},
   "source": [
    "You should try the same for the revolution game on your own. Where do the stars go? What outcomes involve a mutual best response?"
   ]
  },
  {
   "cell_type": "markdown",
   "id": "d580e73e",
   "metadata": {},
   "source": [
    "## Nash Equilibrium\n",
    "The mutual best repsonse condition condition has famous name: a Nash equilibrium. There are several ways to define this, but my favorite is the one we just showed: an outcome of a game is a Nash equilibrium if everyone is playing a best response to the others' strategy.\n",
    "\n",
    "The word equilibrium is meant to invoke a kind of stability: if we are playing a NE, then no one wants to individually change their behavior, because they are all playing best responses to each other.\n",
    "\n",
    "\n",
    "As we saw in the persimmon game, there might be more than one outcome meeting this condition. In that case, we say there are *multiple equilibria*. There are also some games that don't have any outcome with mutual best responses. Game theorists have ways to deal with this, but we won't get into them here.\n",
    "\n",
    "In games with two players and 2 actions, there is also an easy way to find Nash Equilibria: star the best responses for each player, and then look for cells (or outcomes) with two stars. \n",
    "\n",
    "What is the Nash Equilibrium for the revolution game?\n",
    "\n",
    "\n",
    "\n"
   ]
  },
  {
   "cell_type": "markdown",
   "id": "7336dee9",
   "metadata": {},
   "source": [
    "## So what?\n",
    "\n",
    "\n",
    "We typically predict that people will behave in a way that leads to a Nash Equilibrium in games like this. Like with the assumption that they maximize expected utility, this is an assumption, and it may be more or less reasonable in different scenarios. At a bare minimum, Nash equilibrium is a way to identify how utility maximizing people, knowing they are dealing with other utility maximizing people, should behave.\n",
    "\n",
    "A huge caveat, illustrated by the pollution game is so important, is that they players *could* be better off if they both changed their action to Cut! NE just asks that players do what is best for them individually. The result might be bad collectively.\n",
    "\n",
    "Setting aside any individual example, collective action games teach us that groups can often end up doing sub-optimal things, not because they are making mistakes, but because their individual incentives undermine the ability to cooperate."
   ]
  },
  {
   "cell_type": "markdown",
   "id": "26205be0",
   "metadata": {},
   "source": [
    "## Expected Utility and a Graphical Version\n",
    "\n",
    "As discussed above, the persimmon game has two NE. Since the best response of each player is to do the opposite of what the other does, there is one where $A$ grabs and $B$ defers, and one where $A$ defers and $B$ grabs. \n",
    "\n",
    "One way to see this visually is to plot the expected utility of grabbing as a function of the probability that the other grabs. If the other grabs with probability $p$, the expected utility to grabbing is:\n",
    "$$\n",
    "EU_g(p) = p \\times 0 + (1-p) \\times 4\n",
    "$$\n",
    "And the expected utility to deferring is:\n",
    "$$\n",
    "EU_g(p) = p \\times 1 + (1-p) \\times 3\n",
    "$$\n",
    "\n",
    "Let's plot both of these as a function of $p$.\n"
   ]
  },
  {
   "cell_type": "code",
   "execution_count": 2,
   "id": "478ca076",
   "metadata": {},
   "outputs": [],
   "source": [
    "import numpy as np\n",
    "import matplotlib.pyplot as plt\n",
    "from datascience import Table\n",
    "%matplotlib inline"
   ]
  },
  {
   "cell_type": "code",
   "execution_count": 3,
   "id": "af2e1b3d",
   "metadata": {},
   "outputs": [
    {
     "data": {
      "text/plain": [
       "<matplotlib.legend.Legend at 0x7f9833809880>"
      ]
     },
     "execution_count": 3,
     "metadata": {},
     "output_type": "execute_result"
    },
    {
     "data": {
      "image/png": "[encoded data removed]",
      "text/plain": [
       "<Figure size 432x288 with 1 Axes>"
      ]
     },
     "metadata": {
      "needs_background": "light"
     },
     "output_type": "display_data"
    }
   ],
   "source": [
    "p = np.arange(0,1, step=.01)\n",
    "eug = p*0 + (1-p)*4\n",
    "eud = p*1 + (1-p)*3\n",
    "plt.ticklabel_format(style='plain')\n",
    "plt.plot(p,eug, label='Grabbing Expected Utility')\n",
    "plt.plot(p,eud, label='Deferring Expected Utility')\n",
    "plt.xlabel('Probability of Grabbing')\n",
    "plt.ylabel('Expected Utility')\n",
    "plt.legend()"
   ]
  },
  {
   "cell_type": "markdown",
   "id": "2f877469",
   "metadata": {},
   "source": [
    "Since the blue line is above the orange line for low values of $p$, when the other player always plays defer ($p=0$), it is better to grab. On the other hand, when the other player always grabs ($p=1$), it is better to defer. This confirms our claim about the best responses."
   ]
  },
  {
   "cell_type": "markdown",
   "id": "b8223d25",
   "metadata": {},
   "source": [
    "## Best responses to a population\n",
    "\n",
    "So far we have only   considered games between two players, and where they always pick one strategy or the other. Technically these are called *pure strategy* equilibria. It is also possible that people don't always play the same strategy (a *mixed strategy*), or that in a larger population different people play different strategies, and they don't know who they are matched with (often called *population games*). \n",
    "\n",
    "In either case, it makes sense to use these expected utility graphs to analyze the best response for intermediate cases where the probability of the opponent is between 0 and 1. Let's see what the optimal strategy is when faced with a randomly chosen player. \n",
    "\n",
    "Let's load up the data from a survey similar to the one you will take, but using a previous year class data:"
   ]
  },
  {
   "cell_type": "code",
   "execution_count": 4,
   "id": "ac168b26",
   "metadata": {},
   "outputs": [
    {
     "data": {
      "text/html": [
       "<table border=\"1\" class=\"dataframe\">\n",
       "    <thead>\n",
       "        <tr>\n",
       "            <th>ID</th> <th>pd_class</th> <th>pd_stanford</th> <th>pd_class_prc</th> <th>pd_stanford_prc</th> <th>grabshare</th> <th>ult_offer</th> <th>ult_accept</th> <th>gt_knowledge</th> <th>libcon</th> <th>libgon_guess</th> <th>ingroup</th>\n",
       "        </tr>\n",
       "    </thead>\n",
       "    <tbody>\n",
       "        <tr>\n",
       "            <td>1   </td> <td>Defect   </td> <td>Defect     </td> <td>0.5         </td> <td>0.2            </td> <td>Share    </td> <td>5        </td> <td>5         </td> <td>2           </td> <td>4     </td> <td>3           </td> <td>6      </td>\n",
       "        </tr>\n",
       "        <tr>\n",
       "            <td>2   </td> <td>Cooperate</td> <td>Cooperate  </td> <td>0.5         </td> <td>0.5            </td> <td>Grab     </td> <td>5        </td> <td>4         </td> <td>1           </td> <td>3     </td> <td>2           </td> <td>2      </td>\n",
       "        </tr>\n",
       "        <tr>\n",
       "            <td>3   </td> <td>Defect   </td> <td>Defect     </td> <td>1           </td> <td>1              </td> <td>Grab     </td> <td>2        </td> <td>2         </td> <td>1           </td> <td>3     </td> <td>4           </td> <td>3      </td>\n",
       "        </tr>\n",
       "        <tr>\n",
       "            <td>4   </td> <td>Defect   </td> <td>Defect     </td> <td>0.5         </td> <td>0.1            </td> <td>Grab     </td> <td>5        </td> <td>5         </td> <td>3           </td> <td>2     </td> <td>3           </td> <td>1      </td>\n",
       "        </tr>\n",
       "        <tr>\n",
       "            <td>5   </td> <td>Defect   </td> <td>Defect     </td> <td>0           </td> <td>0              </td> <td>Share    </td> <td>5        </td> <td>5         </td> <td>3           </td> <td>1     </td> <td>3           </td> <td>5      </td>\n",
       "        </tr>\n",
       "        <tr>\n",
       "            <td>6   </td> <td>Defect   </td> <td>Defect     </td> <td>0           </td> <td>0              </td> <td>Share    </td> <td>5        </td> <td>1         </td> <td>4           </td> <td>2     </td> <td>3           </td> <td>5      </td>\n",
       "        </tr>\n",
       "        <tr>\n",
       "            <td>7   </td> <td>Cooperate</td> <td>Cooperate  </td> <td>0.25        </td> <td>0.1            </td> <td>Share    </td> <td>5        </td> <td>3         </td> <td>1           </td> <td>3     </td> <td>2           </td> <td>1      </td>\n",
       "        </tr>\n",
       "        <tr>\n",
       "            <td>8   </td> <td>Defect   </td> <td>Defect     </td> <td>0.6         </td> <td>0.9            </td> <td>Share    </td> <td>9        </td> <td>1         </td> <td>2           </td> <td>2     </td> <td>2           </td> <td>6      </td>\n",
       "        </tr>\n",
       "        <tr>\n",
       "            <td>9   </td> <td>Cooperate</td> <td>Cooperate  </td> <td>0.5         </td> <td>0.4            </td> <td>Share    </td> <td>8        </td> <td>6         </td> <td>0           </td> <td>3     </td> <td>3           </td> <td>3      </td>\n",
       "        </tr>\n",
       "        <tr>\n",
       "            <td>10  </td> <td>Defect   </td> <td>Defect     </td> <td>0.5         </td> <td>0.25           </td> <td>Share    </td> <td>1        </td> <td>1         </td> <td>2           </td> <td>3     </td> <td>3           </td> <td>6      </td>\n",
       "        </tr>\n",
       "    </tbody>\n",
       "</table>\n",
       "<p>... (28 rows omitted)</p>"
      ],
      "text/plain": [
       "ID   | pd_class  | pd_stanford | pd_class_prc | pd_stanford_prc | grabshare | ult_offer | ult_accept | gt_knowledge | libcon | libgon_guess | ingroup\n",
       "1    | Defect    | Defect      | 0.5          | 0.2             | Share     | 5         | 5          | 2            | 4      | 3            | 6\n",
       "2    | Cooperate | Cooperate   | 0.5          | 0.5             | Grab      | 5         | 4          | 1            | 3      | 2            | 2\n",
       "3    | Defect    | Defect      | 1            | 1               | Grab      | 2         | 2          | 1            | 3      | 4            | 3\n",
       "4    | Defect    | Defect      | 0.5          | 0.1             | Grab      | 5         | 5          | 3            | 2      | 3            | 1\n",
       "5    | Defect    | Defect      | 0            | 0               | Share     | 5         | 5          | 3            | 1      | 3            | 5\n",
       "6    | Defect    | Defect      | 0            | 0               | Share     | 5         | 1          | 4            | 2      | 3            | 5\n",
       "7    | Cooperate | Cooperate   | 0.25         | 0.1             | Share     | 5         | 3          | 1            | 3      | 2            | 1\n",
       "8    | Defect    | Defect      | 0.6          | 0.9             | Share     | 9         | 1          | 2            | 2      | 2            | 6\n",
       "9    | Cooperate | Cooperate   | 0.5          | 0.4             | Share     | 8         | 6          | 0            | 3      | 3            | 3\n",
       "10   | Defect    | Defect      | 0.5          | 0.25            | Share     | 1         | 1          | 2            | 3      | 3            | 6\n",
       "... (28 rows omitted)"
      ]
     },
     "execution_count": 4,
     "metadata": {},
     "output_type": "execute_result"
    }
   ],
   "source": [
    "classdata = Table.read_table(\"PS 88 Game Theory Survey 2023.csv\")\n",
    "classdata"
   ]
  },
  {
   "cell_type": "markdown",
   "id": "95eb8ceb",
   "metadata": {},
   "source": [
    "We can count the number of respondents who said they would grab with the following:"
   ]
  },
  {
   "cell_type": "code",
   "execution_count": 5,
   "id": "6064f8bb",
   "metadata": {},
   "outputs": [
    {
     "data": {
      "text/plain": [
       "6"
      ]
     },
     "execution_count": 5,
     "metadata": {},
     "output_type": "execute_result"
    }
   ],
   "source": [
    "sum(classdata.column(\"grabshare\")==\"Grab\")"
   ]
  },
  {
   "cell_type": "markdown",
   "id": "dffee0ae",
   "metadata": {},
   "source": [
    "Let's estimate the probability of a partner grabbing by the proportion who answered this way:"
   ]
  },
  {
   "cell_type": "code",
   "execution_count": 6,
   "id": "5b8cb1e5",
   "metadata": {},
   "outputs": [
    {
     "data": {
      "text/plain": [
       "0.15789473684210525"
      ]
     },
     "execution_count": 6,
     "metadata": {},
     "output_type": "execute_result"
    }
   ],
   "source": [
    "sum(classdata.column(\"grabshare\")==\"Grab\")/classdata.num_rows"
   ]
  },
  {
   "cell_type": "markdown",
   "id": "c1f25d07",
   "metadata": {},
   "source": [
    "We can add this so the graph as follows:"
   ]
  },
  {
   "cell_type": "code",
   "execution_count": 7,
   "id": "f4a66877",
   "metadata": {},
   "outputs": [
    {
     "data": {
      "text/plain": [
       "<matplotlib.lines.Line2D at 0x7f981029cfd0>"
      ]
     },
     "execution_count": 7,
     "metadata": {},
     "output_type": "execute_result"
    },
    {
     "data": {
      "image/png": "[encoded data removed]",
      "text/plain": [
       "<Figure size 432x288 with 1 Axes>"
      ]
     },
     "metadata": {
      "needs_background": "light"
     },
     "output_type": "display_data"
    }
   ],
   "source": [
    "p = np.arange(0,1, step=.01)\n",
    "eug = p*0 + (1-p)*4\n",
    "eud = p*1 + (1-p)*3\n",
    "plt.ticklabel_format(style='plain')\n",
    "plt.plot(p,eug, label='Grabbing Expected Utility')\n",
    "plt.plot(p,eud, label='Deferring Expected Utility')\n",
    "plt.xlabel('Probability of Grabbing')\n",
    "plt.ylabel('Expected Utility')\n",
    "plt.legend()\n",
    "plt.axvline(sum(classdata.column(\"grabshare\")==\"Grab\")/classdata.num_rows)"
   ]
  },
  {
   "cell_type": "markdown",
   "id": "22a304e4",
   "metadata": {},
   "source": [
    "Given the class behavior, it would be better to grab"
   ]
  },
  {
   "cell_type": "markdown",
   "id": "9807875b",
   "metadata": {},
   "source": [
    "## Ultimatums"
   ]
  },
  {
   "cell_type": "markdown",
   "id": "719d4dcc",
   "metadata": {},
   "source": [
    "One way to think about the persimmon game is that the two players are trying to divide up something they both want, where striking a deal is better than fighting over it. We typically call situations like this *bargaining games*. They show up very frequently in political science, such as:\n",
    "- Two countries are negotating over who will control a contested territory. Both want more territory, but it will generally be better to strike a deal peacefully rather than go to war over it.\n",
    "- Legislators would like to pass laws to fix a problem plaguing their country, but have different preferences over the best way to solve it. \n",
    "- Elites within authoritarian governments often have \"spoils\" to share and would like more to themselves, but finding a way to share peacefully is better (for them!) then having the government collapse over infighting.\n",
    "\n"
   ]
  },
  {
   "cell_type": "markdown",
   "id": "c88c5f4b",
   "metadata": {},
   "source": [
    "A simple but fascinating version of a bargaining game is the *ultimatum game*. A crucial difference between this game and the previous ones we studied is that it is sequential, meaning one player makes a decision first, and then a second player makes a decision knowing what the first did. \n",
    "\n",
    "In particular, imagine there is 10 dollars on the table for two players to divide. Suppose the money can be divided in dollar increments. One player is the *proposer*, who gets to make an offer a division of the money. After seeing the offer, a *responder* gets to decide whether to accept or reject the offer. If accepting, the money is divided as proposed. If rejecting, both get nothing. \n"
   ]
  },
  {
   "cell_type": "markdown",
   "id": "b9ceaa66",
   "metadata": {},
   "source": [
    "\n",
    "Call the offer made $x$, where this means the responder gets $x$ and the proposer keeps $10-x$. So, $x$ can take on values $0,1,2,..,10$. \n",
    "\n",
    "Write the responder decisions as $a=1$ for accepting and $a=0$ for rejecting. If we asume the player utilities are just equal to how much money they take away -- not a trivial assumption, and we will revisit what happens under alternative assumptions soon -- can then write the utilities as:\n",
    "$$\n",
    "u_P = a(10-x)\n",
    "$$\n",
    "\n",
    "$$\n",
    "u_R = a x$$\n"
   ]
  },
  {
   "cell_type": "markdown",
   "id": "c65d0610",
   "metadata": {},
   "source": [
    "Before we get into the standard ways to predict how people behave in games like this, think about how you would expect people to play. Will they split they typically split the money evenly? Will the proposer take advantage of the fact that he gets to make the offer to take more for herself?"
   ]
  },
  {
   "cell_type": "markdown",
   "id": "48baf994",
   "metadata": {},
   "source": [
    "The standard way we solve games like this is a process called *backwards induction*. As the name implies, we work backwards, and first ask what the responder would do for every possible offer he could receive. Let's start with an easy one: if the proposer offers all 10 dollars, he gets utility 10 from accepting and 0 from rejecting. So it is clearly optimal to accept. If the proposer offers 9, the responder then chooses between 9 and 0; still an easy choice.\n",
    "\n",
    "In fact, if the proposer offers anything between 1 to 10 dollars, the responder would maximize his utility by accepting. So by our standard assumptions, he will accept any of these offers, even though some of them mean the proposer is keeping almost everything to herself. *If we assume one only care's about having more money*, getting a dollar is better than nothing!\n",
    "\n",
    "Things get a bit murkier if the proposer offers 0. In this case, the responder is technically indifferent between accepting and rejecting, since in both cases his utility is zero. Just to simplify, let's assume that he would feel a bit of spite for being offered nothing and would reject the offer. \n",
    "\n",
    "Now we have completed our description of what the repsonder will do: he will reject an offer of 0, and accept any offer bigger than that."
   ]
  },
  {
   "cell_type": "markdown",
   "id": "7dab818a",
   "metadata": {},
   "source": [
    "Given this, we can now step back and ask what the proposer should do, given how the responder is going to behave. If offering 0, the proposer will get a utility of 0 because the responder rejects. For any higher offer, the responder will accept, giving utility 10-x. So the best the proposer can do is offer $x=1$, and keep 9 to herself.\n",
    "\n",
    "We can plot this out:"
   ]
  },
  {
   "cell_type": "code",
   "execution_count": 35,
   "id": "83b8a17e",
   "metadata": {},
   "outputs": [
    {
     "data": {
      "text/plain": [
       "Text(0, 0.5, 'Expected Utility')"
      ]
     },
     "execution_count": 35,
     "metadata": {},
     "output_type": "execute_result"
    },
    {
     "data": {
      "image/png": "[encoded data removed]",
      "text/plain": [
       "<Figure size 432x288 with 1 Axes>"
      ]
     },
     "metadata": {
      "needs_background": "light"
     },
     "output_type": "display_data"
    }
   ],
   "source": [
    "# Range of possible offers\n",
    "x = np.arange(11)\n",
    "# Offers are accepted if they are greater than 0\n",
    "a = 1*(x > 0)\n",
    "plt.plot(x, a*(10-x))\n",
    "plt.xlabel('Offer')\n",
    "plt.ylabel('Expected Utility')"
   ]
  },
  {
   "cell_type": "markdown",
   "id": "bb43b802",
   "metadata": {},
   "source": [
    "Visually, maximizing utility means picking the value of x that gives the highest utility, which here is $x=1$"
   ]
  },
  {
   "cell_type": "markdown",
   "id": "32e65679",
   "metadata": {},
   "source": [
    "A key thing we learn from this model is that the proposer can use the leverage of being able to make the offer to keep almost everything to herself. This gets even more extreme when we allow her to make fine-grained offers. In particular, suppose the money can be divided in any increments down to the penny. That is, the responder can offer nothing, 1 cent, two cents, three cents, ... 9 dollars and 99 cents, or 10 dollars. By the same logic, the responder would would prefer even 1 cent to rejecting (better than nothing!) and so the responder can keep 9.99 to herself and know the responder will accept. So the equilibrium outcome in this variant is the proposer offering 1 cent and the responder accepting.\n",
    "\n",
    "If we allow the proposer to make even smaller factional offers, she can extract even more!\n",
    "\n",
    "At this point, the prediction here probably seems a bit unrealistic. One of the great things about the ultimatum game is that is prods us to think about *why* people might not accept a penny of a 10 dollar prize. \n",
    "\n",
    "This gets at a larger value of analyzing games like this with clear assumptions. Sometimes they lead to pretty intuitive predictions, but other times the predictions might surprise us. Sometimes these predictions will line up well with what we observe in real data, in which case our theory may be a good explanation of why people behave the way they do. In other cases the predictions will not be consistent, in which case we need to go back and think about what our theory was missing.\n",
    "\n",
    "What do you think this theory is missing?"
   ]
  },
  {
   "cell_type": "code",
   "execution_count": null,
   "id": "f0e9cc64",
   "metadata": {},
   "outputs": [],
   "source": []
  }
 ],
 "metadata": {
  "kernelspec": {
   "display_name": "Python 3 (ipykernel)",
   "language": "python",
   "name": "python3"
  },
  "language_info": {
   "codemirror_mode": {
    "name": "ipython",
    "version": 3
   },
   "file_extension": ".py",
   "mimetype": "text/x-python",
   "name": "python",
   "nbconvert_exporter": "python",
   "pygments_lexer": "ipython3",
   "version": "3.9.7"
  }
 },
 "nbformat": 4,
 "nbformat_minor": 5
}
