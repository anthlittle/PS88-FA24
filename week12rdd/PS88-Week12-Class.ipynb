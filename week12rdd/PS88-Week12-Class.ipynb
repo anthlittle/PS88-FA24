{
 "cells": [
  {
   "cell_type": "markdown",
   "id": "7595508f",
   "metadata": {},
   "source": [
    "# PS 88 Week 11 Class Notebook"
   ]
  },
  {
   "cell_type": "code",
   "execution_count": null,
   "id": "c2f1d5b8",
   "metadata": {},
   "outputs": [],
   "source": [
    "import numpy as np\n",
    "import seaborn as sns\n",
    "import statsmodels.formula.api as smf\n",
    "import pandas as pd\n",
    "import matplotlib.pyplot as plt\n",
    "%matplotlib inline"
   ]
  },
  {
   "cell_type": "markdown",
   "id": "66508b97",
   "metadata": {},
   "source": [
    "## Legal drinking - Close to cutoff"
   ]
  },
  {
   "cell_type": "code",
   "execution_count": null,
   "id": "1eb3ccd8",
   "metadata": {},
   "outputs": [],
   "source": [
    "mlda = pd.read_stata(\"AEJfigs.dta\")\n",
    "mlda"
   ]
  },
  {
   "cell_type": "code",
   "execution_count": null,
   "id": "187a565d",
   "metadata": {},
   "outputs": [],
   "source": [
    "sns.scatterplot(x='agecell', y='all', data=mlda)\n",
    "plt.axvline(21)"
   ]
  },
  {
   "cell_type": "markdown",
   "id": "6f62684f",
   "metadata": {},
   "source": [
    "Here is the \"close to legal drinking age\" analysis, where we only consider people within a half year of being 21. First we define some variables which indicate the cells which are close to 21, below and above the cutoff:"
   ]
  },
  {
   "cell_type": "code",
   "execution_count": null,
   "id": "3294717a",
   "metadata": {},
   "outputs": [],
   "source": [
    "width = .5\n",
    "close_under = 1*(mlda['agecell'] > 21 - width)*(mlda['agecell'] < 21)\n",
    "close_over = 1*(mlda['agecell'] < 21 + width)*(mlda['agecell'] >= 21)\n"
   ]
  },
  {
   "cell_type": "markdown",
   "id": "c7db8b08",
   "metadata": {},
   "source": [
    "Which points get this classification, visually?"
   ]
  },
  {
   "cell_type": "code",
   "execution_count": null,
   "id": "e7d0afaa",
   "metadata": {},
   "outputs": [],
   "source": [
    "sns.scatterplot(x='agecell', y='all', data=mlda, hue=close_under)\n",
    "plt.axvline(21)"
   ]
  },
  {
   "cell_type": "markdown",
   "id": "848d1953",
   "metadata": {},
   "source": [
    "Do the same for the \"close over\" points"
   ]
  },
  {
   "cell_type": "code",
   "execution_count": null,
   "id": "bed0f35b",
   "metadata": {},
   "outputs": [],
   "source": []
  },
  {
   "cell_type": "code",
   "execution_count": null,
   "id": "d7958a16",
   "metadata": {},
   "outputs": [],
   "source": [
    "np.mean(mlda.loc[close_under==1, 'all']), np.mean(mlda.loc[close_over==1, 'all'])"
   ]
  },
  {
   "cell_type": "code",
   "execution_count": null,
   "id": "746c8bdf",
   "metadata": {},
   "outputs": [],
   "source": [
    "# Change the width"
   ]
  },
  {
   "cell_type": "markdown",
   "id": "49cf1ff8",
   "metadata": {},
   "source": [
    "## Fitting lines and curves"
   ]
  },
  {
   "cell_type": "markdown",
   "id": "3c513c79",
   "metadata": {},
   "source": [
    "And now the visual version of the regression discontinuity. Not we make two separate `sns.regplot`s and the automatically get placed on the same graph."
   ]
  },
  {
   "cell_type": "code",
   "execution_count": null,
   "id": "beb0d0ab",
   "metadata": {},
   "outputs": [],
   "source": [
    "mlda['diff21'] = mlda['agecell'] - 21"
   ]
  },
  {
   "cell_type": "code",
   "execution_count": null,
   "id": "f93fe013",
   "metadata": {},
   "outputs": [],
   "source": [
    "mlda_under = mlda[mlda['diff21'] < 0]\n",
    "mlda_over = mlda[mlda['diff21'] >=0]\n",
    "sns.regplot(x='diff21',y='all', data=mlda_under)\n",
    "sns.regplot(x='diff21',y='all', data=mlda_over)\n",
    "plt.axvline(0, linestyle=\":\")"
   ]
  },
  {
   "cell_type": "markdown",
   "id": "8f5c0a61",
   "metadata": {},
   "source": [
    "Here is the regression version. First we need our \"treatment\" variable, call this \"over\" for over 21."
   ]
  },
  {
   "cell_type": "code",
   "execution_count": null,
   "id": "e660868b",
   "metadata": {},
   "outputs": [],
   "source": [
    "mlda['over'] = np.where(mlda['diff21']>=0, 1, 0)"
   ]
  },
  {
   "cell_type": "code",
   "execution_count": null,
   "id": "0afd6a0b",
   "metadata": {},
   "outputs": [],
   "source": [
    "mlda_rd1 = smf.ols('all ~ diff21 + over + diff21:over', data=mlda).fit()\n",
    "mlda_rd1.summary()"
   ]
  },
  {
   "cell_type": "markdown",
   "id": "12b116d2",
   "metadata": {},
   "source": [
    "We can add more polynomial terms with the `order=` argument"
   ]
  },
  {
   "cell_type": "code",
   "execution_count": null,
   "id": "2b147d56",
   "metadata": {},
   "outputs": [],
   "source": [
    "mlda_under = mlda[mlda['diff21'] < 0]\n",
    "mlda_over = mlda[mlda['diff21'] >=0]\n",
    "sns.regplot(x='diff21',y='all', data=mlda_under, order=2)\n",
    "sns.regplot(x='diff21',y='all', data=mlda_over, order=2)\n",
    "plt.axvline(0, linestyle=\":\")"
   ]
  },
  {
   "cell_type": "code",
   "execution_count": null,
   "id": "c8da7666",
   "metadata": {},
   "outputs": [],
   "source": [
    "smf.ols('all~over + diff21+ I(diff21**2) + diff21:over + over:I(diff21**2)',data=mlda).fit().summary()"
   ]
  },
  {
   "cell_type": "markdown",
   "id": "5512d038",
   "metadata": {},
   "source": [
    "Another nice informative test we can do is look at trends in mortality *unrelated* to the kinds of deaths caused by drinking. These are often lumped together as \"internal\" causes (see the book for more detail). Lets make a scatterplot of this by agecell."
   ]
  },
  {
   "cell_type": "code",
   "execution_count": null,
   "id": "97d6221d",
   "metadata": {},
   "outputs": [],
   "source": []
  },
  {
   "cell_type": "code",
   "execution_count": null,
   "id": "d2c4d585",
   "metadata": {},
   "outputs": [],
   "source": []
  },
  {
   "cell_type": "code",
   "execution_count": null,
   "id": "f9df6aaf",
   "metadata": {},
   "outputs": [],
   "source": []
  },
  {
   "cell_type": "code",
   "execution_count": null,
   "id": "166aac83",
   "metadata": {},
   "outputs": [],
   "source": []
  },
  {
   "cell_type": "code",
   "execution_count": null,
   "id": "2670a889",
   "metadata": {},
   "outputs": [],
   "source": []
  },
  {
   "cell_type": "code",
   "execution_count": null,
   "id": "91b481d0",
   "metadata": {},
   "outputs": [],
   "source": []
  },
  {
   "cell_type": "code",
   "execution_count": null,
   "id": "93cbac24",
   "metadata": {},
   "outputs": [],
   "source": []
  },
  {
   "cell_type": "code",
   "execution_count": null,
   "id": "570a8efa",
   "metadata": {},
   "outputs": [],
   "source": []
  }
 ],
 "metadata": {
  "kernelspec": {
   "display_name": "Python 3 (ipykernel)",
   "language": "python",
   "name": "python3"
  },
  "language_info": {
   "codemirror_mode": {
    "name": "ipython",
    "version": 3
   },
   "file_extension": ".py",
   "mimetype": "text/x-python",
   "name": "python",
   "nbconvert_exporter": "python",
   "pygments_lexer": "ipython3",
   "version": "3.9.7"
  }
 },
 "nbformat": 4,
 "nbformat_minor": 5
}
