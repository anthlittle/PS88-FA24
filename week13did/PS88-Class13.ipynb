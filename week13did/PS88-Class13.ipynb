{
 "cells": [
  {
   "cell_type": "markdown",
   "id": "49ef0f9d",
   "metadata": {},
   "source": [
    "# PS 88 - Week 13 - Class Notebook"
   ]
  },
  {
   "cell_type": "code",
   "execution_count": null,
   "id": "4c21fe6c",
   "metadata": {},
   "outputs": [],
   "source": [
    "import numpy as np\n",
    "import pandas as pd\n",
    "import seaborn as sns\n",
    "import statsmodels.formula.api as smf\n",
    "import matplotlib.pyplot as plt\n",
    "%matplotlib inline"
   ]
  },
  {
   "cell_type": "markdown",
   "id": "3c903552",
   "metadata": {},
   "source": [
    "Here is code to produce our simple two-person two-time period example. In the first period (\"before\"), neither watch Fox news, and in the second period (\"after\"), Sam starts watching Fox, but Carlos does not. "
   ]
  },
  {
   "cell_type": "code",
   "execution_count": null,
   "id": "8999605b",
   "metadata": {},
   "outputs": [],
   "source": [
    "names = [\"Sam\", \"Sam\", \"Carlos\", \"Carlos\"]\n",
    "time = [\"Before\", \"After\", \"Before\", \"After\"]\n",
    "fox = [0,1,0,0]\n",
    "cons = [5,8,3,4]\n",
    "foxdf = pd.DataFrame({'Name': names, \"Time\": time, \"Fox\":fox, \"Cons\":cons})\n",
    "foxdf"
   ]
  },
  {
   "cell_type": "markdown",
   "id": "0de5da9c",
   "metadata": {},
   "source": [
    "Plotting the trends. Note we are using a new way to refer to columns of a data frame. If \"Var\" is a column name in df, we can refer to it with df.Var. "
   ]
  },
  {
   "cell_type": "code",
   "execution_count": null,
   "id": "6002778e",
   "metadata": {},
   "outputs": [],
   "source": [
    "plt.plot([1,2],foxdf.Cons[foxdf['Name']=='Sam'], label=\"Sam\")\n",
    "plt.plot([1,2],foxdf.Cons[foxdf['Name']=='Carlos'], label=\"Carlos\")\n",
    "plt.xlabel('Time')\n",
    "plt.ylabel('Conservatism')\n",
    "plt.legend()"
   ]
  },
  {
   "cell_type": "markdown",
   "id": "333ff25c",
   "metadata": {},
   "source": [
    "Adding the difference in the \"after\" time, when Sam is watching Fox and Carlos is not."
   ]
  },
  {
   "cell_type": "code",
   "execution_count": null,
   "id": "4322f217",
   "metadata": {},
   "outputs": [],
   "source": [
    "plt.plot([1,2],foxdf.Cons[foxdf['Name']=='Sam'], label=\"Sam\")\n",
    "plt.plot([1,2],foxdf.Cons[foxdf['Name']=='Carlos'], label=\"Carlos\")\n",
    "plt.xlabel('Time')\n",
    "plt.ylabel('Conservatism')\n",
    "plt.plot([2,2],[4,8], linestyle=\"--\")\n",
    "plt.legend()"
   ]
  },
  {
   "cell_type": "markdown",
   "id": "44d1b5fc",
   "metadata": {},
   "source": [
    "... Comparing this to the difference in the before time, when neither watches Fox."
   ]
  },
  {
   "cell_type": "code",
   "execution_count": null,
   "id": "343a933f",
   "metadata": {},
   "outputs": [],
   "source": [
    "plt.plot([1,2],foxdf.Cons[foxdf['Name']=='Sam'], label=\"Sam\")\n",
    "plt.plot([1,2],foxdf.Cons[foxdf['Name']=='Carlos'], label=\"Carlos\")\n",
    "plt.xlabel('Time')\n",
    "plt.ylabel('Conservatism')\n",
    "plt.plot([2,2],[4,8], linestyle=\"--\")\n",
    "plt.plot([1,1],[3,5], linestyle=\"--\")\n",
    "plt.legend()"
   ]
  },
  {
   "cell_type": "markdown",
   "id": "be23e0a9",
   "metadata": {},
   "source": [
    "What would the \"Counterfactual Sam\" think if he followed a similar trend as Carlos?"
   ]
  },
  {
   "cell_type": "code",
   "execution_count": null,
   "id": "adaae8e1",
   "metadata": {},
   "outputs": [],
   "source": [
    "plt.plot([1,2],foxdf.Cons[foxdf['Name']=='Sam'], label=\"Sam\")\n",
    "plt.plot([1,2],foxdf.Cons[foxdf['Name']=='Carlos'], label=\"Carlos\")\n",
    "plt.plot([2,2],[4,8], linestyle=\"--\")\n",
    "plt.plot([1,1],[3,5], linestyle=\"--\")\n",
    "plt.plot([1,2],[5,6], label=\"Counterfactual Sam\")\n",
    "plt.xlabel('Time')\n",
    "plt.ylabel('Conservatism')\n",
    "plt.legend()"
   ]
  },
  {
   "cell_type": "markdown",
   "id": "461656da",
   "metadata": {},
   "source": [
    "The difference between Sam and Counterfactual Same is our \"difference in difference\" estimate."
   ]
  },
  {
   "cell_type": "code",
   "execution_count": null,
   "id": "f601ec01",
   "metadata": {},
   "outputs": [],
   "source": [
    "plt.plot([1,2],foxdf.Cons[foxdf['Name']=='Sam'], label=\"Sam\")\n",
    "plt.plot([1,2],foxdf.Cons[foxdf['Name']=='Carlos'], label=\"Carlos\")\n",
    "plt.plot([2,2],[6,8], linestyle=\"--\")\n",
    "plt.plot([1,2],[5,6], label=\"Counterfactual Sam\")\n",
    "plt.xlabel('Time')\n",
    "plt.ylabel('Conservatism')\n",
    "plt.legend()"
   ]
  },
  {
   "cell_type": "markdown",
   "id": "e0569fe2",
   "metadata": {},
   "source": [
    "We can also estimate this with a regression with person and time fixed effects. (Recall that when we include a character variable smf.ols will set a base category and then create dummy variables for all other categories, and we can interpret the coeffiicnet as the difference between that category and the base category.)"
   ]
  },
  {
   "cell_type": "code",
   "execution_count": null,
   "id": "c36231da",
   "metadata": {},
   "outputs": [],
   "source": []
  },
  {
   "cell_type": "code",
   "execution_count": null,
   "id": "1c463f90",
   "metadata": {},
   "outputs": [],
   "source": []
  },
  {
   "cell_type": "markdown",
   "id": "8304d7ae",
   "metadata": {},
   "source": [
    "Let's see what things look like with a few more periods."
   ]
  },
  {
   "cell_type": "code",
   "execution_count": null,
   "id": "7d074cba",
   "metadata": {},
   "outputs": [],
   "source": [
    "samdata = pd.DataFrame({\"Name\":[\"Sam\",\"Sam\",\"Sam\",\"Sam\",\"Sam\",\"Sam\"],\n",
    "                        \"Time\":[1,2,3,4,5,6],\n",
    "                        \"Fox\": [0,0,0,1,1,1],\n",
    "                       \"Cons\":[4,4,5,8,8,7]})\n",
    "carlosdata = pd.DataFrame({\"Name\":[\"Carlos\",\"Carlos\",\"Carlos\",\"Carlos\",\"Carlos\",\"Carlos\"],\n",
    "                           \"Time\":[1,2,3,4,5,6],\n",
    "                        \"Fox\": [0,0,0,0,0,0],\n",
    "                       \"Cons\":[2,3,3,4,3,3]})"
   ]
  },
  {
   "cell_type": "markdown",
   "id": "8434c4fe",
   "metadata": {},
   "source": [
    "Plotting both:"
   ]
  },
  {
   "cell_type": "code",
   "execution_count": null,
   "id": "04fdd00f",
   "metadata": {},
   "outputs": [],
   "source": [
    "plt.plot(samdata['Time'],samdata['Cons'], label=\"Sam\")\n",
    "plt.plot(carlosdata['Time'],carlosdata['Cons'], label=\"Carlos\")\n",
    "plt.axvline(3)"
   ]
  },
  {
   "cell_type": "markdown",
   "id": "f5e34d62",
   "metadata": {},
   "source": [
    "To run a regression we need to combine the two dataframes. We can do that with the `pd.concat` function."
   ]
  },
  {
   "cell_type": "code",
   "execution_count": null,
   "id": "e39706e8",
   "metadata": {},
   "outputs": [],
   "source": [
    "alldata = pd.concat([samdata, carlosdata])\n",
    "alldata"
   ]
  },
  {
   "cell_type": "markdown",
   "id": "c7eda1ef",
   "metadata": {},
   "source": [
    "Run a regression with fox watching and fixed effects for the person and time."
   ]
  },
  {
   "cell_type": "code",
   "execution_count": null,
   "id": "dae45f21",
   "metadata": {},
   "outputs": [],
   "source": []
  },
  {
   "cell_type": "markdown",
   "id": "11cb8b0c",
   "metadata": {},
   "source": [
    "We can compare this to a difference in difference by first computing the change in Sam's average conservatism before and after watching Fox."
   ]
  },
  {
   "cell_type": "code",
   "execution_count": null,
   "id": "58743b3e",
   "metadata": {},
   "outputs": [],
   "source": [
    "diffsam = np.mean(samdata.Cons[samdata['Time'] > 3]) - np.mean(samdata.Cons[samdata['Time'] <= 3])\n",
    "diffsam"
   ]
  },
  {
   "cell_type": "markdown",
   "id": "4bc1140a",
   "metadata": {},
   "source": [
    "Now taking the change in average conservatism in Carlos, from time after *Sam* starting watching Fox to before."
   ]
  },
  {
   "cell_type": "code",
   "execution_count": null,
   "id": "f6fe93b4",
   "metadata": {},
   "outputs": [],
   "source": [
    "diffcarlos = np.mean(carlosdata.Cons[samdata['Time'] > 3]) - np.mean(carlosdata.Cons[samdata['Time'] <= 3])\n",
    "diffcarlos"
   ]
  },
  {
   "cell_type": "markdown",
   "id": "bf37c837",
   "metadata": {},
   "source": [
    "The difference in differences is then:"
   ]
  },
  {
   "cell_type": "code",
   "execution_count": null,
   "id": "e484be12",
   "metadata": {},
   "outputs": [],
   "source": []
  },
  {
   "cell_type": "code",
   "execution_count": null,
   "id": "0529812c",
   "metadata": {},
   "outputs": [],
   "source": []
  }
 ],
 "metadata": {
  "kernelspec": {
   "display_name": "Python 3 (ipykernel)",
   "language": "python",
   "name": "python3"
  },
  "language_info": {
   "codemirror_mode": {
    "name": "ipython",
    "version": 3
   },
   "file_extension": ".py",
   "mimetype": "text/x-python",
   "name": "python",
   "nbconvert_exporter": "python",
   "pygments_lexer": "ipython3",
   "version": "3.9.7"
  }
 },
 "nbformat": 4,
 "nbformat_minor": 5
}
